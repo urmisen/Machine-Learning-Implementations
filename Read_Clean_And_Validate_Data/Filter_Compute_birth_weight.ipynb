{
  "nbformat": 4,
  "nbformat_minor": 0,
  "metadata": {
    "colab": {
      "name": "Filter_Compute_birth_weight.ipynb",
      "provenance": []
    },
    "kernelspec": {
      "name": "python3",
      "display_name": "Python 3"
    },
    "language_info": {
      "name": "python"
    }
  },
  "cells": [
    {
      "cell_type": "markdown",
      "metadata": {
        "id": "tPLtpmi3Sfln"
      },
      "source": [
        "###  Filter\n",
        "In the previous exercise, you computed the mean birth weight for full-term babies; you filtered out preterm babies because their distribution of weight is different.\n",
        "\n",
        "The distribution of weight is also different for multiple births, like twins and triplets. In this exercise, you'll filter them out, too, and see what effect it has on the mean.\n",
        "\n",
        "* Use the variable 'nbrnaliv' to make a Boolean Series that is True for single births (where 'nbrnaliv' equals 1) and False otherwise.\n",
        "* Use Boolean Series and logical operators to select single, full-term babies and compute their mean birth weight.\n",
        "* For comparison, select multiple, full-term babies and compute their mean birth weight."
      ]
    },
    {
      "cell_type": "code",
      "metadata": {
        "id": "XTwG8ZQ9SabR"
      },
      "source": [
        "# Filter full-term babies\n",
        "full_term = nsfg['prglngth'] >= 37\n",
        "\n",
        "# Filter single births\n",
        "single = nsfg['nbrnaliv'] == 1\n",
        " \n",
        "# Compute birth weight for single full-term babies\n",
        "single_full_term_weight = birth_weight[single & full_term]\n",
        "print('Single full-term mean:', single_full_term_weight.mean())\n",
        "\n",
        "# Compute birth weight for multiple full-term babies\n",
        "mult_full_term_weight = birth_weight[~single & full_term]\n",
        "print('Multiple full-term mean:', mult_full_term_weight.mean())"
      ],
      "execution_count": null,
      "outputs": []
    },
    {
      "cell_type": "code",
      "metadata": {
        "id": "kdMd_mUvFVSr"
      },
      "source": [
        ""
      ],
      "execution_count": null,
      "outputs": []
    }
  ]
}