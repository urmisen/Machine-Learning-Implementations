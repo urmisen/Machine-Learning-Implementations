{
  "nbformat": 4,
  "nbformat_minor": 0,
  "metadata": {
    "colab": {
      "name": "Compute_birth_weight.ipynb",
      "provenance": []
    },
    "kernelspec": {
      "name": "python3",
      "display_name": "Python 3"
    },
    "language_info": {
      "name": "python"
    }
  },
  "cells": [
    {
      "cell_type": "markdown",
      "metadata": {
        "id": "tPLtpmi3Sfln"
      },
      "source": [
        "###  Compute birth weight\n",
        "Now let's pull together the steps in this chapter to compute the average birth weight for full-term babies.\n",
        "\n",
        "I've provided a function, resample_rows_weighted, that takes the NSFG data and resamples it using the sampling weights in wgt2013_2015. The result is a sample that is representative of the U.S. population.\n",
        "\n",
        "Then I extract birthwgt_lb1 and birthwgt_oz1, replace special codes with NaN, and compute total birth weight in pounds, birth_weight.\n",
        "\n",
        "### Resample the data\n",
        "nsfg = resample_rows_weighted(nsfg, 'wgt2013_2015')\n",
        "\n",
        "### Clean the weight variables\n",
        "pounds = nsfg['birthwgt_lb1'].replace([98, 99], np.nan)\n",
        "ounces = nsfg['birthwgt_oz1'].replace([98, 99], np.nan)\n",
        "\n",
        "### Compute total birth weight\n",
        "birth_weight = pounds + ounces/16\n",
        "\n",
        "* Make a Boolean Series called full_term that is true for babies with 'prglngth' greater than or equal to 37 weeks.\n",
        "* Use full_term and birth_weight to select birth weight in pounds for full-term babies. Store the result in full_term_weight.\n",
        "* Compute the mean weight of full-term babies."
      ]
    },
    {
      "cell_type": "code",
      "metadata": {
        "id": "XTwG8ZQ9SabR"
      },
      "source": [
        "# Create a Boolean Series for full-term babies\n",
        "full_term = nsfg.prglngth >=37\n",
        "\n",
        "# Select the weights of full-term babies\n",
        "full_term_weight = birth_weight[full_term]\n",
        "\n",
        "# Compute the mean weight of full-term babies\n",
        "print(np.mean(full_term_weight))"
      ],
      "execution_count": null,
      "outputs": []
    },
    {
      "cell_type": "code",
      "metadata": {
        "id": "kdMd_mUvFVSr"
      },
      "source": [
        ""
      ],
      "execution_count": null,
      "outputs": []
    }
  ]
}