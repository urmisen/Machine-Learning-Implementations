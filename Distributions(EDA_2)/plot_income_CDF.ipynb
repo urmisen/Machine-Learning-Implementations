{
  "nbformat": 4,
  "nbformat_minor": 0,
  "metadata": {
    "colab": {
      "name": "plot_income_CDF.ipynb",
      "provenance": []
    },
    "kernelspec": {
      "name": "python3",
      "display_name": "Python 3"
    },
    "language_info": {
      "name": "python"
    }
  },
  "cells": [
    {
      "cell_type": "markdown",
      "metadata": {
        "id": "tPLtpmi3Sfln"
      },
      "source": [
        "###  Plot income CDFs\n",
        "Let's now see what the distribution of income looks like for people with different education levels. You can do this by plotting the CDFs. Recall how Allen plotted the income CDFs of respondents interviewed before and after 1995:\n",
        "\n",
        "Cdf(income[pre95]).plot(label='Before 1995')\n",
        "Cdf(income[~pre95]).plot(label='After 1995')\n",
        "You can assume that Boolean Series have been defined, as in the previous exercise, to identify respondents with different education levels: high, assc, and bach.\n"
      ]
    },
    {
      "cell_type": "code",
      "metadata": {
        "id": "XTwG8ZQ9SabR"
      },
      "source": [
        "income = gss['realinc']\n",
        "\n",
        "# Plot the CDFs\n",
        "Cdf(income[high]).plot(label='High school')\n",
        "Cdf(income[assc]).plot(label='Associate')\n",
        "Cdf(income[bach]).plot(label='Bachelor')\n",
        "\n",
        "# Label the axes\n",
        "plt.xlabel('Income (1986 USD)')\n",
        "plt.ylabel('CDF')\n",
        "plt.legend()\n",
        "plt.show()"
      ],
      "execution_count": null,
      "outputs": []
    },
    {
      "cell_type": "code",
      "metadata": {
        "id": "kdMd_mUvFVSr"
      },
      "source": [
        ""
      ],
      "execution_count": null,
      "outputs": []
    }
  ]
}