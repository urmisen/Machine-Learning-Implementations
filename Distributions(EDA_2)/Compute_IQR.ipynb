{
  "nbformat": 4,
  "nbformat_minor": 0,
  "metadata": {
    "colab": {
      "name": "Compute_IQR.ipynb",
      "provenance": []
    },
    "kernelspec": {
      "name": "python3",
      "display_name": "Python 3"
    },
    "language_info": {
      "name": "python"
    }
  },
  "cells": [
    {
      "cell_type": "markdown",
      "metadata": {
        "id": "tPLtpmi3Sfln"
      },
      "source": [
        "###  Compute IQR\n",
        "Recall from the video that the interquartile range (IQR) is the difference between the 75th and 25th percentiles. It is a measure of variability that is robust in the presence of errors or extreme values.\n",
        "\n",
        "In this exercise, you'll compute the interquartile range of income in the GSS dataset. Income is stored in the 'realinc' column, and the CDF of income has already been computed and stored in cdf_income.\n",
        "\n",
        "* Calculate the 75th percentile of income and store it in percentile_75th.\n",
        "* Calculate the 25th percentile of income and store it in percentile_25th.\n",
        "* Calculate the interquartile range of income. Store the result in iqr."
      ]
    },
    {
      "cell_type": "code",
      "metadata": {
        "id": "XTwG8ZQ9SabR"
      },
      "source": [
        "# Calculate the 75th percentile \n",
        "percentile_75th = cdf_income.inverse(0.75)\n",
        "\n",
        "# Calculate the 25th percentile\n",
        "percentile_25th = cdf_income.inverse(0.25)\n",
        "\n",
        "# Calculate the interquartile range\n",
        "iqr = percentile_75th - percentile_25th \n",
        "\n",
        "# Print the interquartile range\n",
        "print(iqr)"
      ],
      "execution_count": null,
      "outputs": []
    },
    {
      "cell_type": "code",
      "metadata": {
        "id": "kdMd_mUvFVSr"
      },
      "source": [
        ""
      ],
      "execution_count": null,
      "outputs": []
    }
  ]
}