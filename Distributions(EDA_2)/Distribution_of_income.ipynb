{
  "nbformat": 4,
  "nbformat_minor": 0,
  "metadata": {
    "colab": {
      "name": "Distribution_of_income.ipynb",
      "provenance": []
    },
    "kernelspec": {
      "name": "python3",
      "display_name": "Python 3"
    },
    "language_info": {
      "name": "python"
    }
  },
  "cells": [
    {
      "cell_type": "markdown",
      "metadata": {
        "id": "tPLtpmi3Sfln"
      },
      "source": [
        "###  Distribution of income\n",
        "In many datasets, the distribution of income is approximately lognormal, which means that the logarithms of the incomes fit a normal distribution. We'll see whether that's true for the GSS data. As a first step, you'll compute the mean and standard deviation of the log of incomes using NumPy's np.log10() function.\n",
        "\n",
        "Then, you'll use the computed mean and standard deviation to make a norm object using the scipy.stats.norm() function.\n",
        "\n",
        "* Extract 'realinc' from gss and compute its logarithm using np.log10().\n",
        "* Compute the mean and standard deviation of the result.\n",
        "* Make a norm object by passing the computed mean and standard deviation to norm()."
      ]
    },
    {
      "cell_type": "code",
      "metadata": {
        "id": "XTwG8ZQ9SabR"
      },
      "source": [
        "# Extract realinc and compute its log\n",
        "income = gss['realinc']\n",
        "log_income = np.log10(income)\n",
        "\n",
        "# Compute mean and standard deviation\n",
        "mean = np.mean(log_income)\n",
        "std = np.std(log_income)\n",
        "print(mean, std)\n",
        "\n",
        "# Make a norm object\n",
        "from scipy.stats import norm\n",
        "dist = norm(mean,std)"
      ],
      "execution_count": null,
      "outputs": []
    },
    {
      "cell_type": "code",
      "metadata": {
        "id": "kdMd_mUvFVSr"
      },
      "source": [
        ""
      ],
      "execution_count": null,
      "outputs": []
    }
  ]
}