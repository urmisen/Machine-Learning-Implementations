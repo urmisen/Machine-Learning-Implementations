{
  "nbformat": 4,
  "nbformat_minor": 0,
  "metadata": {
    "colab": {
      "name": "Plot_a_CDF.ipynb",
      "provenance": []
    },
    "kernelspec": {
      "name": "python3",
      "display_name": "Python 3"
    },
    "language_info": {
      "name": "python"
    }
  },
  "cells": [
    {
      "cell_type": "markdown",
      "metadata": {
        "id": "tPLtpmi3Sfln"
      },
      "source": [
        "###  Plot a CDF\n",
        "The distribution of income in almost every country is long-tailed; that is, there are a small number of people with very high incomes.\n",
        "\n",
        "In the GSS dataset, the variable 'realinc' represents total household income, converted to 1986 dollars. We can get a sense of the shape of this distribution by plotting the CDF.\n",
        "\n",
        "* Select 'realinc' from the gss dataset.\n",
        "* Make a Cdf object called cdf_income.\n",
        "* Create a plot of cdf_income using .plot()."
      ]
    },
    {
      "cell_type": "code",
      "metadata": {
        "id": "XTwG8ZQ9SabR"
      },
      "source": [
        "# Select realinc\n",
        "income = gss.realinc\n",
        "\n",
        "# Make the CDF\n",
        "cdf_income = Cdf(income)\n",
        "\n",
        "# Plot it\n",
        "cdf_income.plot()\n",
        "\n",
        "# Label the axes\n",
        "plt.xlabel('Income (1986 USD)')\n",
        "plt.ylabel('CDF')\n",
        "plt.show()"
      ],
      "execution_count": null,
      "outputs": []
    },
    {
      "cell_type": "code",
      "metadata": {
        "id": "kdMd_mUvFVSr"
      },
      "source": [
        ""
      ],
      "execution_count": null,
      "outputs": []
    }
  ]
}