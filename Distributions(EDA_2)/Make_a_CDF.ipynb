{
  "nbformat": 4,
  "nbformat_minor": 0,
  "metadata": {
    "colab": {
      "name": "Make_a_CDF.ipynb",
      "provenance": []
    },
    "kernelspec": {
      "name": "python3",
      "display_name": "Python 3"
    },
    "language_info": {
      "name": "python"
    }
  },
  "cells": [
    {
      "cell_type": "markdown",
      "metadata": {
        "id": "tPLtpmi3Sfln"
      },
      "source": [
        "###  Make a CDF\n",
        "In this exercise, you'll make a CDF and use it to determine the fraction of respondents in the GSS dataset who are OLDER than 30.\n",
        "\n",
        "The GSS dataset has been preloaded for you into a DataFrame called gss.\n",
        "\n",
        "As with the Pmf class from the previous lesson, the Cdf class you just saw in the video has been created for you, and you can access it outside of DataCamp via the empiricaldist library.\n",
        "\n",
        "* Select the 'age' column. Store the result in age.\n",
        "* Compute the CDF of age. Store the result in cdf_age.\n",
        "* Calculate the CDF of 30."
      ]
    },
    {
      "cell_type": "code",
      "metadata": {
        "id": "XTwG8ZQ9SabR"
      },
      "source": [
        "# Select the age column\n",
        "age = gss['age']\n",
        "\n",
        "# Compute the CDF of age\n",
        "cdf_age = Cdf(age)\n",
        "\n",
        "# Calculate the CDF of 30\n",
        "print(cdf_age[30])"
      ],
      "execution_count": null,
      "outputs": []
    },
    {
      "cell_type": "code",
      "metadata": {
        "id": "kdMd_mUvFVSr"
      },
      "source": [
        ""
      ],
      "execution_count": null,
      "outputs": []
    }
  ]
}