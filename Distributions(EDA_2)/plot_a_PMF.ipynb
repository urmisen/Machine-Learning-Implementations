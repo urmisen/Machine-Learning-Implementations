{
  "nbformat": 4,
  "nbformat_minor": 0,
  "metadata": {
    "colab": {
      "name": "plot_a_PMF.ipynb",
      "provenance": []
    },
    "kernelspec": {
      "name": "python3",
      "display_name": "Python 3"
    },
    "language_info": {
      "name": "python"
    }
  },
  "cells": [
    {
      "cell_type": "markdown",
      "metadata": {
        "id": "tPLtpmi3Sfln"
      },
      "source": [
        "###  Plot a PMF\n",
        "Now let's plot a PMF for the age of the respondents in the GSS dataset. The variable 'age' contains respondents' age in years.\n",
        "\n",
        "* Select the 'age' column from the gss DataFrame and store the result in age.\n",
        "* Make a normalized PMF of age. Store the result in pmf_age.\n",
        "* Plot pmf_age as a bar chart.\n"
      ]
    },
    {
      "cell_type": "code",
      "metadata": {
        "id": "XTwG8ZQ9SabR"
      },
      "source": [
        "# Select the age column\n",
        "age = gss['age']\n",
        "\n",
        "# Make a PMF of age\n",
        "pmf_age = Pmf(age)\n",
        "\n",
        "# Plot the PMF\n",
        "pmf_age.bar()\n",
        "\n",
        "# Label the axes\n",
        "plt.xlabel('Age')\n",
        "plt.ylabel('PMF')\n",
        "plt.show()"
      ],
      "execution_count": null,
      "outputs": []
    },
    {
      "cell_type": "code",
      "metadata": {
        "id": "kdMd_mUvFVSr"
      },
      "source": [
        ""
      ],
      "execution_count": null,
      "outputs": []
    }
  ]
}