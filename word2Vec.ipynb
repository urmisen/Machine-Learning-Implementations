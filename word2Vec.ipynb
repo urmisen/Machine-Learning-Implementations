{
  "nbformat": 4,
  "nbformat_minor": 0,
  "metadata": {
    "colab": {
      "name": "word2Vec.ipynb",
      "provenance": [],
      "collapsed_sections": []
    },
    "kernelspec": {
      "name": "python3",
      "display_name": "Python 3"
    },
    "language_info": {
      "name": "python"
    }
  },
  "cells": [
    {
      "cell_type": "code",
      "metadata": {
        "colab": {
          "base_uri": "https://localhost:8080/"
        },
        "id": "EBSdleIkpS3N",
        "outputId": "0056b7b8-456e-4cc6-cbab-eb38f3033e6a"
      },
      "source": [
        "!pip install tensorflow keras numpy matplotlib pandas sklearn biopython  nltk"
      ],
      "execution_count": 2,
      "outputs": [
        {
          "output_type": "stream",
          "text": [
            "Requirement already satisfied: tensorflow in /usr/local/lib/python3.7/dist-packages (2.4.1)\n",
            "Requirement already satisfied: keras in /usr/local/lib/python3.7/dist-packages (2.4.3)\n",
            "Requirement already satisfied: numpy in /usr/local/lib/python3.7/dist-packages (1.19.5)\n",
            "Requirement already satisfied: matplotlib in /usr/local/lib/python3.7/dist-packages (3.2.2)\n",
            "Requirement already satisfied: pandas in /usr/local/lib/python3.7/dist-packages (1.1.5)\n",
            "Requirement already satisfied: sklearn in /usr/local/lib/python3.7/dist-packages (0.0)\n",
            "Collecting biopython\n",
            "\u001b[?25l  Downloading https://files.pythonhosted.org/packages/3a/cd/0098eaff841850c01da928c7f509b72fd3e1f51d77b772e24de9e2312471/biopython-1.78-cp37-cp37m-manylinux1_x86_64.whl (2.3MB)\n",
            "\u001b[K     |████████████████████████████████| 2.3MB 6.7MB/s \n",
            "\u001b[?25hRequirement already satisfied: nltk in /usr/local/lib/python3.7/dist-packages (3.2.5)\n",
            "Requirement already satisfied: termcolor~=1.1.0 in /usr/local/lib/python3.7/dist-packages (from tensorflow) (1.1.0)\n",
            "Requirement already satisfied: typing-extensions~=3.7.4 in /usr/local/lib/python3.7/dist-packages (from tensorflow) (3.7.4.3)\n",
            "Requirement already satisfied: tensorflow-estimator<2.5.0,>=2.4.0 in /usr/local/lib/python3.7/dist-packages (from tensorflow) (2.4.0)\n",
            "Requirement already satisfied: wheel~=0.35 in /usr/local/lib/python3.7/dist-packages (from tensorflow) (0.36.2)\n",
            "Requirement already satisfied: wrapt~=1.12.1 in /usr/local/lib/python3.7/dist-packages (from tensorflow) (1.12.1)\n",
            "Requirement already satisfied: tensorboard~=2.4 in /usr/local/lib/python3.7/dist-packages (from tensorflow) (2.4.1)\n",
            "Requirement already satisfied: opt-einsum~=3.3.0 in /usr/local/lib/python3.7/dist-packages (from tensorflow) (3.3.0)\n",
            "Requirement already satisfied: gast==0.3.3 in /usr/local/lib/python3.7/dist-packages (from tensorflow) (0.3.3)\n",
            "Requirement already satisfied: google-pasta~=0.2 in /usr/local/lib/python3.7/dist-packages (from tensorflow) (0.2.0)\n",
            "Requirement already satisfied: six~=1.15.0 in /usr/local/lib/python3.7/dist-packages (from tensorflow) (1.15.0)\n",
            "Requirement already satisfied: absl-py~=0.10 in /usr/local/lib/python3.7/dist-packages (from tensorflow) (0.12.0)\n",
            "Requirement already satisfied: astunparse~=1.6.3 in /usr/local/lib/python3.7/dist-packages (from tensorflow) (1.6.3)\n",
            "Requirement already satisfied: protobuf>=3.9.2 in /usr/local/lib/python3.7/dist-packages (from tensorflow) (3.12.4)\n",
            "Requirement already satisfied: flatbuffers~=1.12.0 in /usr/local/lib/python3.7/dist-packages (from tensorflow) (1.12)\n",
            "Requirement already satisfied: grpcio~=1.32.0 in /usr/local/lib/python3.7/dist-packages (from tensorflow) (1.32.0)\n",
            "Requirement already satisfied: keras-preprocessing~=1.1.2 in /usr/local/lib/python3.7/dist-packages (from tensorflow) (1.1.2)\n",
            "Requirement already satisfied: h5py~=2.10.0 in /usr/local/lib/python3.7/dist-packages (from tensorflow) (2.10.0)\n",
            "Requirement already satisfied: pyyaml in /usr/local/lib/python3.7/dist-packages (from keras) (3.13)\n",
            "Requirement already satisfied: scipy>=0.14 in /usr/local/lib/python3.7/dist-packages (from keras) (1.4.1)\n",
            "Requirement already satisfied: cycler>=0.10 in /usr/local/lib/python3.7/dist-packages (from matplotlib) (0.10.0)\n",
            "Requirement already satisfied: python-dateutil>=2.1 in /usr/local/lib/python3.7/dist-packages (from matplotlib) (2.8.1)\n",
            "Requirement already satisfied: pyparsing!=2.0.4,!=2.1.2,!=2.1.6,>=2.0.1 in /usr/local/lib/python3.7/dist-packages (from matplotlib) (2.4.7)\n",
            "Requirement already satisfied: kiwisolver>=1.0.1 in /usr/local/lib/python3.7/dist-packages (from matplotlib) (1.3.1)\n",
            "Requirement already satisfied: pytz>=2017.2 in /usr/local/lib/python3.7/dist-packages (from pandas) (2018.9)\n",
            "Requirement already satisfied: scikit-learn in /usr/local/lib/python3.7/dist-packages (from sklearn) (0.22.2.post1)\n",
            "Requirement already satisfied: tensorboard-plugin-wit>=1.6.0 in /usr/local/lib/python3.7/dist-packages (from tensorboard~=2.4->tensorflow) (1.8.0)\n",
            "Requirement already satisfied: werkzeug>=0.11.15 in /usr/local/lib/python3.7/dist-packages (from tensorboard~=2.4->tensorflow) (1.0.1)\n",
            "Requirement already satisfied: markdown>=2.6.8 in /usr/local/lib/python3.7/dist-packages (from tensorboard~=2.4->tensorflow) (3.3.4)\n",
            "Requirement already satisfied: requests<3,>=2.21.0 in /usr/local/lib/python3.7/dist-packages (from tensorboard~=2.4->tensorflow) (2.23.0)\n",
            "Requirement already satisfied: setuptools>=41.0.0 in /usr/local/lib/python3.7/dist-packages (from tensorboard~=2.4->tensorflow) (56.0.0)\n",
            "Requirement already satisfied: google-auth-oauthlib<0.5,>=0.4.1 in /usr/local/lib/python3.7/dist-packages (from tensorboard~=2.4->tensorflow) (0.4.4)\n",
            "Requirement already satisfied: google-auth<2,>=1.6.3 in /usr/local/lib/python3.7/dist-packages (from tensorboard~=2.4->tensorflow) (1.28.1)\n",
            "Requirement already satisfied: joblib>=0.11 in /usr/local/lib/python3.7/dist-packages (from scikit-learn->sklearn) (1.0.1)\n",
            "Requirement already satisfied: importlib-metadata; python_version < \"3.8\" in /usr/local/lib/python3.7/dist-packages (from markdown>=2.6.8->tensorboard~=2.4->tensorflow) (3.10.1)\n",
            "Requirement already satisfied: urllib3!=1.25.0,!=1.25.1,<1.26,>=1.21.1 in /usr/local/lib/python3.7/dist-packages (from requests<3,>=2.21.0->tensorboard~=2.4->tensorflow) (1.24.3)\n",
            "Requirement already satisfied: idna<3,>=2.5 in /usr/local/lib/python3.7/dist-packages (from requests<3,>=2.21.0->tensorboard~=2.4->tensorflow) (2.10)\n",
            "Requirement already satisfied: certifi>=2017.4.17 in /usr/local/lib/python3.7/dist-packages (from requests<3,>=2.21.0->tensorboard~=2.4->tensorflow) (2020.12.5)\n",
            "Requirement already satisfied: chardet<4,>=3.0.2 in /usr/local/lib/python3.7/dist-packages (from requests<3,>=2.21.0->tensorboard~=2.4->tensorflow) (3.0.4)\n",
            "Requirement already satisfied: requests-oauthlib>=0.7.0 in /usr/local/lib/python3.7/dist-packages (from google-auth-oauthlib<0.5,>=0.4.1->tensorboard~=2.4->tensorflow) (1.3.0)\n",
            "Requirement already satisfied: pyasn1-modules>=0.2.1 in /usr/local/lib/python3.7/dist-packages (from google-auth<2,>=1.6.3->tensorboard~=2.4->tensorflow) (0.2.8)\n",
            "Requirement already satisfied: rsa<5,>=3.1.4; python_version >= \"3.6\" in /usr/local/lib/python3.7/dist-packages (from google-auth<2,>=1.6.3->tensorboard~=2.4->tensorflow) (4.7.2)\n",
            "Requirement already satisfied: cachetools<5.0,>=2.0.0 in /usr/local/lib/python3.7/dist-packages (from google-auth<2,>=1.6.3->tensorboard~=2.4->tensorflow) (4.2.1)\n",
            "Requirement already satisfied: zipp>=0.5 in /usr/local/lib/python3.7/dist-packages (from importlib-metadata; python_version < \"3.8\"->markdown>=2.6.8->tensorboard~=2.4->tensorflow) (3.4.1)\n",
            "Requirement already satisfied: oauthlib>=3.0.0 in /usr/local/lib/python3.7/dist-packages (from requests-oauthlib>=0.7.0->google-auth-oauthlib<0.5,>=0.4.1->tensorboard~=2.4->tensorflow) (3.1.0)\n",
            "Requirement already satisfied: pyasn1<0.5.0,>=0.4.6 in /usr/local/lib/python3.7/dist-packages (from pyasn1-modules>=0.2.1->google-auth<2,>=1.6.3->tensorboard~=2.4->tensorflow) (0.4.8)\n",
            "Installing collected packages: biopython\n",
            "Successfully installed biopython-1.78\n"
          ],
          "name": "stdout"
        }
      ]
    },
    {
      "cell_type": "code",
      "metadata": {
        "colab": {
          "base_uri": "https://localhost:8080/"
        },
        "id": "DIa4ScMoq0CI",
        "outputId": "a97f3103-c60d-4c1b-da7f-2b2ffedf9822"
      },
      "source": [
        "import nltk\n",
        "nltk.download('popular')\n",
        "from nltk.stem import WordNetLemmatizer\n",
        "from nltk.corpus import stopwords\n",
        "import re\n",
        "from nltk.corpus import stopwords\n",
        "from nltk.stem.porter import PorterStemmer\n",
        "from nltk.stem import WordNetLemmatizer\n",
        "import pandas as pd\n",
        "from gensim.models import Word2Vec"
      ],
      "execution_count": 3,
      "outputs": [
        {
          "output_type": "stream",
          "text": [
            "[nltk_data] Downloading collection 'popular'\n",
            "[nltk_data]    | \n",
            "[nltk_data]    | Downloading package cmudict to /root/nltk_data...\n",
            "[nltk_data]    |   Unzipping corpora/cmudict.zip.\n",
            "[nltk_data]    | Downloading package gazetteers to /root/nltk_data...\n",
            "[nltk_data]    |   Unzipping corpora/gazetteers.zip.\n",
            "[nltk_data]    | Downloading package genesis to /root/nltk_data...\n",
            "[nltk_data]    |   Unzipping corpora/genesis.zip.\n",
            "[nltk_data]    | Downloading package gutenberg to /root/nltk_data...\n",
            "[nltk_data]    |   Unzipping corpora/gutenberg.zip.\n",
            "[nltk_data]    | Downloading package inaugural to /root/nltk_data...\n",
            "[nltk_data]    |   Unzipping corpora/inaugural.zip.\n",
            "[nltk_data]    | Downloading package movie_reviews to\n",
            "[nltk_data]    |     /root/nltk_data...\n",
            "[nltk_data]    |   Unzipping corpora/movie_reviews.zip.\n",
            "[nltk_data]    | Downloading package names to /root/nltk_data...\n",
            "[nltk_data]    |   Unzipping corpora/names.zip.\n",
            "[nltk_data]    | Downloading package shakespeare to /root/nltk_data...\n",
            "[nltk_data]    |   Unzipping corpora/shakespeare.zip.\n",
            "[nltk_data]    | Downloading package stopwords to /root/nltk_data...\n",
            "[nltk_data]    |   Unzipping corpora/stopwords.zip.\n",
            "[nltk_data]    | Downloading package treebank to /root/nltk_data...\n",
            "[nltk_data]    |   Unzipping corpora/treebank.zip.\n",
            "[nltk_data]    | Downloading package twitter_samples to\n",
            "[nltk_data]    |     /root/nltk_data...\n",
            "[nltk_data]    |   Unzipping corpora/twitter_samples.zip.\n",
            "[nltk_data]    | Downloading package omw to /root/nltk_data...\n",
            "[nltk_data]    |   Unzipping corpora/omw.zip.\n",
            "[nltk_data]    | Downloading package wordnet to /root/nltk_data...\n",
            "[nltk_data]    |   Unzipping corpora/wordnet.zip.\n",
            "[nltk_data]    | Downloading package wordnet_ic to /root/nltk_data...\n",
            "[nltk_data]    |   Unzipping corpora/wordnet_ic.zip.\n",
            "[nltk_data]    | Downloading package words to /root/nltk_data...\n",
            "[nltk_data]    |   Unzipping corpora/words.zip.\n",
            "[nltk_data]    | Downloading package maxent_ne_chunker to\n",
            "[nltk_data]    |     /root/nltk_data...\n",
            "[nltk_data]    |   Unzipping chunkers/maxent_ne_chunker.zip.\n",
            "[nltk_data]    | Downloading package punkt to /root/nltk_data...\n",
            "[nltk_data]    |   Unzipping tokenizers/punkt.zip.\n",
            "[nltk_data]    | Downloading package snowball_data to\n",
            "[nltk_data]    |     /root/nltk_data...\n",
            "[nltk_data]    | Downloading package averaged_perceptron_tagger to\n",
            "[nltk_data]    |     /root/nltk_data...\n",
            "[nltk_data]    |   Unzipping taggers/averaged_perceptron_tagger.zip.\n",
            "[nltk_data]    | \n",
            "[nltk_data]  Done downloading collection popular\n"
          ],
          "name": "stdout"
        }
      ]
    },
    {
      "cell_type": "code",
      "metadata": {
        "id": "l7cXTdZdzFuS"
      },
      "source": [
        "\n",
        "\n",
        "paragraph = \"\"\"I have three visions for India. In 3000 years of our history, people from all over \n",
        "               the world have come and invaded us, captured our lands, conquered our minds. \n",
        "               From Alexander onwards, the Greeks, the Turks, the Moguls, the Portuguese, the British,\n",
        "               the French, the Dutch, all of them came and looted us, took over what was ours. \n",
        "               Yet we have not done this to any other nation. We have not conquered anyone. \n",
        "               We have not grabbed their land, their culture, \n",
        "               their history and tried to enforce our way of life on them. \n",
        "               Why? Because we respect the freedom of others.That is why my \n",
        "               first vision is that of freedom. I believe that India got its first vision of \n",
        "               this in 1857, when we started the War of Independence. It is this freedom that\n",
        "               we must protect and nurture and build on. If we are not free, no one will respect us.\n",
        "               My second vision for India’s development. For fifty years we have been a developing nation.\n",
        "               It is time we see ourselves as a developed nation. We are among the top 5 nations of the world\n",
        "               in terms of GDP. We have a 10 percent growth rate in most areas. Our poverty levels are falling.\n",
        "               Our achievements are being globally recognised today. Yet we lack the self-confidence to\n",
        "               see ourselves as a developed nation, self-reliant and self-assured. Isn’t this incorrect?\n",
        "               I have a third vision. India must stand up to the world. Because I believe that unless India \n",
        "               stands up to the world, no one will respect us. Only strength respects strength. We must be \n",
        "               strong not only as a military power but also as an economic power. Both must go hand-in-hand. \n",
        "               My good fortune was to have worked with three great minds. Dr. Vikram Sarabhai of the Dept. of \n",
        "               space, Professor Satish Dhawan, who succeeded him and Dr. Brahm Prakash, father of nuclear material.\n",
        "               I was lucky to have worked with all three of them closely and consider this the great opportunity of my life. \n",
        "               I see four milestones in my career\"\"\"\n",
        "\n",
        "\n",
        "\n"
      ],
      "execution_count": 4,
      "outputs": []
    },
    {
      "cell_type": "code",
      "metadata": {
        "id": "UFQfvUVw4yhz"
      },
      "source": [
        "# Preprocessing the data\n",
        "text = re.sub(r'\\[[0-9]*\\]',' ',paragraph)\n",
        "text = re.sub(r'\\s+',' ',text)\n",
        "text = text.lower()\n",
        "text = re.sub(r'\\d',' ',text)\n",
        "text = re.sub(r'\\s+',' ',text)\n",
        "\n"
      ],
      "execution_count": 5,
      "outputs": []
    },
    {
      "cell_type": "code",
      "metadata": {
        "colab": {
          "base_uri": "https://localhost:8080/"
        },
        "id": "DRdFx7-u412j",
        "outputId": "21881e8d-1478-47c2-d133-c08e4dad1c4f"
      },
      "source": [
        "# Preparing the dataset\n",
        "sentences = nltk.sent_tokenize(text)\n",
        "\n",
        "sentences = [nltk.word_tokenize(sentence) for sentence in sentences]\n",
        "\n",
        "for i in range(len(sentences)):\n",
        "    sentences[i] = [word for word in sentences[i] if word not in stopwords.words('english')]\n",
        "    \n",
        "print(sentences[0:5])\n"
      ],
      "execution_count": 8,
      "outputs": [
        {
          "output_type": "stream",
          "text": [
            "[['three', 'visions', 'india', '.'], ['years', 'history', ',', 'people', 'world', 'come', 'invaded', 'us', ',', 'captured', 'lands', ',', 'conquered', 'minds', '.'], ['alexander', 'onwards', ',', 'greeks', ',', 'turks', ',', 'moguls', ',', 'portuguese', ',', 'british', ',', 'french', ',', 'dutch', ',', 'came', 'looted', 'us', ',', 'took', '.'], ['yet', 'done', 'nation', '.'], ['conquered', 'anyone', '.']]\n"
          ],
          "name": "stdout"
        }
      ]
    },
    {
      "cell_type": "code",
      "metadata": {
        "colab": {
          "base_uri": "https://localhost:8080/"
        },
        "id": "KFbkN68y438g",
        "outputId": "6aba8f3b-679b-4e06-9edc-252ca22ac4be"
      },
      "source": [
        "# Training the Word2Vec model\n",
        "model = Word2Vec(sentences, min_count=1)\n",
        "\n",
        "print(model)\n",
        "words = model.wv.vocab\n",
        "print(words)\n",
        "# Finding Word Vectors\n",
        "vector = model.wv['war']\n",
        "print(vector[0:5])\n",
        "\n",
        "# Most similar words\n",
        "similar = model.wv.most_similar('vikram')\n",
        "print(similar[0:5])"
      ],
      "execution_count": 13,
      "outputs": [
        {
          "output_type": "stream",
          "text": [
            "Word2Vec(vocab=123, size=100, alpha=0.025)\n",
            "{'three': <gensim.models.keyedvectors.Vocab object at 0x7fc402bc2b90>, 'visions': <gensim.models.keyedvectors.Vocab object at 0x7fc402bc2a10>, 'india': <gensim.models.keyedvectors.Vocab object at 0x7fc402bc2a90>, '.': <gensim.models.keyedvectors.Vocab object at 0x7fc402bc24d0>, 'years': <gensim.models.keyedvectors.Vocab object at 0x7fc402bc2750>, 'history': <gensim.models.keyedvectors.Vocab object at 0x7fc3fceef510>, ',': <gensim.models.keyedvectors.Vocab object at 0x7fc3fceefa50>, 'people': <gensim.models.keyedvectors.Vocab object at 0x7fc3fceefe90>, 'world': <gensim.models.keyedvectors.Vocab object at 0x7fc402bc2d10>, 'come': <gensim.models.keyedvectors.Vocab object at 0x7fc3fceefe10>, 'invaded': <gensim.models.keyedvectors.Vocab object at 0x7fc3fceef650>, 'us': <gensim.models.keyedvectors.Vocab object at 0x7fc3fceefc10>, 'captured': <gensim.models.keyedvectors.Vocab object at 0x7fc3fceef950>, 'lands': <gensim.models.keyedvectors.Vocab object at 0x7fc3fceef8d0>, 'conquered': <gensim.models.keyedvectors.Vocab object at 0x7fc3fceefb90>, 'minds': <gensim.models.keyedvectors.Vocab object at 0x7fc3fceef2d0>, 'alexander': <gensim.models.keyedvectors.Vocab object at 0x7fc3fceef850>, 'onwards': <gensim.models.keyedvectors.Vocab object at 0x7fc3fceefad0>, 'greeks': <gensim.models.keyedvectors.Vocab object at 0x7fc3fceefc90>, 'turks': <gensim.models.keyedvectors.Vocab object at 0x7fc3fceef390>, 'moguls': <gensim.models.keyedvectors.Vocab object at 0x7fc3fceef250>, 'portuguese': <gensim.models.keyedvectors.Vocab object at 0x7fc3fceefe50>, 'british': <gensim.models.keyedvectors.Vocab object at 0x7fc3fceef3d0>, 'french': <gensim.models.keyedvectors.Vocab object at 0x7fc3fceef290>, 'dutch': <gensim.models.keyedvectors.Vocab object at 0x7fc3fceef9d0>, 'came': <gensim.models.keyedvectors.Vocab object at 0x7fc3fceef910>, 'looted': <gensim.models.keyedvectors.Vocab object at 0x7fc3fceef6d0>, 'took': <gensim.models.keyedvectors.Vocab object at 0x7fc3fceefd50>, 'yet': <gensim.models.keyedvectors.Vocab object at 0x7fc3fceef7d0>, 'done': <gensim.models.keyedvectors.Vocab object at 0x7fc3fceefa90>, 'nation': <gensim.models.keyedvectors.Vocab object at 0x7fc3fceefb10>, 'anyone': <gensim.models.keyedvectors.Vocab object at 0x7fc3fceefbd0>, 'grabbed': <gensim.models.keyedvectors.Vocab object at 0x7fc3fceef810>, 'land': <gensim.models.keyedvectors.Vocab object at 0x7fc3fceef450>, 'culture': <gensim.models.keyedvectors.Vocab object at 0x7fc3fceef5d0>, 'tried': <gensim.models.keyedvectors.Vocab object at 0x7fc3fceef310>, 'enforce': <gensim.models.keyedvectors.Vocab object at 0x7fc3fceef110>, 'way': <gensim.models.keyedvectors.Vocab object at 0x7fc402bc1b90>, 'life': <gensim.models.keyedvectors.Vocab object at 0x7fc402bc1d10>, '?': <gensim.models.keyedvectors.Vocab object at 0x7fc402bc1890>, 'respect': <gensim.models.keyedvectors.Vocab object at 0x7fc402bc1dd0>, 'freedom': <gensim.models.keyedvectors.Vocab object at 0x7fc402bc1550>, 'others.that': <gensim.models.keyedvectors.Vocab object at 0x7fc402bc1a10>, 'first': <gensim.models.keyedvectors.Vocab object at 0x7fc402bc1ed0>, 'vision': <gensim.models.keyedvectors.Vocab object at 0x7fc402bc1ad0>, 'believe': <gensim.models.keyedvectors.Vocab object at 0x7fc402bc1c90>, 'got': <gensim.models.keyedvectors.Vocab object at 0x7fc402bc1750>, 'started': <gensim.models.keyedvectors.Vocab object at 0x7fc402bc18d0>, 'war': <gensim.models.keyedvectors.Vocab object at 0x7fc402bc1110>, 'independence': <gensim.models.keyedvectors.Vocab object at 0x7fc402bc1050>, 'must': <gensim.models.keyedvectors.Vocab object at 0x7fc402bc1f50>, 'protect': <gensim.models.keyedvectors.Vocab object at 0x7fc402bc1e90>, 'nurture': <gensim.models.keyedvectors.Vocab object at 0x7fc402bc1e50>, 'build': <gensim.models.keyedvectors.Vocab object at 0x7fc402bc1e10>, 'free': <gensim.models.keyedvectors.Vocab object at 0x7fc402bc1c50>, 'one': <gensim.models.keyedvectors.Vocab object at 0x7fc402bc1bd0>, 'second': <gensim.models.keyedvectors.Vocab object at 0x7fc402bc1a90>, '’': <gensim.models.keyedvectors.Vocab object at 0x7fc402bc1910>, 'development': <gensim.models.keyedvectors.Vocab object at 0x7fc402bc1610>, 'fifty': <gensim.models.keyedvectors.Vocab object at 0x7fc402bc1590>, 'developing': <gensim.models.keyedvectors.Vocab object at 0x7fc402bc1350>, 'time': <gensim.models.keyedvectors.Vocab object at 0x7fc402bc1190>, 'see': <gensim.models.keyedvectors.Vocab object at 0x7fc402bc1150>, 'developed': <gensim.models.keyedvectors.Vocab object at 0x7fc402bc1090>, 'among': <gensim.models.keyedvectors.Vocab object at 0x7fc402bc1710>, 'top': <gensim.models.keyedvectors.Vocab object at 0x7fc402bc1950>, 'nations': <gensim.models.keyedvectors.Vocab object at 0x7fc4060d3390>, 'terms': <gensim.models.keyedvectors.Vocab object at 0x7fc400afa0d0>, 'gdp': <gensim.models.keyedvectors.Vocab object at 0x7fc3fe558790>, 'percent': <gensim.models.keyedvectors.Vocab object at 0x7fc3fe0489d0>, 'growth': <gensim.models.keyedvectors.Vocab object at 0x7fc3fe048a90>, 'rate': <gensim.models.keyedvectors.Vocab object at 0x7fc3fe0480d0>, 'areas': <gensim.models.keyedvectors.Vocab object at 0x7fc3fe0487d0>, 'poverty': <gensim.models.keyedvectors.Vocab object at 0x7fc3fe048350>, 'levels': <gensim.models.keyedvectors.Vocab object at 0x7fc3fe048190>, 'falling': <gensim.models.keyedvectors.Vocab object at 0x7fc402d60f50>, 'achievements': <gensim.models.keyedvectors.Vocab object at 0x7fc402d60490>, 'globally': <gensim.models.keyedvectors.Vocab object at 0x7fc402d60050>, 'recognised': <gensim.models.keyedvectors.Vocab object at 0x7fc402d60e50>, 'today': <gensim.models.keyedvectors.Vocab object at 0x7fc402d60bd0>, 'lack': <gensim.models.keyedvectors.Vocab object at 0x7fc402d60350>, 'self-confidence': <gensim.models.keyedvectors.Vocab object at 0x7fc402d60750>, 'self-reliant': <gensim.models.keyedvectors.Vocab object at 0x7fc402d605d0>, 'self-assured': <gensim.models.keyedvectors.Vocab object at 0x7fc402d60450>, 'incorrect': <gensim.models.keyedvectors.Vocab object at 0x7fc402d60790>, 'third': <gensim.models.keyedvectors.Vocab object at 0x7fc402d60d10>, 'stand': <gensim.models.keyedvectors.Vocab object at 0x7fc402d60810>, 'unless': <gensim.models.keyedvectors.Vocab object at 0x7fc402d60590>, 'stands': <gensim.models.keyedvectors.Vocab object at 0x7fc402d607d0>, 'strength': <gensim.models.keyedvectors.Vocab object at 0x7fc402d60a10>, 'respects': <gensim.models.keyedvectors.Vocab object at 0x7fc3fdff9790>, 'strong': <gensim.models.keyedvectors.Vocab object at 0x7fc3fdff9a10>, 'military': <gensim.models.keyedvectors.Vocab object at 0x7fc3fdff96d0>, 'power': <gensim.models.keyedvectors.Vocab object at 0x7fc3fdff9950>, 'also': <gensim.models.keyedvectors.Vocab object at 0x7fc3fdff9650>, 'economic': <gensim.models.keyedvectors.Vocab object at 0x7fc3fdff9890>, 'go': <gensim.models.keyedvectors.Vocab object at 0x7fc3fdf92590>, 'hand-in-hand': <gensim.models.keyedvectors.Vocab object at 0x7fc3fdf92b10>, 'good': <gensim.models.keyedvectors.Vocab object at 0x7fc3fdf92250>, 'fortune': <gensim.models.keyedvectors.Vocab object at 0x7fc3fdf92a90>, 'worked': <gensim.models.keyedvectors.Vocab object at 0x7fc3fdf92190>, 'great': <gensim.models.keyedvectors.Vocab object at 0x7fc3fdf92150>, 'dr.': <gensim.models.keyedvectors.Vocab object at 0x7fc3fdf92bd0>, 'vikram': <gensim.models.keyedvectors.Vocab object at 0x7fc3fdf92490>, 'sarabhai': <gensim.models.keyedvectors.Vocab object at 0x7fc3fdf92550>, 'dept': <gensim.models.keyedvectors.Vocab object at 0x7fc3fdf925d0>, 'space': <gensim.models.keyedvectors.Vocab object at 0x7fc3fdf92210>, 'professor': <gensim.models.keyedvectors.Vocab object at 0x7fc3fdf920d0>, 'satish': <gensim.models.keyedvectors.Vocab object at 0x7fc3fdf92790>, 'dhawan': <gensim.models.keyedvectors.Vocab object at 0x7fc3fdf92950>, 'succeeded': <gensim.models.keyedvectors.Vocab object at 0x7fc3fdf92090>, 'brahm': <gensim.models.keyedvectors.Vocab object at 0x7fc3fdf923d0>, 'prakash': <gensim.models.keyedvectors.Vocab object at 0x7fc3fdf92910>, 'father': <gensim.models.keyedvectors.Vocab object at 0x7fc3fdf92050>, 'nuclear': <gensim.models.keyedvectors.Vocab object at 0x7fc3fdf92610>, 'material': <gensim.models.keyedvectors.Vocab object at 0x7fc3fdf926d0>, 'lucky': <gensim.models.keyedvectors.Vocab object at 0x7fc3fdf92750>, 'closely': <gensim.models.keyedvectors.Vocab object at 0x7fc3fdf92390>, 'consider': <gensim.models.keyedvectors.Vocab object at 0x7fc3fdf92b50>, 'opportunity': <gensim.models.keyedvectors.Vocab object at 0x7fc3fdf929d0>, 'four': <gensim.models.keyedvectors.Vocab object at 0x7fc3fdf92990>, 'milestones': <gensim.models.keyedvectors.Vocab object at 0x7fc3fdf92450>, 'career': <gensim.models.keyedvectors.Vocab object at 0x7fc3fdf92650>}\n",
            "[ 0.00360265 -0.0015877  -0.0048485   0.00159097  0.00269204]\n",
            "[('military', 0.25192511081695557), ('economic', 0.22008755803108215), ('terms', 0.1912088841199875), ('done', 0.18415845930576324), ('minds', 0.16059610247612)]\n"
          ],
          "name": "stdout"
        }
      ]
    },
    {
      "cell_type": "code",
      "metadata": {
        "id": "2zzwkEPn5Eu5"
      },
      "source": [
        ""
      ],
      "execution_count": null,
      "outputs": []
    }
  ]
}