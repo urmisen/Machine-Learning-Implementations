{
  "nbformat": 4,
  "nbformat_minor": 0,
  "metadata": {
    "kernelspec": {
      "display_name": "Python 3",
      "language": "python",
      "name": "python3"
    },
    "language_info": {
      "codemirror_mode": {
        "name": "ipython",
        "version": 3
      },
      "file_extension": ".py",
      "mimetype": "text/x-python",
      "name": "python",
      "nbconvert_exporter": "python",
      "pygments_lexer": "ipython3",
      "version": "3.6.10"
    },
    "colab": {
      "name": "Fake_News_Classifcation_Countvectorizer.ipynb",
      "provenance": []
    }
  },
  "cells": [
    {
      "cell_type": "markdown",
      "metadata": {
        "id": "rHwDO4_sNBWN"
      },
      "source": [
        "### Fake News Classifier"
      ]
    },
    {
      "cell_type": "code",
      "metadata": {
        "colab": {
          "base_uri": "https://localhost:8080/"
        },
        "id": "ZyAtmaqsNVmU",
        "outputId": "80f238a1-d65a-4973-be28-cba901e30ef4"
      },
      "source": [
        "from google.colab import drive\n",
        "drive.mount('/content/drive/')"
      ],
      "execution_count": 1,
      "outputs": [
        {
          "output_type": "stream",
          "text": [
            "Drive already mounted at /content/drive/; to attempt to forcibly remount, call drive.mount(\"/content/drive/\", force_remount=True).\n"
          ],
          "name": "stdout"
        }
      ]
    },
    {
      "cell_type": "code",
      "metadata": {
        "colab": {
          "base_uri": "https://localhost:8080/"
        },
        "id": "N6PLuRjvNXfS",
        "outputId": "eeab11dc-9c72-4468-8c19-c0d901767fd9"
      },
      "source": [
        "!pip install tensorflow keras numpy matplotlib pandas sklearn biopython nltk"
      ],
      "execution_count": 2,
      "outputs": [
        {
          "output_type": "stream",
          "text": [
            "Requirement already satisfied: tensorflow in /usr/local/lib/python3.7/dist-packages (2.4.1)\n",
            "Requirement already satisfied: keras in /usr/local/lib/python3.7/dist-packages (2.4.3)\n",
            "Requirement already satisfied: numpy in /usr/local/lib/python3.7/dist-packages (1.19.5)\n",
            "Requirement already satisfied: matplotlib in /usr/local/lib/python3.7/dist-packages (3.2.2)\n",
            "Requirement already satisfied: pandas in /usr/local/lib/python3.7/dist-packages (1.1.5)\n",
            "Requirement already satisfied: sklearn in /usr/local/lib/python3.7/dist-packages (0.0)\n",
            "Requirement already satisfied: biopython in /usr/local/lib/python3.7/dist-packages (1.78)\n",
            "Requirement already satisfied: nltk in /usr/local/lib/python3.7/dist-packages (3.2.5)\n",
            "Requirement already satisfied: typing-extensions~=3.7.4 in /usr/local/lib/python3.7/dist-packages (from tensorflow) (3.7.4.3)\n",
            "Requirement already satisfied: h5py~=2.10.0 in /usr/local/lib/python3.7/dist-packages (from tensorflow) (2.10.0)\n",
            "Requirement already satisfied: google-pasta~=0.2 in /usr/local/lib/python3.7/dist-packages (from tensorflow) (0.2.0)\n",
            "Requirement already satisfied: protobuf>=3.9.2 in /usr/local/lib/python3.7/dist-packages (from tensorflow) (3.12.4)\n",
            "Requirement already satisfied: grpcio~=1.32.0 in /usr/local/lib/python3.7/dist-packages (from tensorflow) (1.32.0)\n",
            "Requirement already satisfied: keras-preprocessing~=1.1.2 in /usr/local/lib/python3.7/dist-packages (from tensorflow) (1.1.2)\n",
            "Requirement already satisfied: six~=1.15.0 in /usr/local/lib/python3.7/dist-packages (from tensorflow) (1.15.0)\n",
            "Requirement already satisfied: flatbuffers~=1.12.0 in /usr/local/lib/python3.7/dist-packages (from tensorflow) (1.12)\n",
            "Requirement already satisfied: tensorflow-estimator<2.5.0,>=2.4.0 in /usr/local/lib/python3.7/dist-packages (from tensorflow) (2.4.0)\n",
            "Requirement already satisfied: wrapt~=1.12.1 in /usr/local/lib/python3.7/dist-packages (from tensorflow) (1.12.1)\n",
            "Requirement already satisfied: gast==0.3.3 in /usr/local/lib/python3.7/dist-packages (from tensorflow) (0.3.3)\n",
            "Requirement already satisfied: astunparse~=1.6.3 in /usr/local/lib/python3.7/dist-packages (from tensorflow) (1.6.3)\n",
            "Requirement already satisfied: tensorboard~=2.4 in /usr/local/lib/python3.7/dist-packages (from tensorflow) (2.4.1)\n",
            "Requirement already satisfied: absl-py~=0.10 in /usr/local/lib/python3.7/dist-packages (from tensorflow) (0.12.0)\n",
            "Requirement already satisfied: termcolor~=1.1.0 in /usr/local/lib/python3.7/dist-packages (from tensorflow) (1.1.0)\n",
            "Requirement already satisfied: opt-einsum~=3.3.0 in /usr/local/lib/python3.7/dist-packages (from tensorflow) (3.3.0)\n",
            "Requirement already satisfied: wheel~=0.35 in /usr/local/lib/python3.7/dist-packages (from tensorflow) (0.36.2)\n",
            "Requirement already satisfied: scipy>=0.14 in /usr/local/lib/python3.7/dist-packages (from keras) (1.4.1)\n",
            "Requirement already satisfied: pyyaml in /usr/local/lib/python3.7/dist-packages (from keras) (3.13)\n",
            "Requirement already satisfied: pyparsing!=2.0.4,!=2.1.2,!=2.1.6,>=2.0.1 in /usr/local/lib/python3.7/dist-packages (from matplotlib) (2.4.7)\n",
            "Requirement already satisfied: python-dateutil>=2.1 in /usr/local/lib/python3.7/dist-packages (from matplotlib) (2.8.1)\n",
            "Requirement already satisfied: cycler>=0.10 in /usr/local/lib/python3.7/dist-packages (from matplotlib) (0.10.0)\n",
            "Requirement already satisfied: kiwisolver>=1.0.1 in /usr/local/lib/python3.7/dist-packages (from matplotlib) (1.3.1)\n",
            "Requirement already satisfied: pytz>=2017.2 in /usr/local/lib/python3.7/dist-packages (from pandas) (2018.9)\n",
            "Requirement already satisfied: scikit-learn in /usr/local/lib/python3.7/dist-packages (from sklearn) (0.22.2.post1)\n",
            "Requirement already satisfied: setuptools in /usr/local/lib/python3.7/dist-packages (from protobuf>=3.9.2->tensorflow) (56.0.0)\n",
            "Requirement already satisfied: google-auth-oauthlib<0.5,>=0.4.1 in /usr/local/lib/python3.7/dist-packages (from tensorboard~=2.4->tensorflow) (0.4.4)\n",
            "Requirement already satisfied: requests<3,>=2.21.0 in /usr/local/lib/python3.7/dist-packages (from tensorboard~=2.4->tensorflow) (2.23.0)\n",
            "Requirement already satisfied: google-auth<2,>=1.6.3 in /usr/local/lib/python3.7/dist-packages (from tensorboard~=2.4->tensorflow) (1.28.1)\n",
            "Requirement already satisfied: werkzeug>=0.11.15 in /usr/local/lib/python3.7/dist-packages (from tensorboard~=2.4->tensorflow) (1.0.1)\n",
            "Requirement already satisfied: markdown>=2.6.8 in /usr/local/lib/python3.7/dist-packages (from tensorboard~=2.4->tensorflow) (3.3.4)\n",
            "Requirement already satisfied: tensorboard-plugin-wit>=1.6.0 in /usr/local/lib/python3.7/dist-packages (from tensorboard~=2.4->tensorflow) (1.8.0)\n",
            "Requirement already satisfied: joblib>=0.11 in /usr/local/lib/python3.7/dist-packages (from scikit-learn->sklearn) (1.0.1)\n",
            "Requirement already satisfied: requests-oauthlib>=0.7.0 in /usr/local/lib/python3.7/dist-packages (from google-auth-oauthlib<0.5,>=0.4.1->tensorboard~=2.4->tensorflow) (1.3.0)\n",
            "Requirement already satisfied: certifi>=2017.4.17 in /usr/local/lib/python3.7/dist-packages (from requests<3,>=2.21.0->tensorboard~=2.4->tensorflow) (2020.12.5)\n",
            "Requirement already satisfied: urllib3!=1.25.0,!=1.25.1,<1.26,>=1.21.1 in /usr/local/lib/python3.7/dist-packages (from requests<3,>=2.21.0->tensorboard~=2.4->tensorflow) (1.24.3)\n",
            "Requirement already satisfied: idna<3,>=2.5 in /usr/local/lib/python3.7/dist-packages (from requests<3,>=2.21.0->tensorboard~=2.4->tensorflow) (2.10)\n",
            "Requirement already satisfied: chardet<4,>=3.0.2 in /usr/local/lib/python3.7/dist-packages (from requests<3,>=2.21.0->tensorboard~=2.4->tensorflow) (3.0.4)\n",
            "Requirement already satisfied: cachetools<5.0,>=2.0.0 in /usr/local/lib/python3.7/dist-packages (from google-auth<2,>=1.6.3->tensorboard~=2.4->tensorflow) (4.2.1)\n",
            "Requirement already satisfied: rsa<5,>=3.1.4; python_version >= \"3.6\" in /usr/local/lib/python3.7/dist-packages (from google-auth<2,>=1.6.3->tensorboard~=2.4->tensorflow) (4.7.2)\n",
            "Requirement already satisfied: pyasn1-modules>=0.2.1 in /usr/local/lib/python3.7/dist-packages (from google-auth<2,>=1.6.3->tensorboard~=2.4->tensorflow) (0.2.8)\n",
            "Requirement already satisfied: importlib-metadata; python_version < \"3.8\" in /usr/local/lib/python3.7/dist-packages (from markdown>=2.6.8->tensorboard~=2.4->tensorflow) (3.10.1)\n",
            "Requirement already satisfied: oauthlib>=3.0.0 in /usr/local/lib/python3.7/dist-packages (from requests-oauthlib>=0.7.0->google-auth-oauthlib<0.5,>=0.4.1->tensorboard~=2.4->tensorflow) (3.1.0)\n",
            "Requirement already satisfied: pyasn1>=0.1.3 in /usr/local/lib/python3.7/dist-packages (from rsa<5,>=3.1.4; python_version >= \"3.6\"->google-auth<2,>=1.6.3->tensorboard~=2.4->tensorflow) (0.4.8)\n",
            "Requirement already satisfied: zipp>=0.5 in /usr/local/lib/python3.7/dist-packages (from importlib-metadata; python_version < \"3.8\"->markdown>=2.6.8->tensorboard~=2.4->tensorflow) (3.4.1)\n"
          ],
          "name": "stdout"
        }
      ]
    },
    {
      "cell_type": "code",
      "metadata": {
        "colab": {
          "base_uri": "https://localhost:8080/"
        },
        "id": "RajFr42PNBWZ",
        "outputId": "21a59abf-a713-42d8-fc6a-845d37240b69"
      },
      "source": [
        "import nltk\n",
        "nltk.download('popular')\n",
        "from nltk.stem import WordNetLemmatizer\n",
        "from nltk.corpus import stopwords\n",
        "import re\n",
        "from nltk.corpus import stopwords\n",
        "from nltk.stem.porter import PorterStemmer\n",
        "from nltk.stem import WordNetLemmatizer\n",
        "import pandas as pd\n",
        "from gensim.models import Word2Vec"
      ],
      "execution_count": 3,
      "outputs": [
        {
          "output_type": "stream",
          "text": [
            "[nltk_data] Downloading collection 'popular'\n",
            "[nltk_data]    | \n",
            "[nltk_data]    | Downloading package cmudict to /root/nltk_data...\n",
            "[nltk_data]    |   Package cmudict is already up-to-date!\n",
            "[nltk_data]    | Downloading package gazetteers to /root/nltk_data...\n",
            "[nltk_data]    |   Package gazetteers is already up-to-date!\n",
            "[nltk_data]    | Downloading package genesis to /root/nltk_data...\n",
            "[nltk_data]    |   Package genesis is already up-to-date!\n",
            "[nltk_data]    | Downloading package gutenberg to /root/nltk_data...\n",
            "[nltk_data]    |   Package gutenberg is already up-to-date!\n",
            "[nltk_data]    | Downloading package inaugural to /root/nltk_data...\n",
            "[nltk_data]    |   Package inaugural is already up-to-date!\n",
            "[nltk_data]    | Downloading package movie_reviews to\n",
            "[nltk_data]    |     /root/nltk_data...\n",
            "[nltk_data]    |   Package movie_reviews is already up-to-date!\n",
            "[nltk_data]    | Downloading package names to /root/nltk_data...\n",
            "[nltk_data]    |   Package names is already up-to-date!\n",
            "[nltk_data]    | Downloading package shakespeare to /root/nltk_data...\n",
            "[nltk_data]    |   Package shakespeare is already up-to-date!\n",
            "[nltk_data]    | Downloading package stopwords to /root/nltk_data...\n",
            "[nltk_data]    |   Package stopwords is already up-to-date!\n",
            "[nltk_data]    | Downloading package treebank to /root/nltk_data...\n",
            "[nltk_data]    |   Package treebank is already up-to-date!\n",
            "[nltk_data]    | Downloading package twitter_samples to\n",
            "[nltk_data]    |     /root/nltk_data...\n",
            "[nltk_data]    |   Package twitter_samples is already up-to-date!\n",
            "[nltk_data]    | Downloading package omw to /root/nltk_data...\n",
            "[nltk_data]    |   Package omw is already up-to-date!\n",
            "[nltk_data]    | Downloading package wordnet to /root/nltk_data...\n",
            "[nltk_data]    |   Package wordnet is already up-to-date!\n",
            "[nltk_data]    | Downloading package wordnet_ic to /root/nltk_data...\n",
            "[nltk_data]    |   Package wordnet_ic is already up-to-date!\n",
            "[nltk_data]    | Downloading package words to /root/nltk_data...\n",
            "[nltk_data]    |   Package words is already up-to-date!\n",
            "[nltk_data]    | Downloading package maxent_ne_chunker to\n",
            "[nltk_data]    |     /root/nltk_data...\n",
            "[nltk_data]    |   Package maxent_ne_chunker is already up-to-date!\n",
            "[nltk_data]    | Downloading package punkt to /root/nltk_data...\n",
            "[nltk_data]    |   Package punkt is already up-to-date!\n",
            "[nltk_data]    | Downloading package snowball_data to\n",
            "[nltk_data]    |     /root/nltk_data...\n",
            "[nltk_data]    |   Package snowball_data is already up-to-date!\n",
            "[nltk_data]    | Downloading package averaged_perceptron_tagger to\n",
            "[nltk_data]    |     /root/nltk_data...\n",
            "[nltk_data]    |   Package averaged_perceptron_tagger is already up-\n",
            "[nltk_data]    |       to-date!\n",
            "[nltk_data]    | \n",
            "[nltk_data]  Done downloading collection popular\n"
          ],
          "name": "stdout"
        }
      ]
    },
    {
      "cell_type": "code",
      "metadata": {
        "id": "hN0_N3NrNBWa"
      },
      "source": [
        "df=pd.read_csv('/content/drive/My Drive/NLP_datasets/fake_news/train.csv')"
      ],
      "execution_count": 4,
      "outputs": []
    },
    {
      "cell_type": "code",
      "metadata": {
        "colab": {
          "base_uri": "https://localhost:8080/",
          "height": 198
        },
        "id": "BmgUguZ-NBWb",
        "outputId": "bfcdeea8-17a8-4585-b722-8c9ac3284668"
      },
      "source": [
        "df.head()"
      ],
      "execution_count": 5,
      "outputs": [
        {
          "output_type": "execute_result",
          "data": {
            "text/html": [
              "<div>\n",
              "<style scoped>\n",
              "    .dataframe tbody tr th:only-of-type {\n",
              "        vertical-align: middle;\n",
              "    }\n",
              "\n",
              "    .dataframe tbody tr th {\n",
              "        vertical-align: top;\n",
              "    }\n",
              "\n",
              "    .dataframe thead th {\n",
              "        text-align: right;\n",
              "    }\n",
              "</style>\n",
              "<table border=\"1\" class=\"dataframe\">\n",
              "  <thead>\n",
              "    <tr style=\"text-align: right;\">\n",
              "      <th></th>\n",
              "      <th>id</th>\n",
              "      <th>title</th>\n",
              "      <th>author</th>\n",
              "      <th>text</th>\n",
              "      <th>label</th>\n",
              "    </tr>\n",
              "  </thead>\n",
              "  <tbody>\n",
              "    <tr>\n",
              "      <th>0</th>\n",
              "      <td>0</td>\n",
              "      <td>House Dem Aide: We Didn’t Even See Comey’s Let...</td>\n",
              "      <td>Darrell Lucus</td>\n",
              "      <td>House Dem Aide: We Didn’t Even See Comey’s Let...</td>\n",
              "      <td>1</td>\n",
              "    </tr>\n",
              "    <tr>\n",
              "      <th>1</th>\n",
              "      <td>1</td>\n",
              "      <td>FLYNN: Hillary Clinton, Big Woman on Campus - ...</td>\n",
              "      <td>Daniel J. Flynn</td>\n",
              "      <td>Ever get the feeling your life circles the rou...</td>\n",
              "      <td>0</td>\n",
              "    </tr>\n",
              "    <tr>\n",
              "      <th>2</th>\n",
              "      <td>2</td>\n",
              "      <td>Why the Truth Might Get You Fired</td>\n",
              "      <td>Consortiumnews.com</td>\n",
              "      <td>Why the Truth Might Get You Fired October 29, ...</td>\n",
              "      <td>1</td>\n",
              "    </tr>\n",
              "    <tr>\n",
              "      <th>3</th>\n",
              "      <td>3</td>\n",
              "      <td>15 Civilians Killed In Single US Airstrike Hav...</td>\n",
              "      <td>Jessica Purkiss</td>\n",
              "      <td>Videos 15 Civilians Killed In Single US Airstr...</td>\n",
              "      <td>1</td>\n",
              "    </tr>\n",
              "    <tr>\n",
              "      <th>4</th>\n",
              "      <td>4</td>\n",
              "      <td>Iranian woman jailed for fictional unpublished...</td>\n",
              "      <td>Howard Portnoy</td>\n",
              "      <td>Print \\nAn Iranian woman has been sentenced to...</td>\n",
              "      <td>1</td>\n",
              "    </tr>\n",
              "  </tbody>\n",
              "</table>\n",
              "</div>"
            ],
            "text/plain": [
              "   id  ... label\n",
              "0   0  ...     1\n",
              "1   1  ...     0\n",
              "2   2  ...     1\n",
              "3   3  ...     1\n",
              "4   4  ...     1\n",
              "\n",
              "[5 rows x 5 columns]"
            ]
          },
          "metadata": {
            "tags": []
          },
          "execution_count": 5
        }
      ]
    },
    {
      "cell_type": "code",
      "metadata": {
        "id": "x4n1aEJmNBWc"
      },
      "source": [
        "## Get the Independent Features\n",
        "\n",
        "X=df.drop('label',axis=1)"
      ],
      "execution_count": 6,
      "outputs": []
    },
    {
      "cell_type": "code",
      "metadata": {
        "colab": {
          "base_uri": "https://localhost:8080/",
          "height": 198
        },
        "id": "icVXuoyVNBWd",
        "outputId": "4f981ca4-9fce-41c9-b16c-7c47b9ea3b88"
      },
      "source": [
        "X.head()"
      ],
      "execution_count": 7,
      "outputs": [
        {
          "output_type": "execute_result",
          "data": {
            "text/html": [
              "<div>\n",
              "<style scoped>\n",
              "    .dataframe tbody tr th:only-of-type {\n",
              "        vertical-align: middle;\n",
              "    }\n",
              "\n",
              "    .dataframe tbody tr th {\n",
              "        vertical-align: top;\n",
              "    }\n",
              "\n",
              "    .dataframe thead th {\n",
              "        text-align: right;\n",
              "    }\n",
              "</style>\n",
              "<table border=\"1\" class=\"dataframe\">\n",
              "  <thead>\n",
              "    <tr style=\"text-align: right;\">\n",
              "      <th></th>\n",
              "      <th>id</th>\n",
              "      <th>title</th>\n",
              "      <th>author</th>\n",
              "      <th>text</th>\n",
              "    </tr>\n",
              "  </thead>\n",
              "  <tbody>\n",
              "    <tr>\n",
              "      <th>0</th>\n",
              "      <td>0</td>\n",
              "      <td>House Dem Aide: We Didn’t Even See Comey’s Let...</td>\n",
              "      <td>Darrell Lucus</td>\n",
              "      <td>House Dem Aide: We Didn’t Even See Comey’s Let...</td>\n",
              "    </tr>\n",
              "    <tr>\n",
              "      <th>1</th>\n",
              "      <td>1</td>\n",
              "      <td>FLYNN: Hillary Clinton, Big Woman on Campus - ...</td>\n",
              "      <td>Daniel J. Flynn</td>\n",
              "      <td>Ever get the feeling your life circles the rou...</td>\n",
              "    </tr>\n",
              "    <tr>\n",
              "      <th>2</th>\n",
              "      <td>2</td>\n",
              "      <td>Why the Truth Might Get You Fired</td>\n",
              "      <td>Consortiumnews.com</td>\n",
              "      <td>Why the Truth Might Get You Fired October 29, ...</td>\n",
              "    </tr>\n",
              "    <tr>\n",
              "      <th>3</th>\n",
              "      <td>3</td>\n",
              "      <td>15 Civilians Killed In Single US Airstrike Hav...</td>\n",
              "      <td>Jessica Purkiss</td>\n",
              "      <td>Videos 15 Civilians Killed In Single US Airstr...</td>\n",
              "    </tr>\n",
              "    <tr>\n",
              "      <th>4</th>\n",
              "      <td>4</td>\n",
              "      <td>Iranian woman jailed for fictional unpublished...</td>\n",
              "      <td>Howard Portnoy</td>\n",
              "      <td>Print \\nAn Iranian woman has been sentenced to...</td>\n",
              "    </tr>\n",
              "  </tbody>\n",
              "</table>\n",
              "</div>"
            ],
            "text/plain": [
              "   id  ...                                               text\n",
              "0   0  ...  House Dem Aide: We Didn’t Even See Comey’s Let...\n",
              "1   1  ...  Ever get the feeling your life circles the rou...\n",
              "2   2  ...  Why the Truth Might Get You Fired October 29, ...\n",
              "3   3  ...  Videos 15 Civilians Killed In Single US Airstr...\n",
              "4   4  ...  Print \\nAn Iranian woman has been sentenced to...\n",
              "\n",
              "[5 rows x 4 columns]"
            ]
          },
          "metadata": {
            "tags": []
          },
          "execution_count": 7
        }
      ]
    },
    {
      "cell_type": "code",
      "metadata": {
        "id": "TK8pvFsrNBWe"
      },
      "source": [
        "## Get the Dependent features\n",
        "y=df['label']"
      ],
      "execution_count": 8,
      "outputs": []
    },
    {
      "cell_type": "code",
      "metadata": {
        "colab": {
          "base_uri": "https://localhost:8080/"
        },
        "id": "krB0XBGPNBWe",
        "outputId": "fa59bb3b-c7d8-4843-91e7-4bf7b1da96c6"
      },
      "source": [
        "y.head()"
      ],
      "execution_count": 9,
      "outputs": [
        {
          "output_type": "execute_result",
          "data": {
            "text/plain": [
              "0    1\n",
              "1    0\n",
              "2    1\n",
              "3    1\n",
              "4    1\n",
              "Name: label, dtype: int64"
            ]
          },
          "metadata": {
            "tags": []
          },
          "execution_count": 9
        }
      ]
    },
    {
      "cell_type": "code",
      "metadata": {
        "colab": {
          "base_uri": "https://localhost:8080/"
        },
        "id": "FebgT0WfNBWf",
        "outputId": "e0ac770b-d84b-44a2-a823-cde9fee75d2d"
      },
      "source": [
        "df.shape"
      ],
      "execution_count": 10,
      "outputs": [
        {
          "output_type": "execute_result",
          "data": {
            "text/plain": [
              "(20800, 5)"
            ]
          },
          "metadata": {
            "tags": []
          },
          "execution_count": 10
        }
      ]
    },
    {
      "cell_type": "code",
      "metadata": {
        "id": "-U3pr5u9NBWf"
      },
      "source": [
        "from sklearn.feature_extraction.text import CountVectorizer, TfidfVectorizer, HashingVectorizer"
      ],
      "execution_count": 11,
      "outputs": []
    },
    {
      "cell_type": "code",
      "metadata": {
        "id": "g7qyotJcNBWg"
      },
      "source": [
        "df=df.dropna()"
      ],
      "execution_count": 12,
      "outputs": []
    },
    {
      "cell_type": "code",
      "metadata": {
        "colab": {
          "base_uri": "https://localhost:8080/",
          "height": 348
        },
        "id": "l32QuLkjNBWg",
        "outputId": "e56c11bf-27b6-4b71-c580-89b61609c3c0"
      },
      "source": [
        "df.head(10)"
      ],
      "execution_count": 13,
      "outputs": [
        {
          "output_type": "execute_result",
          "data": {
            "text/html": [
              "<div>\n",
              "<style scoped>\n",
              "    .dataframe tbody tr th:only-of-type {\n",
              "        vertical-align: middle;\n",
              "    }\n",
              "\n",
              "    .dataframe tbody tr th {\n",
              "        vertical-align: top;\n",
              "    }\n",
              "\n",
              "    .dataframe thead th {\n",
              "        text-align: right;\n",
              "    }\n",
              "</style>\n",
              "<table border=\"1\" class=\"dataframe\">\n",
              "  <thead>\n",
              "    <tr style=\"text-align: right;\">\n",
              "      <th></th>\n",
              "      <th>id</th>\n",
              "      <th>title</th>\n",
              "      <th>author</th>\n",
              "      <th>text</th>\n",
              "      <th>label</th>\n",
              "    </tr>\n",
              "  </thead>\n",
              "  <tbody>\n",
              "    <tr>\n",
              "      <th>0</th>\n",
              "      <td>0</td>\n",
              "      <td>House Dem Aide: We Didn’t Even See Comey’s Let...</td>\n",
              "      <td>Darrell Lucus</td>\n",
              "      <td>House Dem Aide: We Didn’t Even See Comey’s Let...</td>\n",
              "      <td>1</td>\n",
              "    </tr>\n",
              "    <tr>\n",
              "      <th>1</th>\n",
              "      <td>1</td>\n",
              "      <td>FLYNN: Hillary Clinton, Big Woman on Campus - ...</td>\n",
              "      <td>Daniel J. Flynn</td>\n",
              "      <td>Ever get the feeling your life circles the rou...</td>\n",
              "      <td>0</td>\n",
              "    </tr>\n",
              "    <tr>\n",
              "      <th>2</th>\n",
              "      <td>2</td>\n",
              "      <td>Why the Truth Might Get You Fired</td>\n",
              "      <td>Consortiumnews.com</td>\n",
              "      <td>Why the Truth Might Get You Fired October 29, ...</td>\n",
              "      <td>1</td>\n",
              "    </tr>\n",
              "    <tr>\n",
              "      <th>3</th>\n",
              "      <td>3</td>\n",
              "      <td>15 Civilians Killed In Single US Airstrike Hav...</td>\n",
              "      <td>Jessica Purkiss</td>\n",
              "      <td>Videos 15 Civilians Killed In Single US Airstr...</td>\n",
              "      <td>1</td>\n",
              "    </tr>\n",
              "    <tr>\n",
              "      <th>4</th>\n",
              "      <td>4</td>\n",
              "      <td>Iranian woman jailed for fictional unpublished...</td>\n",
              "      <td>Howard Portnoy</td>\n",
              "      <td>Print \\nAn Iranian woman has been sentenced to...</td>\n",
              "      <td>1</td>\n",
              "    </tr>\n",
              "    <tr>\n",
              "      <th>5</th>\n",
              "      <td>5</td>\n",
              "      <td>Jackie Mason: Hollywood Would Love Trump if He...</td>\n",
              "      <td>Daniel Nussbaum</td>\n",
              "      <td>In these trying times, Jackie Mason is the Voi...</td>\n",
              "      <td>0</td>\n",
              "    </tr>\n",
              "    <tr>\n",
              "      <th>7</th>\n",
              "      <td>7</td>\n",
              "      <td>Benoît Hamon Wins French Socialist Party’s Pre...</td>\n",
              "      <td>Alissa J. Rubin</td>\n",
              "      <td>PARIS  —   France chose an idealistic, traditi...</td>\n",
              "      <td>0</td>\n",
              "    </tr>\n",
              "    <tr>\n",
              "      <th>9</th>\n",
              "      <td>9</td>\n",
              "      <td>A Back-Channel Plan for Ukraine and Russia, Co...</td>\n",
              "      <td>Megan Twohey and Scott Shane</td>\n",
              "      <td>A week before Michael T. Flynn resigned as nat...</td>\n",
              "      <td>0</td>\n",
              "    </tr>\n",
              "    <tr>\n",
              "      <th>10</th>\n",
              "      <td>10</td>\n",
              "      <td>Obama’s Organizing for Action Partners with So...</td>\n",
              "      <td>Aaron Klein</td>\n",
              "      <td>Organizing for Action, the activist group that...</td>\n",
              "      <td>0</td>\n",
              "    </tr>\n",
              "    <tr>\n",
              "      <th>11</th>\n",
              "      <td>11</td>\n",
              "      <td>BBC Comedy Sketch \"Real Housewives of ISIS\" Ca...</td>\n",
              "      <td>Chris Tomlinson</td>\n",
              "      <td>The BBC produced spoof on the “Real Housewives...</td>\n",
              "      <td>0</td>\n",
              "    </tr>\n",
              "  </tbody>\n",
              "</table>\n",
              "</div>"
            ],
            "text/plain": [
              "    id  ... label\n",
              "0    0  ...     1\n",
              "1    1  ...     0\n",
              "2    2  ...     1\n",
              "3    3  ...     1\n",
              "4    4  ...     1\n",
              "5    5  ...     0\n",
              "7    7  ...     0\n",
              "9    9  ...     0\n",
              "10  10  ...     0\n",
              "11  11  ...     0\n",
              "\n",
              "[10 rows x 5 columns]"
            ]
          },
          "metadata": {
            "tags": []
          },
          "execution_count": 13
        }
      ]
    },
    {
      "cell_type": "code",
      "metadata": {
        "id": "NRGhXgG_NBWh"
      },
      "source": [
        "messages=df.copy()"
      ],
      "execution_count": 14,
      "outputs": []
    },
    {
      "cell_type": "code",
      "metadata": {
        "id": "8pGSvUOBNBWh"
      },
      "source": [
        "messages.reset_index(inplace=True)"
      ],
      "execution_count": 15,
      "outputs": []
    },
    {
      "cell_type": "code",
      "metadata": {
        "colab": {
          "base_uri": "https://localhost:8080/",
          "height": 348
        },
        "id": "w4TRfcu9NBWi",
        "outputId": "465901e4-4628-4262-b20a-1e72f936d6a0"
      },
      "source": [
        "messages.head(10)"
      ],
      "execution_count": 16,
      "outputs": [
        {
          "output_type": "execute_result",
          "data": {
            "text/html": [
              "<div>\n",
              "<style scoped>\n",
              "    .dataframe tbody tr th:only-of-type {\n",
              "        vertical-align: middle;\n",
              "    }\n",
              "\n",
              "    .dataframe tbody tr th {\n",
              "        vertical-align: top;\n",
              "    }\n",
              "\n",
              "    .dataframe thead th {\n",
              "        text-align: right;\n",
              "    }\n",
              "</style>\n",
              "<table border=\"1\" class=\"dataframe\">\n",
              "  <thead>\n",
              "    <tr style=\"text-align: right;\">\n",
              "      <th></th>\n",
              "      <th>index</th>\n",
              "      <th>id</th>\n",
              "      <th>title</th>\n",
              "      <th>author</th>\n",
              "      <th>text</th>\n",
              "      <th>label</th>\n",
              "    </tr>\n",
              "  </thead>\n",
              "  <tbody>\n",
              "    <tr>\n",
              "      <th>0</th>\n",
              "      <td>0</td>\n",
              "      <td>0</td>\n",
              "      <td>House Dem Aide: We Didn’t Even See Comey’s Let...</td>\n",
              "      <td>Darrell Lucus</td>\n",
              "      <td>House Dem Aide: We Didn’t Even See Comey’s Let...</td>\n",
              "      <td>1</td>\n",
              "    </tr>\n",
              "    <tr>\n",
              "      <th>1</th>\n",
              "      <td>1</td>\n",
              "      <td>1</td>\n",
              "      <td>FLYNN: Hillary Clinton, Big Woman on Campus - ...</td>\n",
              "      <td>Daniel J. Flynn</td>\n",
              "      <td>Ever get the feeling your life circles the rou...</td>\n",
              "      <td>0</td>\n",
              "    </tr>\n",
              "    <tr>\n",
              "      <th>2</th>\n",
              "      <td>2</td>\n",
              "      <td>2</td>\n",
              "      <td>Why the Truth Might Get You Fired</td>\n",
              "      <td>Consortiumnews.com</td>\n",
              "      <td>Why the Truth Might Get You Fired October 29, ...</td>\n",
              "      <td>1</td>\n",
              "    </tr>\n",
              "    <tr>\n",
              "      <th>3</th>\n",
              "      <td>3</td>\n",
              "      <td>3</td>\n",
              "      <td>15 Civilians Killed In Single US Airstrike Hav...</td>\n",
              "      <td>Jessica Purkiss</td>\n",
              "      <td>Videos 15 Civilians Killed In Single US Airstr...</td>\n",
              "      <td>1</td>\n",
              "    </tr>\n",
              "    <tr>\n",
              "      <th>4</th>\n",
              "      <td>4</td>\n",
              "      <td>4</td>\n",
              "      <td>Iranian woman jailed for fictional unpublished...</td>\n",
              "      <td>Howard Portnoy</td>\n",
              "      <td>Print \\nAn Iranian woman has been sentenced to...</td>\n",
              "      <td>1</td>\n",
              "    </tr>\n",
              "    <tr>\n",
              "      <th>5</th>\n",
              "      <td>5</td>\n",
              "      <td>5</td>\n",
              "      <td>Jackie Mason: Hollywood Would Love Trump if He...</td>\n",
              "      <td>Daniel Nussbaum</td>\n",
              "      <td>In these trying times, Jackie Mason is the Voi...</td>\n",
              "      <td>0</td>\n",
              "    </tr>\n",
              "    <tr>\n",
              "      <th>6</th>\n",
              "      <td>7</td>\n",
              "      <td>7</td>\n",
              "      <td>Benoît Hamon Wins French Socialist Party’s Pre...</td>\n",
              "      <td>Alissa J. Rubin</td>\n",
              "      <td>PARIS  —   France chose an idealistic, traditi...</td>\n",
              "      <td>0</td>\n",
              "    </tr>\n",
              "    <tr>\n",
              "      <th>7</th>\n",
              "      <td>9</td>\n",
              "      <td>9</td>\n",
              "      <td>A Back-Channel Plan for Ukraine and Russia, Co...</td>\n",
              "      <td>Megan Twohey and Scott Shane</td>\n",
              "      <td>A week before Michael T. Flynn resigned as nat...</td>\n",
              "      <td>0</td>\n",
              "    </tr>\n",
              "    <tr>\n",
              "      <th>8</th>\n",
              "      <td>10</td>\n",
              "      <td>10</td>\n",
              "      <td>Obama’s Organizing for Action Partners with So...</td>\n",
              "      <td>Aaron Klein</td>\n",
              "      <td>Organizing for Action, the activist group that...</td>\n",
              "      <td>0</td>\n",
              "    </tr>\n",
              "    <tr>\n",
              "      <th>9</th>\n",
              "      <td>11</td>\n",
              "      <td>11</td>\n",
              "      <td>BBC Comedy Sketch \"Real Housewives of ISIS\" Ca...</td>\n",
              "      <td>Chris Tomlinson</td>\n",
              "      <td>The BBC produced spoof on the “Real Housewives...</td>\n",
              "      <td>0</td>\n",
              "    </tr>\n",
              "  </tbody>\n",
              "</table>\n",
              "</div>"
            ],
            "text/plain": [
              "   index  id  ...                                               text label\n",
              "0      0   0  ...  House Dem Aide: We Didn’t Even See Comey’s Let...     1\n",
              "1      1   1  ...  Ever get the feeling your life circles the rou...     0\n",
              "2      2   2  ...  Why the Truth Might Get You Fired October 29, ...     1\n",
              "3      3   3  ...  Videos 15 Civilians Killed In Single US Airstr...     1\n",
              "4      4   4  ...  Print \\nAn Iranian woman has been sentenced to...     1\n",
              "5      5   5  ...  In these trying times, Jackie Mason is the Voi...     0\n",
              "6      7   7  ...  PARIS  —   France chose an idealistic, traditi...     0\n",
              "7      9   9  ...  A week before Michael T. Flynn resigned as nat...     0\n",
              "8     10  10  ...  Organizing for Action, the activist group that...     0\n",
              "9     11  11  ...  The BBC produced spoof on the “Real Housewives...     0\n",
              "\n",
              "[10 rows x 6 columns]"
            ]
          },
          "metadata": {
            "tags": []
          },
          "execution_count": 16
        }
      ]
    },
    {
      "cell_type": "code",
      "metadata": {
        "colab": {
          "base_uri": "https://localhost:8080/",
          "height": 35
        },
        "id": "09xQ3tx4NBWi",
        "outputId": "54834562-22a8-4d64-873b-1b18dfb46e12"
      },
      "source": [
        "messages['title'][6]"
      ],
      "execution_count": 17,
      "outputs": [
        {
          "output_type": "execute_result",
          "data": {
            "application/vnd.google.colaboratory.intrinsic+json": {
              "type": "string"
            },
            "text/plain": [
              "'Benoît Hamon Wins French Socialist Party’s Presidential Nomination - The New York Times'"
            ]
          },
          "metadata": {
            "tags": []
          },
          "execution_count": 17
        }
      ]
    },
    {
      "cell_type": "code",
      "metadata": {
        "id": "wkI89leWNBWj"
      },
      "source": [
        "from nltk.corpus import stopwords\n",
        "from nltk.stem.porter import PorterStemmer\n",
        "ps = PorterStemmer()\n",
        "corpus = []\n",
        "for i in range(0, len(messages)):\n",
        "    review = re.sub('[^a-zA-Z]', ' ', messages['title'][i])\n",
        "    review = review.lower()\n",
        "    review = review.split()\n",
        "    \n",
        "    review = [ps.stem(word) for word in review if not word in stopwords.words('english')]\n",
        "    review = ' '.join(review)\n",
        "    corpus.append(review)"
      ],
      "execution_count": 18,
      "outputs": []
    },
    {
      "cell_type": "code",
      "metadata": {
        "colab": {
          "base_uri": "https://localhost:8080/",
          "height": 35
        },
        "id": "h1f1noi5NBWj",
        "outputId": "e329a2c0-471b-413f-9b16-17b27702af29"
      },
      "source": [
        "corpus[3]"
      ],
      "execution_count": 19,
      "outputs": [
        {
          "output_type": "execute_result",
          "data": {
            "application/vnd.google.colaboratory.intrinsic+json": {
              "type": "string"
            },
            "text/plain": [
              "'civilian kill singl us airstrik identifi'"
            ]
          },
          "metadata": {
            "tags": []
          },
          "execution_count": 19
        }
      ]
    },
    {
      "cell_type": "code",
      "metadata": {
        "id": "TdWqLZ8BNBWk"
      },
      "source": [
        "## Applying Countvectorizer\n",
        "# Creating the Bag of Words model\n",
        "from sklearn.feature_extraction.text import CountVectorizer\n",
        "cv = CountVectorizer(max_features=5000,ngram_range=(1,3))\n",
        "X = cv.fit_transform(corpus).toarray()"
      ],
      "execution_count": 20,
      "outputs": []
    },
    {
      "cell_type": "code",
      "metadata": {
        "colab": {
          "base_uri": "https://localhost:8080/"
        },
        "id": "FfeyL-9oNBWk",
        "outputId": "f7ba0f50-f3de-4925-a6c3-af72e66c23fb"
      },
      "source": [
        "X.shape"
      ],
      "execution_count": 21,
      "outputs": [
        {
          "output_type": "execute_result",
          "data": {
            "text/plain": [
              "(18285, 5000)"
            ]
          },
          "metadata": {
            "tags": []
          },
          "execution_count": 21
        }
      ]
    },
    {
      "cell_type": "code",
      "metadata": {
        "id": "0th6YoVCNBWl"
      },
      "source": [
        "y=messages['label']"
      ],
      "execution_count": 22,
      "outputs": []
    },
    {
      "cell_type": "code",
      "metadata": {
        "id": "7mFQAkTINBWl"
      },
      "source": [
        "## Divide the dataset into Train and Test\n",
        "from sklearn.model_selection import train_test_split\n",
        "X_train, X_test, y_train, y_test = train_test_split(X, y, test_size=0.33, random_state=0)"
      ],
      "execution_count": 23,
      "outputs": []
    },
    {
      "cell_type": "code",
      "metadata": {
        "colab": {
          "base_uri": "https://localhost:8080/"
        },
        "id": "JgnJdV38NBWm",
        "outputId": "6c1d943f-2a3f-472d-ce47-d596bb15d39a"
      },
      "source": [
        "cv.get_feature_names()[:20]"
      ],
      "execution_count": 24,
      "outputs": [
        {
          "output_type": "execute_result",
          "data": {
            "text/plain": [
              "['abandon',\n",
              " 'abc',\n",
              " 'abc news',\n",
              " 'abduct',\n",
              " 'abe',\n",
              " 'abedin',\n",
              " 'abl',\n",
              " 'abort',\n",
              " 'abroad',\n",
              " 'absolut',\n",
              " 'abstain',\n",
              " 'absurd',\n",
              " 'abus',\n",
              " 'abus new',\n",
              " 'abus new york',\n",
              " 'academi',\n",
              " 'accept',\n",
              " 'access',\n",
              " 'access pipelin',\n",
              " 'access pipelin protest']"
            ]
          },
          "metadata": {
            "tags": []
          },
          "execution_count": 24
        }
      ]
    },
    {
      "cell_type": "code",
      "metadata": {
        "colab": {
          "base_uri": "https://localhost:8080/"
        },
        "id": "CVQiFbyQNBWm",
        "outputId": "383685fb-2919-4a85-8f8c-eb34cd2d8c4f"
      },
      "source": [
        "cv.get_params()"
      ],
      "execution_count": 25,
      "outputs": [
        {
          "output_type": "execute_result",
          "data": {
            "text/plain": [
              "{'analyzer': 'word',\n",
              " 'binary': False,\n",
              " 'decode_error': 'strict',\n",
              " 'dtype': numpy.int64,\n",
              " 'encoding': 'utf-8',\n",
              " 'input': 'content',\n",
              " 'lowercase': True,\n",
              " 'max_df': 1.0,\n",
              " 'max_features': 5000,\n",
              " 'min_df': 1,\n",
              " 'ngram_range': (1, 3),\n",
              " 'preprocessor': None,\n",
              " 'stop_words': None,\n",
              " 'strip_accents': None,\n",
              " 'token_pattern': '(?u)\\\\b\\\\w\\\\w+\\\\b',\n",
              " 'tokenizer': None,\n",
              " 'vocabulary': None}"
            ]
          },
          "metadata": {
            "tags": []
          },
          "execution_count": 25
        }
      ]
    },
    {
      "cell_type": "code",
      "metadata": {
        "id": "wM0cth9UNBWn"
      },
      "source": [
        "count_df = pd.DataFrame(X_train, columns=cv.get_feature_names())"
      ],
      "execution_count": 26,
      "outputs": []
    },
    {
      "cell_type": "code",
      "metadata": {
        "colab": {
          "base_uri": "https://localhost:8080/",
          "height": 282
        },
        "id": "_n6cX6J0NBWo",
        "outputId": "5270254c-4b4f-4769-c0cb-3b14667a52c3"
      },
      "source": [
        "count_df.head()"
      ],
      "execution_count": 27,
      "outputs": [
        {
          "output_type": "execute_result",
          "data": {
            "text/html": [
              "<div>\n",
              "<style scoped>\n",
              "    .dataframe tbody tr th:only-of-type {\n",
              "        vertical-align: middle;\n",
              "    }\n",
              "\n",
              "    .dataframe tbody tr th {\n",
              "        vertical-align: top;\n",
              "    }\n",
              "\n",
              "    .dataframe thead th {\n",
              "        text-align: right;\n",
              "    }\n",
              "</style>\n",
              "<table border=\"1\" class=\"dataframe\">\n",
              "  <thead>\n",
              "    <tr style=\"text-align: right;\">\n",
              "      <th></th>\n",
              "      <th>abandon</th>\n",
              "      <th>abc</th>\n",
              "      <th>abc news</th>\n",
              "      <th>abduct</th>\n",
              "      <th>abe</th>\n",
              "      <th>abedin</th>\n",
              "      <th>abl</th>\n",
              "      <th>abort</th>\n",
              "      <th>abroad</th>\n",
              "      <th>absolut</th>\n",
              "      <th>abstain</th>\n",
              "      <th>absurd</th>\n",
              "      <th>abus</th>\n",
              "      <th>abus new</th>\n",
              "      <th>abus new york</th>\n",
              "      <th>academi</th>\n",
              "      <th>accept</th>\n",
              "      <th>access</th>\n",
              "      <th>access pipelin</th>\n",
              "      <th>access pipelin protest</th>\n",
              "      <th>accid</th>\n",
              "      <th>accident</th>\n",
              "      <th>accord</th>\n",
              "      <th>account</th>\n",
              "      <th>accus</th>\n",
              "      <th>accus trump</th>\n",
              "      <th>achiev</th>\n",
              "      <th>acknowledg</th>\n",
              "      <th>acknowledg emf</th>\n",
              "      <th>acknowledg emf damag</th>\n",
              "      <th>aclu</th>\n",
              "      <th>acquit</th>\n",
              "      <th>acquitt</th>\n",
              "      <th>acr</th>\n",
              "      <th>across</th>\n",
              "      <th>act</th>\n",
              "      <th>act like</th>\n",
              "      <th>act new</th>\n",
              "      <th>act new york</th>\n",
              "      <th>action</th>\n",
              "      <th>...</th>\n",
              "      <th>yahoo</th>\n",
              "      <th>yale</th>\n",
              "      <th>ye</th>\n",
              "      <th>year</th>\n",
              "      <th>year ago</th>\n",
              "      <th>year breitbart</th>\n",
              "      <th>year eve</th>\n",
              "      <th>year later</th>\n",
              "      <th>year new</th>\n",
              "      <th>year new york</th>\n",
              "      <th>year old</th>\n",
              "      <th>year old girl</th>\n",
              "      <th>year sinc</th>\n",
              "      <th>yemen</th>\n",
              "      <th>yet</th>\n",
              "      <th>yet anoth</th>\n",
              "      <th>yiannopoulo</th>\n",
              "      <th>yield</th>\n",
              "      <th>yo</th>\n",
              "      <th>york</th>\n",
              "      <th>york citi</th>\n",
              "      <th>york new</th>\n",
              "      <th>york new york</th>\n",
              "      <th>york state</th>\n",
              "      <th>york time</th>\n",
              "      <th>yorker</th>\n",
              "      <th>young</th>\n",
              "      <th>youth</th>\n",
              "      <th>youtub</th>\n",
              "      <th>zealand</th>\n",
              "      <th>zero</th>\n",
              "      <th>zika</th>\n",
              "      <th>zika viru</th>\n",
              "      <th>zionist</th>\n",
              "      <th>zone</th>\n",
              "      <th>zone new</th>\n",
              "      <th>zone new york</th>\n",
              "      <th>zoo</th>\n",
              "      <th>zu</th>\n",
              "      <th>zuckerberg</th>\n",
              "    </tr>\n",
              "  </thead>\n",
              "  <tbody>\n",
              "    <tr>\n",
              "      <th>0</th>\n",
              "      <td>0</td>\n",
              "      <td>0</td>\n",
              "      <td>0</td>\n",
              "      <td>0</td>\n",
              "      <td>0</td>\n",
              "      <td>0</td>\n",
              "      <td>0</td>\n",
              "      <td>0</td>\n",
              "      <td>0</td>\n",
              "      <td>0</td>\n",
              "      <td>0</td>\n",
              "      <td>0</td>\n",
              "      <td>0</td>\n",
              "      <td>0</td>\n",
              "      <td>0</td>\n",
              "      <td>0</td>\n",
              "      <td>0</td>\n",
              "      <td>0</td>\n",
              "      <td>0</td>\n",
              "      <td>0</td>\n",
              "      <td>0</td>\n",
              "      <td>0</td>\n",
              "      <td>0</td>\n",
              "      <td>0</td>\n",
              "      <td>0</td>\n",
              "      <td>0</td>\n",
              "      <td>0</td>\n",
              "      <td>0</td>\n",
              "      <td>0</td>\n",
              "      <td>0</td>\n",
              "      <td>0</td>\n",
              "      <td>0</td>\n",
              "      <td>0</td>\n",
              "      <td>0</td>\n",
              "      <td>0</td>\n",
              "      <td>0</td>\n",
              "      <td>0</td>\n",
              "      <td>0</td>\n",
              "      <td>0</td>\n",
              "      <td>0</td>\n",
              "      <td>...</td>\n",
              "      <td>0</td>\n",
              "      <td>0</td>\n",
              "      <td>0</td>\n",
              "      <td>0</td>\n",
              "      <td>0</td>\n",
              "      <td>0</td>\n",
              "      <td>0</td>\n",
              "      <td>0</td>\n",
              "      <td>0</td>\n",
              "      <td>0</td>\n",
              "      <td>0</td>\n",
              "      <td>0</td>\n",
              "      <td>0</td>\n",
              "      <td>0</td>\n",
              "      <td>0</td>\n",
              "      <td>0</td>\n",
              "      <td>0</td>\n",
              "      <td>0</td>\n",
              "      <td>0</td>\n",
              "      <td>0</td>\n",
              "      <td>0</td>\n",
              "      <td>0</td>\n",
              "      <td>0</td>\n",
              "      <td>0</td>\n",
              "      <td>0</td>\n",
              "      <td>0</td>\n",
              "      <td>1</td>\n",
              "      <td>0</td>\n",
              "      <td>0</td>\n",
              "      <td>0</td>\n",
              "      <td>0</td>\n",
              "      <td>0</td>\n",
              "      <td>0</td>\n",
              "      <td>0</td>\n",
              "      <td>0</td>\n",
              "      <td>0</td>\n",
              "      <td>0</td>\n",
              "      <td>0</td>\n",
              "      <td>0</td>\n",
              "      <td>0</td>\n",
              "    </tr>\n",
              "    <tr>\n",
              "      <th>1</th>\n",
              "      <td>0</td>\n",
              "      <td>0</td>\n",
              "      <td>0</td>\n",
              "      <td>0</td>\n",
              "      <td>0</td>\n",
              "      <td>0</td>\n",
              "      <td>0</td>\n",
              "      <td>0</td>\n",
              "      <td>0</td>\n",
              "      <td>0</td>\n",
              "      <td>0</td>\n",
              "      <td>0</td>\n",
              "      <td>0</td>\n",
              "      <td>0</td>\n",
              "      <td>0</td>\n",
              "      <td>0</td>\n",
              "      <td>0</td>\n",
              "      <td>0</td>\n",
              "      <td>0</td>\n",
              "      <td>0</td>\n",
              "      <td>0</td>\n",
              "      <td>0</td>\n",
              "      <td>0</td>\n",
              "      <td>0</td>\n",
              "      <td>0</td>\n",
              "      <td>0</td>\n",
              "      <td>0</td>\n",
              "      <td>0</td>\n",
              "      <td>0</td>\n",
              "      <td>0</td>\n",
              "      <td>0</td>\n",
              "      <td>0</td>\n",
              "      <td>0</td>\n",
              "      <td>0</td>\n",
              "      <td>0</td>\n",
              "      <td>0</td>\n",
              "      <td>0</td>\n",
              "      <td>0</td>\n",
              "      <td>0</td>\n",
              "      <td>0</td>\n",
              "      <td>...</td>\n",
              "      <td>0</td>\n",
              "      <td>0</td>\n",
              "      <td>0</td>\n",
              "      <td>0</td>\n",
              "      <td>0</td>\n",
              "      <td>0</td>\n",
              "      <td>0</td>\n",
              "      <td>0</td>\n",
              "      <td>0</td>\n",
              "      <td>0</td>\n",
              "      <td>0</td>\n",
              "      <td>0</td>\n",
              "      <td>0</td>\n",
              "      <td>0</td>\n",
              "      <td>0</td>\n",
              "      <td>0</td>\n",
              "      <td>0</td>\n",
              "      <td>1</td>\n",
              "      <td>0</td>\n",
              "      <td>0</td>\n",
              "      <td>0</td>\n",
              "      <td>0</td>\n",
              "      <td>0</td>\n",
              "      <td>0</td>\n",
              "      <td>0</td>\n",
              "      <td>0</td>\n",
              "      <td>0</td>\n",
              "      <td>0</td>\n",
              "      <td>0</td>\n",
              "      <td>0</td>\n",
              "      <td>0</td>\n",
              "      <td>0</td>\n",
              "      <td>0</td>\n",
              "      <td>0</td>\n",
              "      <td>0</td>\n",
              "      <td>0</td>\n",
              "      <td>0</td>\n",
              "      <td>0</td>\n",
              "      <td>0</td>\n",
              "      <td>0</td>\n",
              "    </tr>\n",
              "    <tr>\n",
              "      <th>2</th>\n",
              "      <td>0</td>\n",
              "      <td>0</td>\n",
              "      <td>0</td>\n",
              "      <td>0</td>\n",
              "      <td>0</td>\n",
              "      <td>0</td>\n",
              "      <td>0</td>\n",
              "      <td>0</td>\n",
              "      <td>0</td>\n",
              "      <td>0</td>\n",
              "      <td>0</td>\n",
              "      <td>0</td>\n",
              "      <td>0</td>\n",
              "      <td>0</td>\n",
              "      <td>0</td>\n",
              "      <td>0</td>\n",
              "      <td>0</td>\n",
              "      <td>0</td>\n",
              "      <td>0</td>\n",
              "      <td>0</td>\n",
              "      <td>0</td>\n",
              "      <td>0</td>\n",
              "      <td>0</td>\n",
              "      <td>0</td>\n",
              "      <td>0</td>\n",
              "      <td>0</td>\n",
              "      <td>0</td>\n",
              "      <td>0</td>\n",
              "      <td>0</td>\n",
              "      <td>0</td>\n",
              "      <td>0</td>\n",
              "      <td>0</td>\n",
              "      <td>0</td>\n",
              "      <td>0</td>\n",
              "      <td>0</td>\n",
              "      <td>0</td>\n",
              "      <td>0</td>\n",
              "      <td>0</td>\n",
              "      <td>0</td>\n",
              "      <td>0</td>\n",
              "      <td>...</td>\n",
              "      <td>0</td>\n",
              "      <td>0</td>\n",
              "      <td>0</td>\n",
              "      <td>0</td>\n",
              "      <td>0</td>\n",
              "      <td>0</td>\n",
              "      <td>0</td>\n",
              "      <td>0</td>\n",
              "      <td>0</td>\n",
              "      <td>0</td>\n",
              "      <td>0</td>\n",
              "      <td>0</td>\n",
              "      <td>0</td>\n",
              "      <td>0</td>\n",
              "      <td>0</td>\n",
              "      <td>0</td>\n",
              "      <td>0</td>\n",
              "      <td>0</td>\n",
              "      <td>0</td>\n",
              "      <td>1</td>\n",
              "      <td>0</td>\n",
              "      <td>0</td>\n",
              "      <td>0</td>\n",
              "      <td>0</td>\n",
              "      <td>1</td>\n",
              "      <td>0</td>\n",
              "      <td>0</td>\n",
              "      <td>0</td>\n",
              "      <td>0</td>\n",
              "      <td>0</td>\n",
              "      <td>0</td>\n",
              "      <td>0</td>\n",
              "      <td>0</td>\n",
              "      <td>0</td>\n",
              "      <td>0</td>\n",
              "      <td>0</td>\n",
              "      <td>0</td>\n",
              "      <td>0</td>\n",
              "      <td>0</td>\n",
              "      <td>0</td>\n",
              "    </tr>\n",
              "    <tr>\n",
              "      <th>3</th>\n",
              "      <td>0</td>\n",
              "      <td>0</td>\n",
              "      <td>0</td>\n",
              "      <td>0</td>\n",
              "      <td>0</td>\n",
              "      <td>0</td>\n",
              "      <td>0</td>\n",
              "      <td>0</td>\n",
              "      <td>0</td>\n",
              "      <td>0</td>\n",
              "      <td>0</td>\n",
              "      <td>0</td>\n",
              "      <td>0</td>\n",
              "      <td>0</td>\n",
              "      <td>0</td>\n",
              "      <td>0</td>\n",
              "      <td>0</td>\n",
              "      <td>0</td>\n",
              "      <td>0</td>\n",
              "      <td>0</td>\n",
              "      <td>0</td>\n",
              "      <td>0</td>\n",
              "      <td>0</td>\n",
              "      <td>0</td>\n",
              "      <td>0</td>\n",
              "      <td>0</td>\n",
              "      <td>0</td>\n",
              "      <td>0</td>\n",
              "      <td>0</td>\n",
              "      <td>0</td>\n",
              "      <td>0</td>\n",
              "      <td>0</td>\n",
              "      <td>0</td>\n",
              "      <td>0</td>\n",
              "      <td>0</td>\n",
              "      <td>0</td>\n",
              "      <td>0</td>\n",
              "      <td>0</td>\n",
              "      <td>0</td>\n",
              "      <td>0</td>\n",
              "      <td>...</td>\n",
              "      <td>0</td>\n",
              "      <td>0</td>\n",
              "      <td>0</td>\n",
              "      <td>0</td>\n",
              "      <td>0</td>\n",
              "      <td>0</td>\n",
              "      <td>0</td>\n",
              "      <td>0</td>\n",
              "      <td>0</td>\n",
              "      <td>0</td>\n",
              "      <td>0</td>\n",
              "      <td>0</td>\n",
              "      <td>0</td>\n",
              "      <td>0</td>\n",
              "      <td>0</td>\n",
              "      <td>0</td>\n",
              "      <td>0</td>\n",
              "      <td>0</td>\n",
              "      <td>0</td>\n",
              "      <td>0</td>\n",
              "      <td>0</td>\n",
              "      <td>0</td>\n",
              "      <td>0</td>\n",
              "      <td>0</td>\n",
              "      <td>0</td>\n",
              "      <td>0</td>\n",
              "      <td>0</td>\n",
              "      <td>0</td>\n",
              "      <td>0</td>\n",
              "      <td>0</td>\n",
              "      <td>0</td>\n",
              "      <td>0</td>\n",
              "      <td>0</td>\n",
              "      <td>0</td>\n",
              "      <td>0</td>\n",
              "      <td>0</td>\n",
              "      <td>0</td>\n",
              "      <td>0</td>\n",
              "      <td>0</td>\n",
              "      <td>0</td>\n",
              "    </tr>\n",
              "    <tr>\n",
              "      <th>4</th>\n",
              "      <td>0</td>\n",
              "      <td>0</td>\n",
              "      <td>0</td>\n",
              "      <td>0</td>\n",
              "      <td>0</td>\n",
              "      <td>0</td>\n",
              "      <td>0</td>\n",
              "      <td>0</td>\n",
              "      <td>0</td>\n",
              "      <td>1</td>\n",
              "      <td>0</td>\n",
              "      <td>0</td>\n",
              "      <td>0</td>\n",
              "      <td>0</td>\n",
              "      <td>0</td>\n",
              "      <td>0</td>\n",
              "      <td>0</td>\n",
              "      <td>0</td>\n",
              "      <td>0</td>\n",
              "      <td>0</td>\n",
              "      <td>0</td>\n",
              "      <td>0</td>\n",
              "      <td>0</td>\n",
              "      <td>0</td>\n",
              "      <td>0</td>\n",
              "      <td>0</td>\n",
              "      <td>0</td>\n",
              "      <td>0</td>\n",
              "      <td>0</td>\n",
              "      <td>0</td>\n",
              "      <td>0</td>\n",
              "      <td>0</td>\n",
              "      <td>0</td>\n",
              "      <td>0</td>\n",
              "      <td>0</td>\n",
              "      <td>0</td>\n",
              "      <td>0</td>\n",
              "      <td>0</td>\n",
              "      <td>0</td>\n",
              "      <td>0</td>\n",
              "      <td>...</td>\n",
              "      <td>0</td>\n",
              "      <td>0</td>\n",
              "      <td>0</td>\n",
              "      <td>0</td>\n",
              "      <td>0</td>\n",
              "      <td>0</td>\n",
              "      <td>0</td>\n",
              "      <td>0</td>\n",
              "      <td>0</td>\n",
              "      <td>0</td>\n",
              "      <td>0</td>\n",
              "      <td>0</td>\n",
              "      <td>0</td>\n",
              "      <td>0</td>\n",
              "      <td>0</td>\n",
              "      <td>0</td>\n",
              "      <td>0</td>\n",
              "      <td>0</td>\n",
              "      <td>0</td>\n",
              "      <td>0</td>\n",
              "      <td>0</td>\n",
              "      <td>0</td>\n",
              "      <td>0</td>\n",
              "      <td>0</td>\n",
              "      <td>0</td>\n",
              "      <td>0</td>\n",
              "      <td>0</td>\n",
              "      <td>0</td>\n",
              "      <td>0</td>\n",
              "      <td>0</td>\n",
              "      <td>0</td>\n",
              "      <td>0</td>\n",
              "      <td>0</td>\n",
              "      <td>0</td>\n",
              "      <td>0</td>\n",
              "      <td>0</td>\n",
              "      <td>0</td>\n",
              "      <td>0</td>\n",
              "      <td>0</td>\n",
              "      <td>0</td>\n",
              "    </tr>\n",
              "  </tbody>\n",
              "</table>\n",
              "<p>5 rows × 5000 columns</p>\n",
              "</div>"
            ],
            "text/plain": [
              "   abandon  abc  abc news  abduct  ...  zone new york  zoo  zu  zuckerberg\n",
              "0        0    0         0       0  ...              0    0   0           0\n",
              "1        0    0         0       0  ...              0    0   0           0\n",
              "2        0    0         0       0  ...              0    0   0           0\n",
              "3        0    0         0       0  ...              0    0   0           0\n",
              "4        0    0         0       0  ...              0    0   0           0\n",
              "\n",
              "[5 rows x 5000 columns]"
            ]
          },
          "metadata": {
            "tags": []
          },
          "execution_count": 27
        }
      ]
    },
    {
      "cell_type": "code",
      "metadata": {
        "id": "PWuJunyXNBWp"
      },
      "source": [
        "import matplotlib.pyplot as plt"
      ],
      "execution_count": 28,
      "outputs": []
    },
    {
      "cell_type": "code",
      "metadata": {
        "id": "_shZBT5ONBWp"
      },
      "source": [
        "def plot_confusion_matrix(cm, classes,\n",
        "                          normalize=False,\n",
        "                          title='Confusion matrix',\n",
        "                          cmap=plt.cm.Blues):\n",
        "    \"\"\"\n",
        "    See full source and example: \n",
        "    http://scikit-learn.org/stable/auto_examples/model_selection/plot_confusion_matrix.html\n",
        "    \n",
        "    This function prints and plots the confusion matrix.\n",
        "    Normalization can be applied by setting `normalize=True`.\n",
        "    \"\"\"\n",
        "    plt.imshow(cm, interpolation='nearest', cmap=cmap)\n",
        "    plt.title(title)\n",
        "    plt.colorbar()\n",
        "    tick_marks = np.arange(len(classes))\n",
        "    plt.xticks(tick_marks, classes, rotation=45)\n",
        "    plt.yticks(tick_marks, classes)\n",
        "\n",
        "    if normalize:\n",
        "        cm = cm.astype('float') / cm.sum(axis=1)[:, np.newaxis]\n",
        "        print(\"Normalized confusion matrix\")\n",
        "    else:\n",
        "        print('Confusion matrix, without normalization')\n",
        "\n",
        "    thresh = cm.max() / 2.\n",
        "    for i, j in itertools.product(range(cm.shape[0]), range(cm.shape[1])):\n",
        "        plt.text(j, i, cm[i, j],\n",
        "                 horizontalalignment=\"center\",\n",
        "                 color=\"white\" if cm[i, j] > thresh else \"black\")\n",
        "\n",
        "    plt.tight_layout()\n",
        "    plt.ylabel('True label')\n",
        "    plt.xlabel('Predicted label')"
      ],
      "execution_count": 29,
      "outputs": []
    },
    {
      "cell_type": "markdown",
      "metadata": {
        "id": "hLHC_EjaNBWq"
      },
      "source": [
        "### MultinomialNB Algorithm"
      ]
    },
    {
      "cell_type": "code",
      "metadata": {
        "id": "ay6hsGCWNBWq"
      },
      "source": [
        "\n",
        "from sklearn.naive_bayes import MultinomialNB\n",
        "classifier=MultinomialNB()"
      ],
      "execution_count": 30,
      "outputs": []
    },
    {
      "cell_type": "code",
      "metadata": {
        "id": "W0lM6acoNBWr"
      },
      "source": [
        "from sklearn import metrics\n",
        "import numpy as np\n",
        "import itertools"
      ],
      "execution_count": 31,
      "outputs": []
    },
    {
      "cell_type": "code",
      "metadata": {
        "colab": {
          "base_uri": "https://localhost:8080/",
          "height": 347
        },
        "id": "ybvcpt_uNBWr",
        "outputId": "9be22767-5f78-4e3a-94bd-c373fc68c448"
      },
      "source": [
        "classifier.fit(X_train, y_train)\n",
        "pred = classifier.predict(X_test)\n",
        "score = metrics.accuracy_score(y_test, pred)\n",
        "print(\"accuracy:   %0.3f\" % score)\n",
        "cm = metrics.confusion_matrix(y_test, pred)\n",
        "plot_confusion_matrix(cm, classes=['FAKE', 'REAL'])"
      ],
      "execution_count": 32,
      "outputs": [
        {
          "output_type": "stream",
          "text": [
            "accuracy:   0.902\n",
            "Confusion matrix, without normalization\n"
          ],
          "name": "stdout"
        },
        {
          "output_type": "display_data",
          "data": {
            "image/png": "[encoded data removed]",
            "text/plain": [
              "<Figure size 432x288 with 2 Axes>"
            ]
          },
          "metadata": {
            "tags": [],
            "needs_background": "light"
          }
        }
      ]
    },
    {
      "cell_type": "code",
      "metadata": {
        "colab": {
          "base_uri": "https://localhost:8080/"
        },
        "id": "HqgN0Dq-NBWs",
        "outputId": "516363cf-3983-4207-f10e-d356f4e3fd77"
      },
      "source": [
        "classifier.fit(X_train, y_train)\n",
        "pred = classifier.predict(X_test)\n",
        "score = metrics.accuracy_score(y_test, pred)\n",
        "score"
      ],
      "execution_count": 33,
      "outputs": [
        {
          "output_type": "execute_result",
          "data": {
            "text/plain": [
              "0.9019055509527755"
            ]
          },
          "metadata": {
            "tags": []
          },
          "execution_count": 33
        }
      ]
    },
    {
      "cell_type": "code",
      "metadata": {
        "colab": {
          "base_uri": "https://localhost:8080/"
        },
        "id": "XCPLMVXFZRqZ",
        "outputId": "a73ada26-7687-4cc5-92bc-53ce3a02723e"
      },
      "source": [
        "from sklearn.metrics import roc_curve\n",
        "from sklearn.metrics import roc_auc_score\n",
        "lr_probs = classifier.predict_proba(X_test)\n",
        "lr_probs = lr_probs[:, 1]\n",
        "lr_auc = roc_auc_score(y_test, lr_probs)\n",
        "print(lr_auc)"
      ],
      "execution_count": 34,
      "outputs": [
        {
          "output_type": "stream",
          "text": [
            "0.9658542476693638\n"
          ],
          "name": "stdout"
        }
      ]
    },
    {
      "cell_type": "code",
      "metadata": {
        "colab": {
          "base_uri": "https://localhost:8080/",
          "height": 283
        },
        "id": "zpi4bP_ZazQy",
        "outputId": "d49d2a77-c30b-4c5b-be09-ccf5b385b648"
      },
      "source": [
        "from matplotlib import pyplot\n",
        "# calculate roc curves\n",
        "test_fpr, test_tpr, _ = roc_curve(y_test, lr_probs)\n",
        "\n",
        "# plot the roc curve for the model\n",
        "# axis labels\n",
        "pyplot.xlabel('False Positive Rate')\n",
        "pyplot.ylabel('True Positive Rate')\n",
        "pyplot.plot(test_fpr,test_tpr,label=\"Independent test(AUC)=\"+str(lr_auc))\n",
        "# show the legend\n",
        "pyplot.plot([0, 1], [0, 1],'r--')\n",
        "pyplot.xlim([0, 1])\n",
        "pyplot.ylim([0, 1])\n",
        "pyplot.legend()\n",
        "# show the plot\n",
        "pyplot.show()"
      ],
      "execution_count": 35,
      "outputs": [
        {
          "output_type": "display_data",
          "data": {
            "image/png": "[encoded data removed]",
            "text/plain": [
              "<Figure size 432x288 with 1 Axes>"
            ]
          },
          "metadata": {
            "tags": [],
            "needs_background": "light"
          }
        }
      ]
    },
    {
      "cell_type": "code",
      "metadata": {
        "colab": {
          "base_uri": "https://localhost:8080/"
        },
        "id": "-qPn2U8LNBWs",
        "outputId": "8d516fb5-ac09-4377-b210-2d8345195bd2"
      },
      "source": [
        "y_train.shape"
      ],
      "execution_count": 36,
      "outputs": [
        {
          "output_type": "execute_result",
          "data": {
            "text/plain": [
              "(12250,)"
            ]
          },
          "metadata": {
            "tags": []
          },
          "execution_count": 36
        }
      ]
    },
    {
      "cell_type": "markdown",
      "metadata": {
        "id": "LfDst_IENBWt"
      },
      "source": [
        "### Passive Aggressive Classifier Algorithm"
      ]
    },
    {
      "cell_type": "code",
      "metadata": {
        "id": "mWHqluRXNBWt"
      },
      "source": [
        "from sklearn.linear_model import PassiveAggressiveClassifier\n",
        "linear_clf = PassiveAggressiveClassifier()"
      ],
      "execution_count": 37,
      "outputs": []
    },
    {
      "cell_type": "code",
      "metadata": {
        "colab": {
          "base_uri": "https://localhost:8080/",
          "height": 347
        },
        "id": "psBSJ2DBNBWt",
        "outputId": "b5daa5cd-dce0-484a-e43d-fb3638a573a7"
      },
      "source": [
        "linear_clf.fit(X_train, y_train)\n",
        "pred = linear_clf.predict(X_test)\n",
        "score = metrics.accuracy_score(y_test, pred)\n",
        "print(\"accuracy:   %0.3f\" % score)\n",
        "cm = metrics.confusion_matrix(y_test, pred)\n",
        "plot_confusion_matrix(cm, classes=['FAKE Data', 'REAL Data'])"
      ],
      "execution_count": 38,
      "outputs": [
        {
          "output_type": "stream",
          "text": [
            "accuracy:   0.922\n",
            "Confusion matrix, without normalization\n"
          ],
          "name": "stdout"
        },
        {
          "output_type": "display_data",
          "data": {
            "image/png": "[encoded data removed]",
            "text/plain": [
              "<Figure size 432x288 with 2 Axes>"
            ]
          },
          "metadata": {
            "tags": [],
            "needs_background": "light"
          }
        }
      ]
    },
    {
      "cell_type": "code",
      "metadata": {
        "colab": {
          "base_uri": "https://localhost:8080/"
        },
        "id": "_EmI4XOkZLUZ",
        "outputId": "ab582cb9-c758-44a2-e539-caba06e09115"
      },
      "source": [
        "from sklearn.metrics import roc_curve\n",
        "from sklearn.metrics import roc_auc_score\n",
        "lr_probs = linear_clf.predict(X_test)\n",
        "lr_probs = lr_probs\n",
        "lr_auc = roc_auc_score(y_test, lr_probs)\n",
        "print(lr_auc)"
      ],
      "execution_count": 39,
      "outputs": [
        {
          "output_type": "stream",
          "text": [
            "0.9224966305331351\n"
          ],
          "name": "stdout"
        }
      ]
    },
    {
      "cell_type": "code",
      "metadata": {
        "colab": {
          "base_uri": "https://localhost:8080/",
          "height": 283
        },
        "id": "CM5DSuNtZVbY",
        "outputId": "e47a47b4-0894-4ec9-f974-a5b58c061e66"
      },
      "source": [
        "from matplotlib import pyplot\n",
        "# calculate roc curves\n",
        "test_fpr, test_tpr, _ = roc_curve(y_test, lr_probs)\n",
        "\n",
        "# plot the roc curve for the model\n",
        "# axis labels\n",
        "pyplot.xlabel('False Positive Rate')\n",
        "pyplot.ylabel('True Positive Rate')\n",
        "pyplot.plot(test_fpr,test_tpr,label=\"Independent test(AUC)=\"+str(lr_auc))\n",
        "# show the legend\n",
        "pyplot.plot([0, 1], [0, 1],'r--')\n",
        "pyplot.xlim([0, 1])\n",
        "pyplot.ylim([0, 1])\n",
        "pyplot.legend()\n",
        "# show the plot\n",
        "pyplot.show()"
      ],
      "execution_count": 40,
      "outputs": [
        {
          "output_type": "display_data",
          "data": {
            "image/png": "[encoded data removed]",
            "text/plain": [
              "<Figure size 432x288 with 1 Axes>"
            ]
          },
          "metadata": {
            "tags": [],
            "needs_background": "light"
          }
        }
      ]
    },
    {
      "cell_type": "markdown",
      "metadata": {
        "id": "G1rz_WsKNBWu"
      },
      "source": [
        "### Multinomial Classifier with Hyperparameter"
      ]
    },
    {
      "cell_type": "code",
      "metadata": {
        "id": "gfiuHiazNBWu"
      },
      "source": [
        "classifier=MultinomialNB(alpha=0.1)"
      ],
      "execution_count": 41,
      "outputs": []
    },
    {
      "cell_type": "code",
      "metadata": {
        "colab": {
          "base_uri": "https://localhost:8080/"
        },
        "id": "k6dX72StNBWu",
        "outputId": "a66bfed2-fde2-4082-9a9c-e84975874311"
      },
      "source": [
        "previous_score=0\n",
        "for alpha in np.arange(0,1,0.1):\n",
        "    sub_classifier=MultinomialNB(alpha=alpha)\n",
        "    sub_classifier.fit(X_train,y_train)\n",
        "    y_pred=sub_classifier.predict(X_test)\n",
        "    score = metrics.accuracy_score(y_test, y_pred)\n",
        "    if score>previous_score:\n",
        "        classifier=sub_classifier\n",
        "    print(\"Alpha: {}, Score : {}\".format(alpha,score))"
      ],
      "execution_count": 42,
      "outputs": [
        {
          "output_type": "stream",
          "text": [
            "/usr/local/lib/python3.7/dist-packages/sklearn/naive_bayes.py:507: UserWarning: alpha too small will result in numeric errors, setting alpha = 1.0e-10\n",
            "  'setting alpha = %.1e' % _ALPHA_MIN)\n"
          ],
          "name": "stderr"
        },
        {
          "output_type": "stream",
          "text": [
            "Alpha: 0.0, Score : 0.8903065451532726\n",
            "Alpha: 0.1, Score : 0.9020712510356255\n",
            "Alpha: 0.2, Score : 0.9025683512841757\n",
            "Alpha: 0.30000000000000004, Score : 0.9024026512013256\n",
            "Alpha: 0.4, Score : 0.9017398508699255\n",
            "Alpha: 0.5, Score : 0.9015741507870754\n",
            "Alpha: 0.6000000000000001, Score : 0.9022369511184756\n",
            "Alpha: 0.7000000000000001, Score : 0.9025683512841757\n",
            "Alpha: 0.8, Score : 0.9015741507870754\n",
            "Alpha: 0.9, Score : 0.9017398508699255\n"
          ],
          "name": "stdout"
        }
      ]
    },
    {
      "cell_type": "code",
      "metadata": {
        "id": "plnOfkJvNBWv"
      },
      "source": [
        "## Get Features names\n",
        "feature_names = cv.get_feature_names()"
      ],
      "execution_count": 43,
      "outputs": []
    },
    {
      "cell_type": "code",
      "metadata": {
        "colab": {
          "base_uri": "https://localhost:8080/"
        },
        "id": "SfVGv6EgNBWv",
        "outputId": "8c30d91c-0451-4d2d-c51a-e6de78cdd649"
      },
      "source": [
        "classifier.coef_[0]"
      ],
      "execution_count": 44,
      "outputs": [
        {
          "output_type": "execute_result",
          "data": {
            "text/plain": [
              "array([ -9.10038883,  -8.62276128,  -9.10038883, ..., -10.79498456,\n",
              "        -8.91467169,  -9.32864749])"
            ]
          },
          "metadata": {
            "tags": []
          },
          "execution_count": 44
        }
      ]
    },
    {
      "cell_type": "code",
      "metadata": {
        "colab": {
          "base_uri": "https://localhost:8080/"
        },
        "id": "FTIlV1geNBWw",
        "outputId": "2fb47eb3-5a93-40be-f115-23f3481a0f65"
      },
      "source": [
        "### Most real\n",
        "sorted(zip(classifier.coef_[0], feature_names), reverse=True)[:20]"
      ],
      "execution_count": 45,
      "outputs": [
        {
          "output_type": "execute_result",
          "data": {
            "text/plain": [
              "[(-4.000149156604985, 'trump'),\n",
              " (-4.287872694443541, 'hillari'),\n",
              " (-4.396389621061519, 'clinton'),\n",
              " (-4.899969726208735, 'elect'),\n",
              " (-5.176598600897756, 'new'),\n",
              " (-5.234730366348767, 'comment'),\n",
              " (-5.273968180973631, 'video'),\n",
              " (-5.3868167681180115, 'war'),\n",
              " (-5.396821854078974, 'us'),\n",
              " (-5.412019714988405, 'hillari clinton'),\n",
              " (-5.417137433425386, 'fbi'),\n",
              " (-5.48068448454208, 'vote'),\n",
              " (-5.566255475855405, 'email'),\n",
              " (-5.578238842742501, 'world'),\n",
              " (-5.634015380199913, 'obama'),\n",
              " (-5.734501455772904, 'donald'),\n",
              " (-5.763095255139644, 'donald trump'),\n",
              " (-5.785090276725191, 'russia'),\n",
              " (-5.846224665218559, 'day'),\n",
              " (-5.862110622807369, 'america')]"
            ]
          },
          "metadata": {
            "tags": []
          },
          "execution_count": 45
        }
      ]
    },
    {
      "cell_type": "code",
      "metadata": {
        "colab": {
          "base_uri": "https://localhost:8080/"
        },
        "id": "AAA5gFb_NBWy",
        "outputId": "cb3a118c-57a1-496c-ca6b-6472776d5db5"
      },
      "source": [
        "### Most fake\n",
        "sorted(zip(classifier.coef_[0], feature_names))[:5000]"
      ],
      "execution_count": 46,
      "outputs": [
        {
          "output_type": "execute_result",
          "data": {
            "text/plain": [
              "[(-10.794984555596727, 'abe'),\n",
              " (-10.794984555596727, 'abroad'),\n",
              " (-10.794984555596727, 'abus new'),\n",
              " (-10.794984555596727, 'abus new york'),\n",
              " (-10.794984555596727, 'act new'),\n",
              " (-10.794984555596727, 'act new york'),\n",
              " (-10.794984555596727, 'advic'),\n",
              " (-10.794984555596727, 'advis new'),\n",
              " (-10.794984555596727, 'advis new york'),\n",
              " (-10.794984555596727, 'age new'),\n",
              " (-10.794984555596727, 'age new york'),\n",
              " (-10.794984555596727, 'agenda breitbart'),\n",
              " (-10.794984555596727, 'ail'),\n",
              " (-10.794984555596727, 'aleppo new'),\n",
              " (-10.794984555596727, 'aleppo new york'),\n",
              " (-10.794984555596727, 'ali'),\n",
              " (-10.794984555596727, 'america breitbart'),\n",
              " (-10.794984555596727, 'america new york'),\n",
              " (-10.794984555596727, 'american breitbart'),\n",
              " (-10.794984555596727, 'american new'),\n",
              " (-10.794984555596727, 'american new york'),\n",
              " (-10.794984555596727, 'ami'),\n",
              " (-10.794984555596727, 'ami schumer'),\n",
              " (-10.794984555596727, 'amp'),\n",
              " (-10.794984555596727, 'ann'),\n",
              " (-10.794984555596727, 'ann coulter'),\n",
              " (-10.794984555596727, 'applaud'),\n",
              " (-10.794984555596727, 'arson'),\n",
              " (-10.794984555596727, 'asian'),\n",
              " (-10.794984555596727, 'assail'),\n",
              " (-10.794984555596727, 'athlet'),\n",
              " (-10.794984555596727, 'attack breitbart'),\n",
              " (-10.794984555596727, 'attack new'),\n",
              " (-10.794984555596727, 'attack new york'),\n",
              " (-10.794984555596727, 'attack syria'),\n",
              " (-10.794984555596727, 'attend'),\n",
              " (-10.794984555596727, 'avert'),\n",
              " (-10.794984555596727, 'away new'),\n",
              " (-10.794984555596727, 'away new york'),\n",
              " (-10.794984555596727, 'back new'),\n",
              " (-10.794984555596727, 'back new york'),\n",
              " (-10.794984555596727, 'baltimor'),\n",
              " (-10.794984555596727, 'ban breitbart'),\n",
              " (-10.794984555596727, 'ban new'),\n",
              " (-10.794984555596727, 'ban new york'),\n",
              " (-10.794984555596727, 'bangladesh'),\n",
              " (-10.794984555596727, 'barron trump'),\n",
              " (-10.794984555596727, 'basic'),\n",
              " (-10.794984555596727, 'basketbal'),\n",
              " (-10.794984555596727, 'basketbal player'),\n",
              " (-10.794984555596727, 'baton'),\n",
              " (-10.794984555596727, 'baton roug'),\n",
              " (-10.794984555596727, 'battl new'),\n",
              " (-10.794984555596727, 'battl new york'),\n",
              " (-10.794984555596727, 'bay'),\n",
              " (-10.794984555596727, 'beach new'),\n",
              " (-10.794984555596727, 'beach new york'),\n",
              " (-10.794984555596727, 'begin new'),\n",
              " (-10.794984555596727, 'behead photo'),\n",
              " (-10.794984555596727, 'behind trump'),\n",
              " (-10.794984555596727, 'berkeley breitbart'),\n",
              " (-10.794984555596727, 'betsi'),\n",
              " (-10.794984555596727, 'betsi devo'),\n",
              " (-10.794984555596727, 'bill breitbart'),\n",
              " (-10.794984555596727, 'bill new'),\n",
              " (-10.794984555596727, 'bill new york'),\n",
              " (-10.794984555596727, 'bill reilli'),\n",
              " (-10.794984555596727, 'billi'),\n",
              " (-10.794984555596727, 'blue state'),\n",
              " (-10.794984555596727, 'blue state blue'),\n",
              " (-10.794984555596727, 'bolster'),\n",
              " (-10.794984555596727, 'border patrol'),\n",
              " (-10.794984555596727, 'border patrol agent'),\n",
              " (-10.794984555596727, 'border state'),\n",
              " (-10.794984555596727, 'border wall'),\n",
              " (-10.794984555596727, 'border wall breitbart'),\n",
              " (-10.794984555596727, 'bowl'),\n",
              " (-10.794984555596727, 'box offic'),\n",
              " (-10.794984555596727, 'bradi'),\n",
              " (-10.794984555596727, 'breath'),\n",
              " (-10.794984555596727, 'breitbart news daili'),\n",
              " (-10.794984555596727, 'brief new'),\n",
              " (-10.794984555596727, 'brief new york'),\n",
              " (-10.794984555596727, 'broadway'),\n",
              " (-10.794984555596727, 'bronx'),\n",
              " (-10.794984555596727, 'brooklyn'),\n",
              " (-10.794984555596727, 'brooklyn new'),\n",
              " (-10.794984555596727, 'brooklyn new york'),\n",
              " (-10.794984555596727, 'bureaucrat'),\n",
              " (-10.794984555596727, 'caitlyn'),\n",
              " (-10.794984555596727, 'caitlyn jenner'),\n",
              " (-10.794984555596727, 'cal'),\n",
              " (-10.794984555596727, 'california today'),\n",
              " (-10.794984555596727, 'calm'),\n",
              " (-10.794984555596727, 'campaign breitbart'),\n",
              " (-10.794984555596727, 'campaign new'),\n",
              " (-10.794984555596727, 'campaign new york'),\n",
              " (-10.794984555596727, 'campu breitbart'),\n",
              " (-10.794984555596727, 'cann'),\n",
              " (-10.794984555596727, 'car new'),\n",
              " (-10.794984555596727, 'car new york'),\n",
              " (-10.794984555596727, 'care act'),\n",
              " (-10.794984555596727, 'care act new'),\n",
              " (-10.794984555596727, 'care bill'),\n",
              " (-10.794984555596727, 'care breitbart'),\n",
              " (-10.794984555596727, 'carri fisher'),\n",
              " (-10.794984555596727, 'carson'),\n",
              " (-10.794984555596727, 'case new'),\n",
              " (-10.794984555596727, 'case new york'),\n",
              " (-10.794984555596727, 'castro'),\n",
              " (-10.794984555596727, 'caucu'),\n",
              " (-10.794984555596727, 'ceas'),\n",
              " (-10.794984555596727, 'ceas fire'),\n",
              " (-10.794984555596727, 'chamber'),\n",
              " (-10.794984555596727, 'championship'),\n",
              " (-10.794984555596727, 'championship new'),\n",
              " (-10.794984555596727, 'championship new york'),\n",
              " (-10.794984555596727, 'chang new'),\n",
              " (-10.794984555596727, 'chang new york'),\n",
              " (-10.794984555596727, 'charg new york'),\n",
              " (-10.794984555596727, 'charleston'),\n",
              " (-10.794984555596727, 'charlott'),\n",
              " (-10.794984555596727, 'cher'),\n",
              " (-10.794984555596727, 'chief new'),\n",
              " (-10.794984555596727, 'chief new york'),\n",
              " (-10.794984555596727, 'china new york'),\n",
              " (-10.794984555596727, 'chri christi'),\n",
              " (-10.794984555596727, 'christi'),\n",
              " (-10.794984555596727, 'christoph'),\n",
              " (-10.794984555596727, 'chuck'),\n",
              " (-10.794984555596727, 'chuck todd'),\n",
              " (-10.794984555596727, 'circuit'),\n",
              " (-10.794984555596727, 'citi new'),\n",
              " (-10.794984555596727, 'citi new york'),\n",
              " (-10.794984555596727, 'citizenship'),\n",
              " (-10.794984555596727, 'clinton new york'),\n",
              " (-10.794984555596727, 'clue'),\n",
              " (-10.794984555596727, 'coach'),\n",
              " (-10.794984555596727, 'colleg new'),\n",
              " (-10.794984555596727, 'colleg new york'),\n",
              " (-10.794984555596727, 'collid'),\n",
              " (-10.794984555596727, 'collin'),\n",
              " (-10.794984555596727, 'comedi'),\n",
              " (-10.794984555596727, 'comedi central'),\n",
              " (-10.794984555596727, 'comey fire'),\n",
              " (-10.794984555596727, 'commission'),\n",
              " (-10.794984555596727, 'common core'),\n",
              " (-10.794984555596727, 'common ground'),\n",
              " (-10.794984555596727, 'compet'),\n",
              " (-10.794984555596727, 'complex'),\n",
              " (-10.794984555596727, 'conceal'),\n",
              " (-10.794984555596727, 'confirm hear'),\n",
              " (-10.794984555596727, 'congress breitbart'),\n",
              " (-10.794984555596727, 'congress new york'),\n",
              " (-10.794984555596727, 'control new'),\n",
              " (-10.794984555596727, 'control new york'),\n",
              " (-10.794984555596727, 'convent new'),\n",
              " (-10.794984555596727, 'convent new york'),\n",
              " (-10.794984555596727, 'corner'),\n",
              " (-10.794984555596727, 'coulter'),\n",
              " (-10.794984555596727, 'counsel'),\n",
              " (-10.794984555596727, 'countri breitbart'),\n",
              " (-10.794984555596727, 'cours'),\n",
              " (-10.794984555596727, 'court block'),\n",
              " (-10.794984555596727, 'court new'),\n",
              " (-10.794984555596727, 'court new york'),\n",
              " (-10.794984555596727, 'court rule new'),\n",
              " (-10.794984555596727, 'cpac'),\n",
              " (-10.794984555596727, 'crash new'),\n",
              " (-10.794984555596727, 'crash new york'),\n",
              " (-10.794984555596727, 'crime breitbart'),\n",
              " (-10.794984555596727, 'crisi new'),\n",
              " (-10.794984555596727, 'crisi new york'),\n",
              " (-10.794984555596727, 'critic new'),\n",
              " (-10.794984555596727, 'crown'),\n",
              " (-10.794984555596727, 'cunningham'),\n",
              " (-10.794984555596727, 'curb'),\n",
              " (-10.794984555596727, 'davo'),\n",
              " (-10.794984555596727, 'day breitbart'),\n",
              " (-10.794984555596727, 'day new york'),\n",
              " (-10.794984555596727, 'day parad'),\n",
              " (-10.794984555596727, 'dead new'),\n",
              " (-10.794984555596727, 'dead new york'),\n",
              " (-10.794984555596727, 'deal breitbart'),\n",
              " (-10.794984555596727, 'deal new'),\n",
              " (-10.794984555596727, 'deal new york'),\n",
              " (-10.794984555596727, 'death new'),\n",
              " (-10.794984555596727, 'death new york'),\n",
              " (-10.794984555596727, 'debat new'),\n",
              " (-10.794984555596727, 'debat new york'),\n",
              " (-10.794984555596727, 'debbi reynold'),\n",
              " (-10.794984555596727, 'defi'),\n",
              " (-10.794984555596727, 'defund'),\n",
              " (-10.794984555596727, 'delingpol'),\n",
              " (-10.794984555596727, 'dem rep'),\n",
              " (-10.794984555596727, 'dem sen'),\n",
              " (-10.794984555596727, 'democrat breitbart'),\n",
              " (-10.794984555596727, 'democrat new'),\n",
              " (-10.794984555596727, 'democrat new york'),\n",
              " (-10.794984555596727, 'deport breitbart'),\n",
              " (-10.794984555596727, 'despair'),\n",
              " (-10.794984555596727, 'devo'),\n",
              " (-10.794984555596727, 'dh'),\n",
              " (-10.794984555596727, 'die new'),\n",
              " (-10.794984555596727, 'die new york'),\n",
              " (-10.794984555596727, 'diego'),\n",
              " (-10.794984555596727, 'disappoint'),\n",
              " (-10.794984555596727, 'divorc'),\n",
              " (-10.794984555596727, 'donald trump breitbart'),\n",
              " (-10.794984555596727, 'donald trump campaign'),\n",
              " (-10.794984555596727, 'donald trump inaugur'),\n",
              " (-10.794984555596727, 'dossier'),\n",
              " (-10.794984555596727, 'drama'),\n",
              " (-10.794984555596727, 'drive car'),\n",
              " (-10.794984555596727, 'drug new'),\n",
              " (-10.794984555596727, 'drug new york'),\n",
              " (-10.794984555596727, 'dunham'),\n",
              " (-10.794984555596727, 'dylann'),\n",
              " (-10.794984555596727, 'dylann roof'),\n",
              " (-10.794984555596727, 'eas'),\n",
              " (-10.794984555596727, 'easter'),\n",
              " (-10.794984555596727, 'economi new'),\n",
              " (-10.794984555596727, 'ecuador'),\n",
              " (-10.794984555596727, 'effort new york'),\n",
              " (-10.794984555596727, 'egyptair'),\n",
              " (-10.794984555596727, 'elect breitbart'),\n",
              " (-10.794984555596727, 'elect loss'),\n",
              " (-10.794984555596727, 'elect new york'),\n",
              " (-10.794984555596727, 'els new'),\n",
              " (-10.794984555596727, 'els new york'),\n",
              " (-10.794984555596727, 'embassi jerusalem'),\n",
              " (-10.794984555596727, 'emmi'),\n",
              " (-10.794984555596727, 'end new'),\n",
              " (-10.794984555596727, 'end new york'),\n",
              " (-10.794984555596727, 'england'),\n",
              " (-10.794984555596727, 'england patriot'),\n",
              " (-10.794984555596727, 'epa'),\n",
              " (-10.794984555596727, 'era new'),\n",
              " (-10.794984555596727, 'era new york'),\n",
              " (-10.794984555596727, 'espn'),\n",
              " (-10.794984555596727, 'europ new york'),\n",
              " (-10.794984555596727, 'european union'),\n",
              " (-10.794984555596727, 'even brief'),\n",
              " (-10.794984555596727, 'even brief new'),\n",
              " (-10.794984555596727, 'event breitbart'),\n",
              " (-10.794984555596727, 'execut order breitbart'),\n",
              " (-10.794984555596727, 'expand'),\n",
              " (-10.794984555596727, 'explain new'),\n",
              " (-10.794984555596727, 'explain new york'),\n",
              " (-10.794984555596727, 'extradit'),\n",
              " (-10.794984555596727, 'face new'),\n",
              " (-10.794984555596727, 'faction'),\n",
              " (-10.794984555596727, 'fake news breitbart'),\n",
              " (-10.794984555596727, 'fake news new'),\n",
              " (-10.794984555596727, 'falluja'),\n",
              " (-10.794984555596727, 'familiar'),\n",
              " (-10.794984555596727, 'farewel'),\n",
              " (-10.794984555596727, 'fargo'),\n",
              " (-10.794984555596727, 'fatal shoot'),\n",
              " (-10.794984555596727, 'fear new york'),\n",
              " (-10.794984555596727, 'fear trump'),\n",
              " (-10.794984555596727, 'feinstein'),\n",
              " (-10.794984555596727, 'fidel'),\n",
              " (-10.794984555596727, 'fidel castro'),\n",
              " (-10.794984555596727, 'fieri'),\n",
              " (-10.794984555596727, 'fight new'),\n",
              " (-10.794984555596727, 'fight new york'),\n",
              " (-10.794984555596727, 'fight trump'),\n",
              " (-10.794984555596727, 'filibust'),\n",
              " (-10.794984555596727, 'fillon'),\n",
              " (-10.794984555596727, 'find new york'),\n",
              " (-10.794984555596727, 'fire breitbart'),\n",
              " (-10.794984555596727, 'fire new york'),\n",
              " (-10.794984555596727, 'fisher'),\n",
              " (-10.794984555596727, 'fitton'),\n",
              " (-10.794984555596727, 'flight new'),\n",
              " (-10.794984555596727, 'flight new york'),\n",
              " (-10.794984555596727, 'fmr'),\n",
              " (-10.794984555596727, 'fort'),\n",
              " (-10.794984555596727, 'found new'),\n",
              " (-10.794984555596727, 'found new york'),\n",
              " (-10.794984555596727, 'fran oi'),\n",
              " (-10.794984555596727, 'fran oi fillon'),\n",
              " (-10.794984555596727, 'franc new'),\n",
              " (-10.794984555596727, 'franc new york'),\n",
              " (-10.794984555596727, 'freedom caucu'),\n",
              " (-10.794984555596727, 'french presidenti'),\n",
              " (-10.794984555596727, 'friday even'),\n",
              " (-10.794984555596727, 'friday even brief'),\n",
              " (-10.794984555596727, 'fs'),\n",
              " (-10.794984555596727, 'futur new'),\n",
              " (-10.794984555596727, 'futur new york'),\n",
              " (-10.794984555596727, 'gaffney'),\n",
              " (-10.794984555596727, 'game breitbart'),\n",
              " (-10.794984555596727, 'game new'),\n",
              " (-10.794984555596727, 'game new york'),\n",
              " (-10.794984555596727, 'gawker'),\n",
              " (-10.794984555596727, 'gener new'),\n",
              " (-10.794984555596727, 'gener new york'),\n",
              " (-10.794984555596727, 'georg michael'),\n",
              " (-10.794984555596727, 'get back'),\n",
              " (-10.794984555596727, 'get new'),\n",
              " (-10.794984555596727, 'go new york'),\n",
              " (-10.794984555596727, 'golden globe'),\n",
              " (-10.794984555596727, 'golden state'),\n",
              " (-10.794984555596727, 'golden state warrior'),\n",
              " (-10.794984555596727, 'goodel'),\n",
              " (-10.794984555596727, 'gop rep'),\n",
              " (-10.794984555596727, 'gop sen'),\n",
              " (-10.794984555596727, 'gorka'),\n",
              " (-10.794984555596727, 'gorsuch'),\n",
              " (-10.794984555596727, 'gorsuch breitbart'),\n",
              " (-10.794984555596727, 'gorsuch confirm'),\n",
              " (-10.794984555596727, 'govern new york'),\n",
              " (-10.794984555596727, 'grammi'),\n",
              " (-10.794984555596727, 'gray'),\n",
              " (-10.794984555596727, 'griffin'),\n",
              " (-10.794984555596727, 'grow new'),\n",
              " (-10.794984555596727, 'grow new york'),\n",
              " (-10.794984555596727, 'guant'),\n",
              " (-10.794984555596727, 'guant namo'),\n",
              " (-10.794984555596727, 'gulf'),\n",
              " (-10.794984555596727, 'gymnast'),\n",
              " (-10.794984555596727, 'hack new'),\n",
              " (-10.794984555596727, 'hack new york'),\n",
              " (-10.794984555596727, 'hbo'),\n",
              " (-10.794984555596727, 'health bill'),\n",
              " (-10.794984555596727, 'health care bill'),\n",
              " (-10.794984555596727, 'health insur'),\n",
              " (-10.794984555596727, 'health law'),\n",
              " (-10.794984555596727, 'healthcar bill'),\n",
              " (-10.794984555596727, 'hear new'),\n",
              " (-10.794984555596727, 'hear new york'),\n",
              " (-10.794984555596727, 'heart new'),\n",
              " (-10.794984555596727, 'heart new york'),\n",
              " (-10.794984555596727, 'high school'),\n",
              " (-10.794984555596727, 'histori new'),\n",
              " (-10.794984555596727, 'histori new york'),\n",
              " (-10.794984555596727, 'hockey'),\n",
              " (-10.794984555596727, 'holiday'),\n",
              " (-10.794984555596727, 'home new'),\n",
              " (-10.794984555596727, 'home new york'),\n",
              " (-10.794984555596727, 'hometown'),\n",
              " (-10.794984555596727, 'horribl'),\n",
              " (-10.794984555596727, 'hous breitbart'),\n",
              " (-10.794984555596727, 'hous new york'),\n",
              " (-10.794984555596727, 'hungari'),\n",
              " (-10.794984555596727, 'hurrican matthew'),\n",
              " (-10.794984555596727, 'imam'),\n",
              " (-10.794984555596727, 'immigr order'),\n",
              " (-10.794984555596727, 'inaugur speech'),\n",
              " (-10.794984555596727, 'inquiri new'),\n",
              " (-10.794984555596727, 'inquiri new york'),\n",
              " (-10.794984555596727, 'intend'),\n",
              " (-10.794984555596727, 'interest rate'),\n",
              " (-10.794984555596727, 'investig breitbart'),\n",
              " (-10.794984555596727, 'investig new york'),\n",
              " (-10.794984555596727, 'investig trump'),\n",
              " (-10.794984555596727, 'isi new'),\n",
              " (-10.794984555596727, 'isi new york'),\n",
              " (-10.794984555596727, 'islam state support'),\n",
              " (-10.794984555596727, 'isol'),\n",
              " (-10.794984555596727, 'issu new'),\n",
              " (-10.794984555596727, 'issu new york'),\n",
              " (-10.794984555596727, 'jacki'),\n",
              " (-10.794984555596727, 'jake'),\n",
              " (-10.794984555596727, 'jane'),\n",
              " (-10.794984555596727, 'jare kushner'),\n",
              " (-10.794984555596727, 'jerri'),\n",
              " (-10.794984555596727, 'jerri brown'),\n",
              " (-10.794984555596727, 'jo'),\n",
              " (-10.794984555596727, 'job breitbart'),\n",
              " (-10.794984555596727, 'job new'),\n",
              " (-10.794984555596727, 'job new york'),\n",
              " (-10.794984555596727, 'jong'),\n",
              " (-10.794984555596727, 'jong nam'),\n",
              " (-10.794984555596727, 'jong un'),\n",
              " (-10.794984555596727, 'journey'),\n",
              " (-10.794984555596727, 'jr'),\n",
              " (-10.794984555596727, 'judici'),\n",
              " (-10.794984555596727, 'justin'),\n",
              " (-10.794984555596727, 'kabul'),\n",
              " (-10.794984555596727, 'kathi'),\n",
              " (-10.794984555596727, 'kathi griffin'),\n",
              " (-10.794984555596727, 'kati'),\n",
              " (-10.794984555596727, 'kellogg'),\n",
              " (-10.794984555596727, 'kevin'),\n",
              " (-10.794984555596727, 'kill new'),\n",
              " (-10.794984555596727, 'kill new york'),\n",
              " (-10.794984555596727, 'kim jong'),\n",
              " (-10.794984555596727, 'kim jong nam'),\n",
              " (-10.794984555596727, 'kim jong un'),\n",
              " (-10.794984555596727, 'know know'),\n",
              " (-10.794984555596727, 'know new york'),\n",
              " (-10.794984555596727, 'korea new'),\n",
              " (-10.794984555596727, 'korea new york'),\n",
              " (-10.794984555596727, 'krauthamm'),\n",
              " (-10.794984555596727, 'kushner'),\n",
              " (-10.794984555596727, 'la la'),\n",
              " (-10.794984555596727, 'la la land'),\n",
              " (-10.794984555596727, 'la land'),\n",
              " (-10.794984555596727, 'labour'),\n",
              " (-10.794984555596727, 'lago'),\n",
              " (-10.794984555596727, 'latin'),\n",
              " (-10.794984555596727, 'lauderdal'),\n",
              " (-10.794984555596727, 'law breitbart'),\n",
              " (-10.794984555596727, 'law new'),\n",
              " (-10.794984555596727, 'law new york'),\n",
              " (-10.794984555596727, 'lawyer say'),\n",
              " (-10.794984555596727, 'le pen'),\n",
              " (-10.794984555596727, 'leader new'),\n",
              " (-10.794984555596727, 'leader new york'),\n",
              " (-10.794984555596727, 'leaker'),\n",
              " (-10.794984555596727, 'legitim'),\n",
              " (-10.794984555596727, 'lena'),\n",
              " (-10.794984555596727, 'lena dunham'),\n",
              " (-10.794984555596727, 'levin'),\n",
              " (-10.794984555596727, 'lewi'),\n",
              " (-10.794984555596727, 'life new'),\n",
              " (-10.794984555596727, 'life new york'),\n",
              " (-10.794984555596727, 'linda'),\n",
              " (-10.794984555596727, 'linda sarsour'),\n",
              " (-10.794984555596727, 'line new'),\n",
              " (-10.794984555596727, 'line new york'),\n",
              " (-10.794984555596727, 'listen new'),\n",
              " (-10.794984555596727, 'listen new york'),\n",
              " (-10.794984555596727, 'lite'),\n",
              " (-10.794984555596727, 'live new'),\n",
              " (-10.794984555596727, 'live new york'),\n",
              " (-10.794984555596727, 'lo angel'),\n",
              " (-10.794984555596727, 'locht'),\n",
              " (-10.794984555596727, 'london attack'),\n",
              " (-10.794984555596727, 'long island'),\n",
              " (-10.794984555596727, 'loss new'),\n",
              " (-10.794984555596727, 'loss new york'),\n",
              " (-10.794984555596727, 'louvr'),\n",
              " (-10.794984555596727, 'machin new'),\n",
              " (-10.794984555596727, 'machin new york'),\n",
              " (-10.794984555596727, 'macron'),\n",
              " (-10.794984555596727, 'madonna'),\n",
              " (-10.794984555596727, 'maker'),\n",
              " (-10.794984555596727, 'malaysia'),\n",
              " (-10.794984555596727, 'mall'),\n",
              " (-10.794984555596727, 'man new'),\n",
              " (-10.794984555596727, 'man new york'),\n",
              " (-10.794984555596727, 'manchin'),\n",
              " (-10.794984555596727, 'manuel'),\n",
              " (-10.794984555596727, 'mar'),\n",
              " (-10.794984555596727, 'mar lago'),\n",
              " (-10.794984555596727, 'marcher'),\n",
              " (-10.794984555596727, 'marin le'),\n",
              " (-10.794984555596727, 'marin le pen'),\n",
              " (-10.794984555596727, 'market new'),\n",
              " (-10.794984555596727, 'market new york'),\n",
              " (-10.794984555596727, 'marlow'),\n",
              " (-10.794984555596727, 'match'),\n",
              " (-10.794984555596727, 'maxin'),\n",
              " (-10.794984555596727, 'maxin water'),\n",
              " (-10.794984555596727, 'mcconnel'),\n",
              " (-10.794984555596727, 'media breitbart'),\n",
              " (-10.794984555596727, 'media new'),\n",
              " (-10.794984555596727, 'media new york'),\n",
              " (-10.794984555596727, 'medicaid'),\n",
              " (-10.794984555596727, 'meet new'),\n",
              " (-10.794984555596727, 'memori day'),\n",
              " (-10.794984555596727, 'merger'),\n",
              " (-10.794984555596727, 'meryl'),\n",
              " (-10.794984555596727, 'meryl streep'),\n",
              " (-10.794984555596727, 'mexican border'),\n",
              " (-10.794984555596727, 'mexican cartel'),\n",
              " (-10.794984555596727, 'michael phelp'),\n",
              " (-10.794984555596727, 'militari new'),\n",
              " (-10.794984555596727, 'militari new york'),\n",
              " (-10.794984555596727, 'million new york'),\n",
              " (-10.794984555596727, 'milo breitbart'),\n",
              " (-10.794984555596727, 'milo event'),\n",
              " (-10.794984555596727, 'miss new'),\n",
              " (-10.794984555596727, 'miss new york'),\n",
              " (-10.794984555596727, 'mnuchin'),\n",
              " (-10.794984555596727, 'model new'),\n",
              " (-10.794984555596727, 'model new york'),\n",
              " (-10.794984555596727, 'modi'),\n",
              " (-10.794984555596727, 'monday brief'),\n",
              " (-10.794984555596727, 'monday brief new'),\n",
              " (-10.794984555596727, 'monday even'),\n",
              " (-10.794984555596727, 'monday even brief'),\n",
              " (-10.794984555596727, 'money new'),\n",
              " (-10.794984555596727, 'money new york'),\n",
              " (-10.794984555596727, 'month new'),\n",
              " (-10.794984555596727, 'month new york'),\n",
              " (-10.794984555596727, 'monument'),\n",
              " (-10.794984555596727, 'moonlight'),\n",
              " (-10.794984555596727, 'morn brief'),\n",
              " (-10.794984555596727, 'morn brief new'),\n",
              " (-10.794984555596727, 'muhammad ali'),\n",
              " (-10.794984555596727, 'multipl'),\n",
              " (-10.794984555596727, 'mulvaney'),\n",
              " (-10.794984555596727, 'myanmar'),\n",
              " (-10.794984555596727, 'nam'),\n",
              " (-10.794984555596727, 'name new'),\n",
              " (-10.794984555596727, 'namo'),\n",
              " (-10.794984555596727, 'nanci'),\n",
              " (-10.794984555596727, 'nanci pelosi'),\n",
              " (-10.794984555596727, 'narendra'),\n",
              " (-10.794984555596727, 'narendra modi'),\n",
              " (-10.794984555596727, 'nat'),\n",
              " (-10.794984555596727, 'nation new'),\n",
              " (-10.794984555596727, 'nation new york'),\n",
              " (-10.794984555596727, 'nation secur advis'),\n",
              " (-10.794984555596727, 'navi seal'),\n",
              " (-10.794984555596727, 'near texa'),\n",
              " (-10.794984555596727, 'near texa border'),\n",
              " (-10.794984555596727, 'neil gorsuch'),\n",
              " (-10.794984555596727, 'netflix'),\n",
              " (-10.794984555596727, 'new england'),\n",
              " (-10.794984555596727, 'new england patriot'),\n",
              " (-10.794984555596727, 'new year eve'),\n",
              " (-10.794984555596727, 'new york new'),\n",
              " (-10.794984555596727, 'new york state'),\n",
              " (-10.794984555596727, 'news breitbart'),\n",
              " (-10.794984555596727, 'news cnn'),\n",
              " (-10.794984555596727, 'news daili'),\n",
              " (-10.794984555596727, 'news new'),\n",
              " (-10.794984555596727, 'news new york'),\n",
              " (-10.794984555596727, 'night new'),\n",
              " (-10.794984555596727, 'night new york'),\n",
              " (-10.794984555596727, 'nobel prize'),\n",
              " (-10.794984555596727, 'nomin'),\n",
              " (-10.794984555596727, 'nuclear option'),\n",
              " (-10.794984555596727, 'nune'),\n",
              " (-10.794984555596727, 'obama breitbart'),\n",
              " (-10.794984555596727, 'obama era'),\n",
              " (-10.794984555596727, 'obamacar breitbart'),\n",
              " (-10.794984555596727, 'obamacar lite'),\n",
              " (-10.794984555596727, 'obamacar repeal'),\n",
              " (-10.794984555596727, 'obamacar replac'),\n",
              " (-10.794984555596727, 'odd'),\n",
              " (-10.794984555596727, 'offic new'),\n",
              " (-10.794984555596727, 'offic new york'),\n",
              " (-10.794984555596727, 'offici say'),\n",
              " (-10.794984555596727, 'offici say new'),\n",
              " (-10.794984555596727, 'often'),\n",
              " (-10.794984555596727, 'oi'),\n",
              " (-10.794984555596727, 'oi fillon'),\n",
              " (-10.794984555596727, 'oliv'),\n",
              " (-10.794984555596727, 'olymp new'),\n",
              " (-10.794984555596727, 'olymp new york'),\n",
              " (-10.794984555596727, 'one new'),\n",
              " (-10.794984555596727, 'one new york'),\n",
              " (-10.794984555596727, 'op'),\n",
              " (-10.794984555596727, 'open door'),\n",
              " (-10.794984555596727, 'open new york'),\n",
              " (-10.794984555596727, 'oper new'),\n",
              " (-10.794984555596727, 'oppos trump'),\n",
              " (-10.794984555596727, 'order breitbart'),\n",
              " (-10.794984555596727, 'order new'),\n",
              " (-10.794984555596727, 'order new york'),\n",
              " (-10.794984555596727, 'orlando shoot'),\n",
              " (-10.794984555596727, 'orlean'),\n",
              " (-10.794984555596727, 'orovil'),\n",
              " (-10.794984555596727, 'outcri'),\n",
              " (-10.794984555596727, 'outlet'),\n",
              " (-10.794984555596727, 'overhaul'),\n",
              " (-10.794984555596727, 'pari agreement'),\n",
              " (-10.794984555596727, 'parti new'),\n",
              " (-10.794984555596727, 'parti new york'),\n",
              " (-10.794984555596727, 'passport'),\n",
              " (-10.794984555596727, 'past new'),\n",
              " (-10.794984555596727, 'past new york'),\n",
              " (-10.794984555596727, 'path new york'),\n",
              " (-10.794984555596727, 'patrol agent'),\n",
              " (-10.794984555596727, 'paul ryan obamacar'),\n",
              " (-10.794984555596727, 'pelosi'),\n",
              " (-10.794984555596727, 'penguin'),\n",
              " (-10.794984555596727, 'peopl breitbart'),\n",
              " (-10.794984555596727, 'perez'),\n",
              " (-10.794984555596727, 'persist'),\n",
              " (-10.794984555596727, 'person new york'),\n",
              " (-10.794984555596727, 'phelp'),\n",
              " (-10.794984555596727, 'pioneer'),\n",
              " (-10.794984555596727, 'plan new'),\n",
              " (-10.794984555596727, 'plan new york'),\n",
              " (-10.794984555596727, 'plane crash'),\n",
              " (-10.794984555596727, 'playoff'),\n",
              " (-10.794984555596727, 'poland'),\n",
              " (-10.794984555596727, 'polic new'),\n",
              " (-10.794984555596727, 'polic new york'),\n",
              " (-10.794984555596727, 'polic say'),\n",
              " (-10.794984555596727, 'polic say new'),\n",
              " (-10.794984555596727, 'polic shoot'),\n",
              " (-10.794984555596727, 'polici breitbart'),\n",
              " (-10.794984555596727, 'polici new'),\n",
              " (-10.794984555596727, 'polici new york'),\n",
              " (-10.794984555596727, 'polit new'),\n",
              " (-10.794984555596727, 'polit new york'),\n",
              " (-10.794984555596727, 'politico'),\n",
              " (-10.794984555596727, 'post new'),\n",
              " (-10.794984555596727, 'post new york'),\n",
              " (-10.794984555596727, 'pound'),\n",
              " (-10.794984555596727, 'power new york'),\n",
              " (-10.794984555596727, 'pregnanc'),\n",
              " (-10.794984555596727, 'pregnant'),\n",
              " (-10.794984555596727, 'presid breitbart'),\n",
              " (-10.794984555596727, 'presid new'),\n",
              " (-10.794984555596727, 'presid new york'),\n",
              " (-10.794984555596727, 'presid trump breitbart'),\n",
              " (-10.794984555596727, 'presidenti debat'),\n",
              " (-10.794984555596727, 'press breitbart'),\n",
              " (-10.794984555596727, 'preview'),\n",
              " (-10.794984555596727, 'price new'),\n",
              " (-10.794984555596727, 'price new york'),\n",
              " (-10.794984555596727, 'priebu'),\n",
              " (-10.794984555596727, 'prison new'),\n",
              " (-10.794984555596727, 'prison new york'),\n",
              " (-10.794984555596727, 'problem new'),\n",
              " (-10.794984555596727, 'problem new york'),\n",
              " (-10.794984555596727, 'profession'),\n",
              " (-10.794984555596727, 'prompt'),\n",
              " (-10.794984555596727, 'protest breitbart'),\n",
              " (-10.794984555596727, 'protest new'),\n",
              " (-10.794984555596727, 'proud'),\n",
              " (-10.794984555596727, 'pruitt'),\n",
              " (-10.794984555596727, 'publish'),\n",
              " (-10.794984555596727, 'puerto'),\n",
              " (-10.794984555596727, 'quebec'),\n",
              " (-10.794984555596727, 'race new'),\n",
              " (-10.794984555596727, 'race new york'),\n",
              " (-10.794984555596727, 'rampag'),\n",
              " (-10.794984555596727, 'rand'),\n",
              " (-10.794984555596727, 'rand paul'),\n",
              " (-10.794984555596727, 'rang'),\n",
              " (-10.794984555596727, 'rebuk'),\n",
              " (-10.794984555596727, 'recal'),\n",
              " (-10.794984555596727, 'redston'),\n",
              " (-10.794984555596727, 'regist'),\n",
              " (-10.794984555596727, 'rein'),\n",
              " (-10.794984555596727, 'reinc'),\n",
              " (-10.794984555596727, 'reinc priebu'),\n",
              " (-10.794984555596727, 'reinstat'),\n",
              " (-10.794984555596727, 'repeal breitbart'),\n",
              " (-10.794984555596727, 'repeal obamacar'),\n",
              " (-10.794984555596727, 'repeat'),\n",
              " (-10.794984555596727, 'replac bill'),\n",
              " (-10.794984555596727, 'report ask'),\n",
              " (-10.794984555596727, 'report breitbart'),\n",
              " (-10.794984555596727, 'report obama'),\n",
              " (-10.794984555596727, 'report say'),\n",
              " (-10.794984555596727, 'report say new'),\n",
              " (-10.794984555596727, 'report trump'),\n",
              " (-10.794984555596727, 'republican new'),\n",
              " (-10.794984555596727, 'republican new york'),\n",
              " (-10.794984555596727, 'reshap'),\n",
              " (-10.794984555596727, 'rethink'),\n",
              " (-10.794984555596727, 'rex'),\n",
              " (-10.794984555596727, 'rex tillerson'),\n",
              " (-10.794984555596727, 'rhetor'),\n",
              " (-10.794984555596727, 'rico'),\n",
              " (-10.794984555596727, 'right breitbart'),\n",
              " (-10.794984555596727, 'right new'),\n",
              " (-10.794984555596727, 'right new york'),\n",
              " (-10.794984555596727, 'rio'),\n",
              " (-10.794984555596727, 'rio olymp'),\n",
              " (-10.794984555596727, 'riot breitbart'),\n",
              " (-10.794984555596727, 'rodrigo'),\n",
              " (-10.794984555596727, 'rodrigo dutert'),\n",
              " (-10.794984555596727, 'roger ail'),\n",
              " (-10.794984555596727, 'roug'),\n",
              " (-10.794984555596727, 'rout'),\n",
              " (-10.794984555596727, 'rule breitbart'),\n",
              " (-10.794984555596727, 'rule new'),\n",
              " (-10.794984555596727, 'rule new york'),\n",
              " (-10.794984555596727, 'russia new york'),\n",
              " (-10.794984555596727, 'russia probe'),\n",
              " (-10.794984555596727, 'russian ambassador'),\n",
              " (-10.794984555596727, 'russian hack'),\n",
              " (-10.794984555596727, 'ryan locht'),\n",
              " (-10.794984555596727, 'ryan obamacar'),\n",
              " (-10.794984555596727, 'ryan obamacar lite'),\n",
              " (-10.794984555596727, 'ryancar'),\n",
              " (-10.794984555596727, 'san diego'),\n",
              " (-10.794984555596727, 'sarsour'),\n",
              " (-10.794984555596727, 'saturday'),\n",
              " (-10.794984555596727, 'saturday night'),\n",
              " (-10.794984555596727, 'saturday night live'),\n",
              " (-10.794984555596727, 'say new'),\n",
              " (-10.794984555596727, 'say new york'),\n",
              " (-10.794984555596727, 'scalis'),\n",
              " (-10.794984555596727, 'scandal breitbart'),\n",
              " (-10.794984555596727, 'scandal new'),\n",
              " (-10.794984555596727, 'scandal new york'),\n",
              " (-10.794984555596727, 'school new'),\n",
              " (-10.794984555596727, 'school new york'),\n",
              " (-10.794984555596727, 'schumer'),\n",
              " (-10.794984555596727, 'schwarzenegg'),\n",
              " (-10.794984555596727, 'scott pruitt'),\n",
              " (-10.794984555596727, 'scrambl'),\n",
              " (-10.794984555596727, 'sea new'),\n",
              " (-10.794984555596727, 'sea new york'),\n",
              " (-10.794984555596727, 'sean spicer'),\n",
              " (-10.794984555596727, 'sear'),\n",
              " (-10.794984555596727, 'season new'),\n",
              " (-10.794984555596727, 'season new york'),\n",
              " (-10.794984555596727, 'secretari new'),\n",
              " (-10.794984555596727, 'secretari new york'),\n",
              " (-10.794984555596727, 'secur advis'),\n",
              " (-10.794984555596727, 'secur council'),\n",
              " (-10.794984555596727, 'segment'),\n",
              " (-10.794984555596727, 'self drive car'),\n",
              " (-10.794984555596727, 'senat breitbart'),\n",
              " (-10.794984555596727, 'senat confirm'),\n",
              " (-10.794984555596727, 'settlement new'),\n",
              " (-10.794984555596727, 'settlement new york'),\n",
              " (-10.794984555596727, 'sex offend'),\n",
              " (-10.794984555596727, 'sexual abus'),\n",
              " (-10.794984555596727, 'sharp'),\n",
              " (-10.794984555596727, 'shinzo'),\n",
              " (-10.794984555596727, 'shinzo abe'),\n",
              " (-10.794984555596727, 'shoot new'),\n",
              " (-10.794984555596727, 'shoot new york'),\n",
              " (-10.794984555596727, 'show new'),\n",
              " (-10.794984555596727, 'show new york'),\n",
              " (-10.794984555596727, 'skill'),\n",
              " (-10.794984555596727, 'skip'),\n",
              " (-10.794984555596727, 'smile'),\n",
              " (-10.794984555596727, 'smuggler'),\n",
              " (-10.794984555596727, 'somalia'),\n",
              " (-10.794984555596727, 'son law'),\n",
              " (-10.794984555596727, 'south carolina'),\n",
              " (-10.794984555596727, 'south korean'),\n",
              " (-10.794984555596727, 'spacex'),\n",
              " (-10.794984555596727, 'speaker paul'),\n",
              " (-10.794984555596727, 'speaker paul ryan'),\n",
              " (-10.794984555596727, 'specul'),\n",
              " (-10.794984555596727, 'speech breitbart'),\n",
              " (-10.794984555596727, 'speech new york'),\n",
              " (-10.794984555596727, 'spicer'),\n",
              " (-10.794984555596727, 'sport'),\n",
              " (-10.794984555596727, 'sport new'),\n",
              " (-10.794984555596727, 'sport new york'),\n",
              " (-10.794984555596727, 'spotlight'),\n",
              " (-10.794984555596727, 'stanc'),\n",
              " (-10.794984555596727, 'stanford'),\n",
              " (-10.794984555596727, 'star new'),\n",
              " (-10.794984555596727, 'star new york'),\n",
              " (-10.794984555596727, 'start new'),\n",
              " (-10.794984555596727, 'start new york'),\n",
              " (-10.794984555596727, 'state breitbart'),\n",
              " (-10.794984555596727, 'state new'),\n",
              " (-10.794984555596727, 'state new york'),\n",
              " (-10.794984555596727, 'state support'),\n",
              " (-10.794984555596727, 'state warrior'),\n",
              " (-10.794984555596727, 'stem'),\n",
              " (-10.794984555596727, 'step new'),\n",
              " (-10.794984555596727, 'step new york'),\n",
              " (-10.794984555596727, 'stephen bannon'),\n",
              " (-10.794984555596727, 'stockholm'),\n",
              " (-10.794984555596727, 'stori new'),\n",
              " (-10.794984555596727, 'stori new york'),\n",
              " (-10.794984555596727, 'strand'),\n",
              " (-10.794984555596727, 'streep'),\n",
              " (-10.794984555596727, 'street new york'),\n",
              " (-10.794984555596727, 'streisand'),\n",
              " (-10.794984555596727, 'student new'),\n",
              " (-10.794984555596727, 'student new york'),\n",
              " (-10.794984555596727, 'stumbl'),\n",
              " (-10.794984555596727, 'suburb'),\n",
              " (-10.794984555596727, 'subway'),\n",
              " (-10.794984555596727, 'suddenli'),\n",
              " (-10.794984555596727, 'sunday'),\n",
              " (-10.794984555596727, 'super bowl'),\n",
              " (-10.794984555596727, 'support donald'),\n",
              " (-10.794984555596727, 'support donald trump'),\n",
              " (-10.794984555596727, 'suprem court new'),\n",
              " (-10.794984555596727, 'swift'),\n",
              " (-10.794984555596727, 'swimmer'),\n",
              " (-10.794984555596727, 'syria new york'),\n",
              " (-10.794984555596727, 'syria strike'),\n",
              " (-10.794984555596727, 'taiwan'),\n",
              " (-10.794984555596727, 'takata'),\n",
              " (-10.794984555596727, 'takeaway'),\n",
              " (-10.794984555596727, 'taliban'),\n",
              " (-10.794984555596727, 'talk new'),\n",
              " (-10.794984555596727, 'tap'),\n",
              " (-10.794984555596727, 'tax return'),\n",
              " (-10.794984555596727, 'team new'),\n",
              " (-10.794984555596727, 'team new york'),\n",
              " (-10.794984555596727, 'temporari'),\n",
              " (-10.794984555596727, 'term new'),\n",
              " (-10.794984555596727, 'term new york'),\n",
              " (-10.794984555596727, 'terror breitbart'),\n",
              " (-10.794984555596727, 'terror new'),\n",
              " (-10.794984555596727, 'test new york'),\n",
              " (-10.794984555596727, 'texa border'),\n",
              " (-10.794984555596727, 'theresa'),\n",
              " (-10.794984555596727, 'theresa may'),\n",
              " (-10.794984555596727, 'thing new'),\n",
              " (-10.794984555596727, 'thing new york'),\n",
              " (-10.794984555596727, 'thursday'),\n",
              " (-10.794984555596727, 'thursday even'),\n",
              " (-10.794984555596727, 'thursday even brief'),\n",
              " (-10.794984555596727, 'tie new'),\n",
              " (-10.794984555596727, 'tie new york'),\n",
              " (-10.794984555596727, 'tillerson'),\n",
              " (-10.794984555596727, 'time new'),\n",
              " (-10.794984555596727, 'time new york'),\n",
              " (-10.794984555596727, 'titl new'),\n",
              " (-10.794984555596727, 'titl new york'),\n",
              " (-10.794984555596727, 'todd'),\n",
              " (-10.794984555596727, 'toll'),\n",
              " (-10.794984555596727, 'tom bradi'),\n",
              " (-10.794984555596727, 'tone'),\n",
              " (-10.794984555596727, 'tough'),\n",
              " (-10.794984555596727, 'tourist'),\n",
              " (-10.794984555596727, 'town hall'),\n",
              " (-10.794984555596727, 'town new'),\n",
              " (-10.794984555596727, 'town new york'),\n",
              " (-10.794984555596727, 'trailer breitbart'),\n",
              " (-10.794984555596727, 'tran'),\n",
              " (-10.794984555596727, 'transit team'),\n",
              " (-10.794984555596727, 'travel ban'),\n",
              " (-10.794984555596727, 'travel ban new'),\n",
              " (-10.794984555596727, 'trial new'),\n",
              " (-10.794984555596727, 'trial new york'),\n",
              " (-10.794984555596727, 'trophi'),\n",
              " (-10.794984555596727, 'trove'),\n",
              " (-10.794984555596727, 'trudeau'),\n",
              " (-10.794984555596727, 'trump admin'),\n",
              " (-10.794984555596727, 'trump border'),\n",
              " (-10.794984555596727, 'trump breitbart'),\n",
              " (-10.794984555596727, 'trump budget'),\n",
              " (-10.794984555596727, 'trump celebr'),\n",
              " (-10.794984555596727, 'trump choic'),\n",
              " (-10.794984555596727, 'trump could'),\n",
              " (-10.794984555596727, 'trump execut'),\n",
              " (-10.794984555596727, 'trump execut order'),\n",
              " (-10.794984555596727, 'trump fire'),\n",
              " (-10.794984555596727, 'trump first day'),\n",
              " (-10.794984555596727, 'trump go'),\n",
              " (-10.794984555596727, 'trump immigr'),\n",
              " (-10.794984555596727, 'trump immigr order'),\n",
              " (-10.794984555596727, 'trump keep'),\n",
              " (-10.794984555596727, 'trump may'),\n",
              " (-10.794984555596727, 'trump new york'),\n",
              " (-10.794984555596727, 'trump nomine'),\n",
              " (-10.794984555596727, 'trump order'),\n",
              " (-10.794984555596727, 'trump pick'),\n",
              " (-10.794984555596727, 'trump polici'),\n",
              " (-10.794984555596727, 'trump talk'),\n",
              " (-10.794984555596727, 'trump travel'),\n",
              " (-10.794984555596727, 'trump travel ban'),\n",
              " (-10.794984555596727, 'trump tri'),\n",
              " (-10.794984555596727, 'trump visit'),\n",
              " (-10.794984555596727, 'trump vow'),\n",
              " (-10.794984555596727, 'trump wall'),\n",
              " (-10.794984555596727, 'trump women'),\n",
              " (-10.794984555596727, 'tuesday brief'),\n",
              " (-10.794984555596727, 'tuesday brief new'),\n",
              " (-10.794984555596727, 'tuesday even'),\n",
              " (-10.794984555596727, 'tuesday even brief'),\n",
              " (-10.794984555596727, 'turmoil'),\n",
              " (-10.794984555596727, 'twitter breitbart'),\n",
              " (-10.794984555596727, 'two year'),\n",
              " (-10.794984555596727, 'uc davi'),\n",
              " (-10.794984555596727, 'unlik'),\n",
              " (-10.794984555596727, 'unmask'),\n",
              " (-10.794984555596727, 'upend'),\n",
              " (-10.794984555596727, 'uphold'),\n",
              " (-10.794984555596727, 'us new york'),\n",
              " (-10.794984555596727, 'vacat'),\n",
              " (-10.794984555596727, 'vacat new'),\n",
              " (-10.794984555596727, 'vacat new york'),\n",
              " (-10.794984555596727, 'vanish'),\n",
              " (-10.794984555596727, 'veto'),\n",
              " (-10.794984555596727, 'violenc new'),\n",
              " (-10.794984555596727, 'violenc new york'),\n",
              " (-10.794984555596727, 'virgil'),\n",
              " (-10.794984555596727, 'vogu'),\n",
              " (-10.794984555596727, 'volkswagen'),\n",
              " (-10.794984555596727, 'vote new'),\n",
              " (-10.794984555596727, 'vote new york'),\n",
              " (-10.794984555596727, 'voter id'),\n",
              " (-10.794984555596727, 'wait new'),\n",
              " (-10.794984555596727, 'wall breitbart'),\n",
              " (-10.794984555596727, 'war new'),\n",
              " (-10.794984555596727, 'war new york'),\n",
              " (-10.794984555596727, 'wari'),\n",
              " (-10.794984555596727, 'warn new'),\n",
              " (-10.794984555596727, 'warn new york'),\n",
              " (-10.794984555596727, 'warner'),\n",
              " (-10.794984555596727, 'warrior'),\n",
              " (-10.794984555596727, 'washington new'),\n",
              " (-10.794984555596727, 'washington new york'),\n",
              " (-10.794984555596727, 'water new'),\n",
              " (-10.794984555596727, 'water new york'),\n",
              " (-10.794984555596727, 'way new'),\n",
              " (-10.794984555596727, 'way new york'),\n",
              " (-10.794984555596727, 'wednesday brief'),\n",
              " (-10.794984555596727, 'wednesday brief new'),\n",
              " (-10.794984555596727, 'wednesday even'),\n",
              " (-10.794984555596727, 'wednesday even brief'),\n",
              " (-10.794984555596727, 'week new'),\n",
              " (-10.794984555596727, 'week new york'),\n",
              " (-10.794984555596727, 'weekend brief'),\n",
              " (-10.794984555596727, 'weekend brief new'),\n",
              " (-10.794984555596727, 'weekend new'),\n",
              " (-10.794984555596727, 'weekend new york'),\n",
              " (-10.794984555596727, 'well fargo'),\n",
              " (-10.794984555596727, 'west bank'),\n",
              " (-10.794984555596727, 'westminst'),\n",
              " (-10.794984555596727, 'wh'),\n",
              " (-10.794984555596727, 'white hous breitbart'),\n",
              " (-10.794984555596727, 'white hous new'),\n",
              " (-10.794984555596727, 'white nationalist'),\n",
              " (-10.794984555596727, 'wider'),\n",
              " (-10.794984555596727, 'wield'),\n",
              " (-10.794984555596727, 'wildfir'),\n",
              " (-10.794984555596727, 'wimbledon'),\n",
              " (-10.794984555596727, 'win breitbart'),\n",
              " (-10.794984555596727, 'wiretap claim'),\n",
              " (-10.794984555596727, 'women march'),\n",
              " (-10.794984555596727, 'women new'),\n",
              " (-10.794984555596727, 'women new york'),\n",
              " (-10.794984555596727, 'work new'),\n",
              " (-10.794984555596727, 'work new york'),\n",
              " (-10.794984555596727, 'world new'),\n",
              " (-10.794984555596727, 'world new york'),\n",
              " (-10.794984555596727, 'worri new'),\n",
              " (-10.794984555596727, 'worri new york'),\n",
              " (-10.794984555596727, 'wrestl'),\n",
              " (-10.794984555596727, 'yahoo'),\n",
              " (-10.794984555596727, 'year breitbart'),\n",
              " (-10.794984555596727, 'year eve'),\n",
              " (-10.794984555596727, 'year new york'),\n",
              " (-10.794984555596727, 'york new'),\n",
              " (-10.794984555596727, 'york new york'),\n",
              " (-10.794984555596727, 'york state'),\n",
              " (-10.794984555596727, 'zone new'),\n",
              " (-10.794984555596727, 'zone new york'),\n",
              " (-10.794984555596727, 'zoo'),\n",
              " (-10.047770153766505, 'academi'),\n",
              " (-10.047770153766505, 'accid'),\n",
              " (-10.047770153766505, 'aclu'),\n",
              " (-10.047770153766505, 'acr'),\n",
              " (-10.047770153766505, 'adopt'),\n",
              " (-10.047770153766505, 'ahead trump'),\n",
              " (-10.047770153766505, 'airbnb'),\n",
              " (-10.047770153766505, 'airlin'),\n",
              " (-10.047770153766505, 'album'),\n",
              " (-10.047770153766505, 'alex jone'),\n",
              " (-10.047770153766505, 'allegedli'),\n",
              " (-10.047770153766505, 'allianc'),\n",
              " (-10.047770153766505, 'america new'),\n",
              " (-10.047770153766505, 'anchor'),\n",
              " (-10.047770153766505, 'anger'),\n",
              " (-10.047770153766505, 'anti israel'),\n",
              " (-10.047770153766505, 'anti semit'),\n",
              " (-10.047770153766505, 'anymor'),\n",
              " (-10.047770153766505, 'applic'),\n",
              " (-10.047770153766505, 'approach'),\n",
              " (-10.047770153766505, 'appropri'),\n",
              " (-10.047770153766505, 'around world'),\n",
              " (-10.047770153766505, 'artifici'),\n",
              " (-10.047770153766505, 'asylum seeker'),\n",
              " (-10.047770153766505, 'atlant'),\n",
              " (-10.047770153766505, 'attack polic'),\n",
              " (-10.047770153766505, 'attack trump'),\n",
              " (-10.047770153766505, 'auto'),\n",
              " (-10.047770153766505, 'aviv'),\n",
              " (-10.047770153766505, 'back trump'),\n",
              " (-10.047770153766505, 'baghdad'),\n",
              " (-10.047770153766505, 'band'),\n",
              " (-10.047770153766505, 'barrier'),\n",
              " (-10.047770153766505, 'barron'),\n",
              " (-10.047770153766505, 'beach'),\n",
              " (-10.047770153766505, 'beer'),\n",
              " (-10.047770153766505, 'behead'),\n",
              " (-10.047770153766505, 'beij'),\n",
              " (-10.047770153766505, 'ben'),\n",
              " (-10.047770153766505, 'berlin'),\n",
              " (-10.047770153766505, 'bet'),\n",
              " (-10.047770153766505, 'beyonc'),\n",
              " (-10.047770153766505, 'bill cosbi'),\n",
              " (-10.047770153766505, 'bitter'),\n",
              " (-10.047770153766505, 'blasio'),\n",
              " (-10.047770153766505, 'block trump'),\n",
              " (-10.047770153766505, 'boat'),\n",
              " (-10.047770153766505, 'boe'),\n",
              " (-10.047770153766505, 'boko'),\n",
              " (-10.047770153766505, 'boko haram'),\n",
              " (-10.047770153766505, 'bolton'),\n",
              " (-10.047770153766505, 'bomber'),\n",
              " (-10.047770153766505, 'bori'),\n",
              " (-10.047770153766505, 'boss'),\n",
              " (-10.047770153766505, 'bow'),\n",
              " (-10.047770153766505, 'branch'),\n",
              " (-10.047770153766505, 'breitbart news'),\n",
              " (-10.047770153766505, 'bribe'),\n",
              " (-10.047770153766505, 'brought'),\n",
              " (-10.047770153766505, 'built'),\n",
              " (-10.047770153766505, 'bull'),\n",
              " ...]"
            ]
          },
          "metadata": {
            "tags": []
          },
          "execution_count": 46
        }
      ]
    },
    {
      "cell_type": "code",
      "metadata": {
        "colab": {
          "base_uri": "https://localhost:8080/",
          "height": 347
        },
        "id": "K8kYDNKXNBWz",
        "outputId": "451c5b0b-734e-4fb4-e233-a65119a62c91"
      },
      "source": [
        "classifier.fit(X_train, y_train)\n",
        "pred = classifier.predict(X_test)\n",
        "score = metrics.accuracy_score(y_test, pred)\n",
        "print(\"accuracy:   %0.3f\" % score)\n",
        "cm = metrics.confusion_matrix(y_test, pred)\n",
        "plot_confusion_matrix(cm, classes=['FAKE', 'REAL'])"
      ],
      "execution_count": 47,
      "outputs": [
        {
          "output_type": "stream",
          "text": [
            "accuracy:   0.902\n",
            "Confusion matrix, without normalization\n"
          ],
          "name": "stdout"
        },
        {
          "output_type": "display_data",
          "data": {
            "image/png": "[encoded data removed]",
            "text/plain": [
              "<Figure size 432x288 with 2 Axes>"
            ]
          },
          "metadata": {
            "tags": [],
            "needs_background": "light"
          }
        }
      ]
    },
    {
      "cell_type": "code",
      "metadata": {
        "colab": {
          "base_uri": "https://localhost:8080/"
        },
        "id": "5h9qihZyYfV5",
        "outputId": "685cd49d-ae69-40b1-c6bb-2d0ffb369e12"
      },
      "source": [
        "from sklearn.metrics import roc_curve\n",
        "from sklearn.metrics import roc_auc_score\n",
        "lr_probs = classifier.predict_proba(X_test)\n",
        "lr_probs = lr_probs[:, 1]\n",
        "lr_auc = roc_auc_score(y_test, lr_probs)\n",
        "print(lr_auc)"
      ],
      "execution_count": 48,
      "outputs": [
        {
          "output_type": "stream",
          "text": [
            "0.9659365467442017\n"
          ],
          "name": "stdout"
        }
      ]
    },
    {
      "cell_type": "code",
      "metadata": {
        "colab": {
          "base_uri": "https://localhost:8080/",
          "height": 283
        },
        "id": "2YnvT897YPaE",
        "outputId": "3e8c4987-0471-45e3-998d-4ef73f1090aa"
      },
      "source": [
        "from matplotlib import pyplot\n",
        "# calculate roc curves\n",
        "test_fpr, test_tpr, _ = roc_curve(y_test, lr_probs)\n",
        "\n",
        "# plot the roc curve for the model\n",
        "# axis labels\n",
        "pyplot.xlabel('False Positive Rate')\n",
        "pyplot.ylabel('True Positive Rate')\n",
        "pyplot.plot(test_fpr,test_tpr,label=\"Independent test(AUC)=\"+str(lr_auc))\n",
        "# show the legend\n",
        "pyplot.plot([0, 1], [0, 1],'r--')\n",
        "pyplot.xlim([0, 1])\n",
        "pyplot.ylim([0, 1])\n",
        "pyplot.legend()\n",
        "# show the plot\n",
        "pyplot.show()"
      ],
      "execution_count": 49,
      "outputs": [
        {
          "output_type": "display_data",
          "data": {
            "image/png": "[encoded data removed]",
            "text/plain": [
              "<Figure size 432x288 with 1 Axes>"
            ]
          },
          "metadata": {
            "tags": [],
            "needs_background": "light"
          }
        }
      ]
    },
    {
      "cell_type": "code",
      "metadata": {
        "id": "hU9SdHJGYyXw"
      },
      "source": [
        ""
      ],
      "execution_count": 49,
      "outputs": []
    }
  ]
}