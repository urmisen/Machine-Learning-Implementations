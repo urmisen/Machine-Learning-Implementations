{
  "nbformat": 4,
  "nbformat_minor": 0,
  "metadata": {
    "kernelspec": {
      "display_name": "Python 3",
      "language": "python",
      "name": "python3"
    },
    "language_info": {
      "codemirror_mode": {
        "name": "ipython",
        "version": 3
      },
      "file_extension": ".py",
      "mimetype": "text/x-python",
      "name": "python",
      "nbconvert_exporter": "python",
      "pygments_lexer": "ipython3",
      "version": "3.6.10"
    },
    "colab": {
      "name": "Fake_News_Classifcation_TFIDF.ipynb",
      "provenance": []
    }
  },
  "cells": [
    {
      "cell_type": "markdown",
      "metadata": {
        "id": "rHwDO4_sNBWN"
      },
      "source": [
        "### Fake News Classifier"
      ]
    },
    {
      "cell_type": "code",
      "metadata": {
        "colab": {
          "base_uri": "https://localhost:8080/"
        },
        "id": "ZyAtmaqsNVmU",
        "outputId": "7a177541-b38b-48ad-c21f-8ac784e26b69"
      },
      "source": [
        "from google.colab import drive\n",
        "drive.mount('/content/drive/')"
      ],
      "execution_count": 1,
      "outputs": [
        {
          "output_type": "stream",
          "text": [
            "Mounted at /content/drive/\n"
          ],
          "name": "stdout"
        }
      ]
    },
    {
      "cell_type": "code",
      "metadata": {
        "colab": {
          "base_uri": "https://localhost:8080/"
        },
        "id": "N6PLuRjvNXfS",
        "outputId": "eba286a1-bcce-4ad3-8ef2-cc12911dfe6a"
      },
      "source": [
        "!pip install tensorflow keras numpy matplotlib pandas sklearn biopython nltk"
      ],
      "execution_count": 2,
      "outputs": [
        {
          "output_type": "stream",
          "text": [
            "Requirement already satisfied: tensorflow in /usr/local/lib/python3.7/dist-packages (2.4.1)\n",
            "Requirement already satisfied: keras in /usr/local/lib/python3.7/dist-packages (2.4.3)\n",
            "Requirement already satisfied: numpy in /usr/local/lib/python3.7/dist-packages (1.19.5)\n",
            "Requirement already satisfied: matplotlib in /usr/local/lib/python3.7/dist-packages (3.2.2)\n",
            "Requirement already satisfied: pandas in /usr/local/lib/python3.7/dist-packages (1.1.5)\n",
            "Requirement already satisfied: sklearn in /usr/local/lib/python3.7/dist-packages (0.0)\n",
            "Collecting biopython\n",
            "\u001b[?25l  Downloading https://files.pythonhosted.org/packages/3a/cd/0098eaff841850c01da928c7f509b72fd3e1f51d77b772e24de9e2312471/biopython-1.78-cp37-cp37m-manylinux1_x86_64.whl (2.3MB)\n",
            "\u001b[K     |████████████████████████████████| 2.3MB 6.6MB/s \n",
            "\u001b[?25hRequirement already satisfied: nltk in /usr/local/lib/python3.7/dist-packages (3.2.5)\n",
            "Requirement already satisfied: absl-py~=0.10 in /usr/local/lib/python3.7/dist-packages (from tensorflow) (0.12.0)\n",
            "Requirement already satisfied: h5py~=2.10.0 in /usr/local/lib/python3.7/dist-packages (from tensorflow) (2.10.0)\n",
            "Requirement already satisfied: wrapt~=1.12.1 in /usr/local/lib/python3.7/dist-packages (from tensorflow) (1.12.1)\n",
            "Requirement already satisfied: tensorflow-estimator<2.5.0,>=2.4.0 in /usr/local/lib/python3.7/dist-packages (from tensorflow) (2.4.0)\n",
            "Requirement already satisfied: tensorboard~=2.4 in /usr/local/lib/python3.7/dist-packages (from tensorflow) (2.4.1)\n",
            "Requirement already satisfied: gast==0.3.3 in /usr/local/lib/python3.7/dist-packages (from tensorflow) (0.3.3)\n",
            "Requirement already satisfied: keras-preprocessing~=1.1.2 in /usr/local/lib/python3.7/dist-packages (from tensorflow) (1.1.2)\n",
            "Requirement already satisfied: protobuf>=3.9.2 in /usr/local/lib/python3.7/dist-packages (from tensorflow) (3.12.4)\n",
            "Requirement already satisfied: google-pasta~=0.2 in /usr/local/lib/python3.7/dist-packages (from tensorflow) (0.2.0)\n",
            "Requirement already satisfied: astunparse~=1.6.3 in /usr/local/lib/python3.7/dist-packages (from tensorflow) (1.6.3)\n",
            "Requirement already satisfied: flatbuffers~=1.12.0 in /usr/local/lib/python3.7/dist-packages (from tensorflow) (1.12)\n",
            "Requirement already satisfied: typing-extensions~=3.7.4 in /usr/local/lib/python3.7/dist-packages (from tensorflow) (3.7.4.3)\n",
            "Requirement already satisfied: wheel~=0.35 in /usr/local/lib/python3.7/dist-packages (from tensorflow) (0.36.2)\n",
            "Requirement already satisfied: termcolor~=1.1.0 in /usr/local/lib/python3.7/dist-packages (from tensorflow) (1.1.0)\n",
            "Requirement already satisfied: grpcio~=1.32.0 in /usr/local/lib/python3.7/dist-packages (from tensorflow) (1.32.0)\n",
            "Requirement already satisfied: six~=1.15.0 in /usr/local/lib/python3.7/dist-packages (from tensorflow) (1.15.0)\n",
            "Requirement already satisfied: opt-einsum~=3.3.0 in /usr/local/lib/python3.7/dist-packages (from tensorflow) (3.3.0)\n",
            "Requirement already satisfied: pyyaml in /usr/local/lib/python3.7/dist-packages (from keras) (3.13)\n",
            "Requirement already satisfied: scipy>=0.14 in /usr/local/lib/python3.7/dist-packages (from keras) (1.4.1)\n",
            "Requirement already satisfied: kiwisolver>=1.0.1 in /usr/local/lib/python3.7/dist-packages (from matplotlib) (1.3.1)\n",
            "Requirement already satisfied: cycler>=0.10 in /usr/local/lib/python3.7/dist-packages (from matplotlib) (0.10.0)\n",
            "Requirement already satisfied: python-dateutil>=2.1 in /usr/local/lib/python3.7/dist-packages (from matplotlib) (2.8.1)\n",
            "Requirement already satisfied: pyparsing!=2.0.4,!=2.1.2,!=2.1.6,>=2.0.1 in /usr/local/lib/python3.7/dist-packages (from matplotlib) (2.4.7)\n",
            "Requirement already satisfied: pytz>=2017.2 in /usr/local/lib/python3.7/dist-packages (from pandas) (2018.9)\n",
            "Requirement already satisfied: scikit-learn in /usr/local/lib/python3.7/dist-packages (from sklearn) (0.22.2.post1)\n",
            "Requirement already satisfied: werkzeug>=0.11.15 in /usr/local/lib/python3.7/dist-packages (from tensorboard~=2.4->tensorflow) (1.0.1)\n",
            "Requirement already satisfied: setuptools>=41.0.0 in /usr/local/lib/python3.7/dist-packages (from tensorboard~=2.4->tensorflow) (56.0.0)\n",
            "Requirement already satisfied: requests<3,>=2.21.0 in /usr/local/lib/python3.7/dist-packages (from tensorboard~=2.4->tensorflow) (2.23.0)\n",
            "Requirement already satisfied: markdown>=2.6.8 in /usr/local/lib/python3.7/dist-packages (from tensorboard~=2.4->tensorflow) (3.3.4)\n",
            "Requirement already satisfied: tensorboard-plugin-wit>=1.6.0 in /usr/local/lib/python3.7/dist-packages (from tensorboard~=2.4->tensorflow) (1.8.0)\n",
            "Requirement already satisfied: google-auth<2,>=1.6.3 in /usr/local/lib/python3.7/dist-packages (from tensorboard~=2.4->tensorflow) (1.28.1)\n",
            "Requirement already satisfied: google-auth-oauthlib<0.5,>=0.4.1 in /usr/local/lib/python3.7/dist-packages (from tensorboard~=2.4->tensorflow) (0.4.4)\n",
            "Requirement already satisfied: joblib>=0.11 in /usr/local/lib/python3.7/dist-packages (from scikit-learn->sklearn) (1.0.1)\n",
            "Requirement already satisfied: urllib3!=1.25.0,!=1.25.1,<1.26,>=1.21.1 in /usr/local/lib/python3.7/dist-packages (from requests<3,>=2.21.0->tensorboard~=2.4->tensorflow) (1.24.3)\n",
            "Requirement already satisfied: idna<3,>=2.5 in /usr/local/lib/python3.7/dist-packages (from requests<3,>=2.21.0->tensorboard~=2.4->tensorflow) (2.10)\n",
            "Requirement already satisfied: certifi>=2017.4.17 in /usr/local/lib/python3.7/dist-packages (from requests<3,>=2.21.0->tensorboard~=2.4->tensorflow) (2020.12.5)\n",
            "Requirement already satisfied: chardet<4,>=3.0.2 in /usr/local/lib/python3.7/dist-packages (from requests<3,>=2.21.0->tensorboard~=2.4->tensorflow) (3.0.4)\n",
            "Requirement already satisfied: importlib-metadata; python_version < \"3.8\" in /usr/local/lib/python3.7/dist-packages (from markdown>=2.6.8->tensorboard~=2.4->tensorflow) (3.10.1)\n",
            "Requirement already satisfied: cachetools<5.0,>=2.0.0 in /usr/local/lib/python3.7/dist-packages (from google-auth<2,>=1.6.3->tensorboard~=2.4->tensorflow) (4.2.1)\n",
            "Requirement already satisfied: rsa<5,>=3.1.4; python_version >= \"3.6\" in /usr/local/lib/python3.7/dist-packages (from google-auth<2,>=1.6.3->tensorboard~=2.4->tensorflow) (4.7.2)\n",
            "Requirement already satisfied: pyasn1-modules>=0.2.1 in /usr/local/lib/python3.7/dist-packages (from google-auth<2,>=1.6.3->tensorboard~=2.4->tensorflow) (0.2.8)\n",
            "Requirement already satisfied: requests-oauthlib>=0.7.0 in /usr/local/lib/python3.7/dist-packages (from google-auth-oauthlib<0.5,>=0.4.1->tensorboard~=2.4->tensorflow) (1.3.0)\n",
            "Requirement already satisfied: zipp>=0.5 in /usr/local/lib/python3.7/dist-packages (from importlib-metadata; python_version < \"3.8\"->markdown>=2.6.8->tensorboard~=2.4->tensorflow) (3.4.1)\n",
            "Requirement already satisfied: pyasn1>=0.1.3 in /usr/local/lib/python3.7/dist-packages (from rsa<5,>=3.1.4; python_version >= \"3.6\"->google-auth<2,>=1.6.3->tensorboard~=2.4->tensorflow) (0.4.8)\n",
            "Requirement already satisfied: oauthlib>=3.0.0 in /usr/local/lib/python3.7/dist-packages (from requests-oauthlib>=0.7.0->google-auth-oauthlib<0.5,>=0.4.1->tensorboard~=2.4->tensorflow) (3.1.0)\n",
            "Installing collected packages: biopython\n",
            "Successfully installed biopython-1.78\n"
          ],
          "name": "stdout"
        }
      ]
    },
    {
      "cell_type": "code",
      "metadata": {
        "colab": {
          "base_uri": "https://localhost:8080/"
        },
        "id": "RajFr42PNBWZ",
        "outputId": "6e775bee-9613-482e-8dce-83684e59b773"
      },
      "source": [
        "import nltk\n",
        "nltk.download('popular')\n",
        "from nltk.stem import WordNetLemmatizer\n",
        "from nltk.corpus import stopwords\n",
        "import re\n",
        "from nltk.corpus import stopwords\n",
        "from nltk.stem.porter import PorterStemmer\n",
        "from nltk.stem import WordNetLemmatizer\n",
        "import pandas as pd\n",
        "from gensim.models import Word2Vec"
      ],
      "execution_count": 3,
      "outputs": [
        {
          "output_type": "stream",
          "text": [
            "[nltk_data] Downloading collection 'popular'\n",
            "[nltk_data]    | \n",
            "[nltk_data]    | Downloading package cmudict to /root/nltk_data...\n",
            "[nltk_data]    |   Unzipping corpora/cmudict.zip.\n",
            "[nltk_data]    | Downloading package gazetteers to /root/nltk_data...\n",
            "[nltk_data]    |   Unzipping corpora/gazetteers.zip.\n",
            "[nltk_data]    | Downloading package genesis to /root/nltk_data...\n",
            "[nltk_data]    |   Unzipping corpora/genesis.zip.\n",
            "[nltk_data]    | Downloading package gutenberg to /root/nltk_data...\n",
            "[nltk_data]    |   Unzipping corpora/gutenberg.zip.\n",
            "[nltk_data]    | Downloading package inaugural to /root/nltk_data...\n",
            "[nltk_data]    |   Unzipping corpora/inaugural.zip.\n",
            "[nltk_data]    | Downloading package movie_reviews to\n",
            "[nltk_data]    |     /root/nltk_data...\n",
            "[nltk_data]    |   Unzipping corpora/movie_reviews.zip.\n",
            "[nltk_data]    | Downloading package names to /root/nltk_data...\n",
            "[nltk_data]    |   Unzipping corpora/names.zip.\n",
            "[nltk_data]    | Downloading package shakespeare to /root/nltk_data...\n",
            "[nltk_data]    |   Unzipping corpora/shakespeare.zip.\n",
            "[nltk_data]    | Downloading package stopwords to /root/nltk_data...\n",
            "[nltk_data]    |   Unzipping corpora/stopwords.zip.\n",
            "[nltk_data]    | Downloading package treebank to /root/nltk_data...\n",
            "[nltk_data]    |   Unzipping corpora/treebank.zip.\n",
            "[nltk_data]    | Downloading package twitter_samples to\n",
            "[nltk_data]    |     /root/nltk_data...\n",
            "[nltk_data]    |   Unzipping corpora/twitter_samples.zip.\n",
            "[nltk_data]    | Downloading package omw to /root/nltk_data...\n",
            "[nltk_data]    |   Unzipping corpora/omw.zip.\n",
            "[nltk_data]    | Downloading package wordnet to /root/nltk_data...\n",
            "[nltk_data]    |   Unzipping corpora/wordnet.zip.\n",
            "[nltk_data]    | Downloading package wordnet_ic to /root/nltk_data...\n",
            "[nltk_data]    |   Unzipping corpora/wordnet_ic.zip.\n",
            "[nltk_data]    | Downloading package words to /root/nltk_data...\n",
            "[nltk_data]    |   Unzipping corpora/words.zip.\n",
            "[nltk_data]    | Downloading package maxent_ne_chunker to\n",
            "[nltk_data]    |     /root/nltk_data...\n",
            "[nltk_data]    |   Unzipping chunkers/maxent_ne_chunker.zip.\n",
            "[nltk_data]    | Downloading package punkt to /root/nltk_data...\n",
            "[nltk_data]    |   Unzipping tokenizers/punkt.zip.\n",
            "[nltk_data]    | Downloading package snowball_data to\n",
            "[nltk_data]    |     /root/nltk_data...\n",
            "[nltk_data]    | Downloading package averaged_perceptron_tagger to\n",
            "[nltk_data]    |     /root/nltk_data...\n",
            "[nltk_data]    |   Unzipping taggers/averaged_perceptron_tagger.zip.\n",
            "[nltk_data]    | \n",
            "[nltk_data]  Done downloading collection popular\n"
          ],
          "name": "stdout"
        }
      ]
    },
    {
      "cell_type": "code",
      "metadata": {
        "id": "hN0_N3NrNBWa"
      },
      "source": [
        "df=pd.read_csv('/content/drive/My Drive/NLP_datasets/fake_news/train.csv')"
      ],
      "execution_count": 4,
      "outputs": []
    },
    {
      "cell_type": "code",
      "metadata": {
        "colab": {
          "base_uri": "https://localhost:8080/",
          "height": 198
        },
        "id": "BmgUguZ-NBWb",
        "outputId": "81086bf8-5774-4c1a-d234-55bfa363851b"
      },
      "source": [
        "df.head()"
      ],
      "execution_count": 5,
      "outputs": [
        {
          "output_type": "execute_result",
          "data": {
            "text/html": [
              "<div>\n",
              "<style scoped>\n",
              "    .dataframe tbody tr th:only-of-type {\n",
              "        vertical-align: middle;\n",
              "    }\n",
              "\n",
              "    .dataframe tbody tr th {\n",
              "        vertical-align: top;\n",
              "    }\n",
              "\n",
              "    .dataframe thead th {\n",
              "        text-align: right;\n",
              "    }\n",
              "</style>\n",
              "<table border=\"1\" class=\"dataframe\">\n",
              "  <thead>\n",
              "    <tr style=\"text-align: right;\">\n",
              "      <th></th>\n",
              "      <th>id</th>\n",
              "      <th>title</th>\n",
              "      <th>author</th>\n",
              "      <th>text</th>\n",
              "      <th>label</th>\n",
              "    </tr>\n",
              "  </thead>\n",
              "  <tbody>\n",
              "    <tr>\n",
              "      <th>0</th>\n",
              "      <td>0</td>\n",
              "      <td>House Dem Aide: We Didn’t Even See Comey’s Let...</td>\n",
              "      <td>Darrell Lucus</td>\n",
              "      <td>House Dem Aide: We Didn’t Even See Comey’s Let...</td>\n",
              "      <td>1</td>\n",
              "    </tr>\n",
              "    <tr>\n",
              "      <th>1</th>\n",
              "      <td>1</td>\n",
              "      <td>FLYNN: Hillary Clinton, Big Woman on Campus - ...</td>\n",
              "      <td>Daniel J. Flynn</td>\n",
              "      <td>Ever get the feeling your life circles the rou...</td>\n",
              "      <td>0</td>\n",
              "    </tr>\n",
              "    <tr>\n",
              "      <th>2</th>\n",
              "      <td>2</td>\n",
              "      <td>Why the Truth Might Get You Fired</td>\n",
              "      <td>Consortiumnews.com</td>\n",
              "      <td>Why the Truth Might Get You Fired October 29, ...</td>\n",
              "      <td>1</td>\n",
              "    </tr>\n",
              "    <tr>\n",
              "      <th>3</th>\n",
              "      <td>3</td>\n",
              "      <td>15 Civilians Killed In Single US Airstrike Hav...</td>\n",
              "      <td>Jessica Purkiss</td>\n",
              "      <td>Videos 15 Civilians Killed In Single US Airstr...</td>\n",
              "      <td>1</td>\n",
              "    </tr>\n",
              "    <tr>\n",
              "      <th>4</th>\n",
              "      <td>4</td>\n",
              "      <td>Iranian woman jailed for fictional unpublished...</td>\n",
              "      <td>Howard Portnoy</td>\n",
              "      <td>Print \\nAn Iranian woman has been sentenced to...</td>\n",
              "      <td>1</td>\n",
              "    </tr>\n",
              "  </tbody>\n",
              "</table>\n",
              "</div>"
            ],
            "text/plain": [
              "   id  ... label\n",
              "0   0  ...     1\n",
              "1   1  ...     0\n",
              "2   2  ...     1\n",
              "3   3  ...     1\n",
              "4   4  ...     1\n",
              "\n",
              "[5 rows x 5 columns]"
            ]
          },
          "metadata": {
            "tags": []
          },
          "execution_count": 5
        }
      ]
    },
    {
      "cell_type": "code",
      "metadata": {
        "id": "x4n1aEJmNBWc"
      },
      "source": [
        "## Get the Independent Features\n",
        "\n",
        "X=df.drop('label',axis=1)"
      ],
      "execution_count": 6,
      "outputs": []
    },
    {
      "cell_type": "code",
      "metadata": {
        "colab": {
          "base_uri": "https://localhost:8080/",
          "height": 198
        },
        "id": "icVXuoyVNBWd",
        "outputId": "a9e85be7-f7d9-4f18-e9f5-c379bc0a7b7b"
      },
      "source": [
        "X.head()"
      ],
      "execution_count": 7,
      "outputs": [
        {
          "output_type": "execute_result",
          "data": {
            "text/html": [
              "<div>\n",
              "<style scoped>\n",
              "    .dataframe tbody tr th:only-of-type {\n",
              "        vertical-align: middle;\n",
              "    }\n",
              "\n",
              "    .dataframe tbody tr th {\n",
              "        vertical-align: top;\n",
              "    }\n",
              "\n",
              "    .dataframe thead th {\n",
              "        text-align: right;\n",
              "    }\n",
              "</style>\n",
              "<table border=\"1\" class=\"dataframe\">\n",
              "  <thead>\n",
              "    <tr style=\"text-align: right;\">\n",
              "      <th></th>\n",
              "      <th>id</th>\n",
              "      <th>title</th>\n",
              "      <th>author</th>\n",
              "      <th>text</th>\n",
              "    </tr>\n",
              "  </thead>\n",
              "  <tbody>\n",
              "    <tr>\n",
              "      <th>0</th>\n",
              "      <td>0</td>\n",
              "      <td>House Dem Aide: We Didn’t Even See Comey’s Let...</td>\n",
              "      <td>Darrell Lucus</td>\n",
              "      <td>House Dem Aide: We Didn’t Even See Comey’s Let...</td>\n",
              "    </tr>\n",
              "    <tr>\n",
              "      <th>1</th>\n",
              "      <td>1</td>\n",
              "      <td>FLYNN: Hillary Clinton, Big Woman on Campus - ...</td>\n",
              "      <td>Daniel J. Flynn</td>\n",
              "      <td>Ever get the feeling your life circles the rou...</td>\n",
              "    </tr>\n",
              "    <tr>\n",
              "      <th>2</th>\n",
              "      <td>2</td>\n",
              "      <td>Why the Truth Might Get You Fired</td>\n",
              "      <td>Consortiumnews.com</td>\n",
              "      <td>Why the Truth Might Get You Fired October 29, ...</td>\n",
              "    </tr>\n",
              "    <tr>\n",
              "      <th>3</th>\n",
              "      <td>3</td>\n",
              "      <td>15 Civilians Killed In Single US Airstrike Hav...</td>\n",
              "      <td>Jessica Purkiss</td>\n",
              "      <td>Videos 15 Civilians Killed In Single US Airstr...</td>\n",
              "    </tr>\n",
              "    <tr>\n",
              "      <th>4</th>\n",
              "      <td>4</td>\n",
              "      <td>Iranian woman jailed for fictional unpublished...</td>\n",
              "      <td>Howard Portnoy</td>\n",
              "      <td>Print \\nAn Iranian woman has been sentenced to...</td>\n",
              "    </tr>\n",
              "  </tbody>\n",
              "</table>\n",
              "</div>"
            ],
            "text/plain": [
              "   id  ...                                               text\n",
              "0   0  ...  House Dem Aide: We Didn’t Even See Comey’s Let...\n",
              "1   1  ...  Ever get the feeling your life circles the rou...\n",
              "2   2  ...  Why the Truth Might Get You Fired October 29, ...\n",
              "3   3  ...  Videos 15 Civilians Killed In Single US Airstr...\n",
              "4   4  ...  Print \\nAn Iranian woman has been sentenced to...\n",
              "\n",
              "[5 rows x 4 columns]"
            ]
          },
          "metadata": {
            "tags": []
          },
          "execution_count": 7
        }
      ]
    },
    {
      "cell_type": "code",
      "metadata": {
        "id": "TK8pvFsrNBWe"
      },
      "source": [
        "## Get the Dependent features\n",
        "y=df['label']"
      ],
      "execution_count": 8,
      "outputs": []
    },
    {
      "cell_type": "code",
      "metadata": {
        "colab": {
          "base_uri": "https://localhost:8080/"
        },
        "id": "krB0XBGPNBWe",
        "outputId": "9cd82009-7f36-4893-b886-8360573f5fcb"
      },
      "source": [
        "y.head()"
      ],
      "execution_count": 9,
      "outputs": [
        {
          "output_type": "execute_result",
          "data": {
            "text/plain": [
              "0    1\n",
              "1    0\n",
              "2    1\n",
              "3    1\n",
              "4    1\n",
              "Name: label, dtype: int64"
            ]
          },
          "metadata": {
            "tags": []
          },
          "execution_count": 9
        }
      ]
    },
    {
      "cell_type": "code",
      "metadata": {
        "colab": {
          "base_uri": "https://localhost:8080/"
        },
        "id": "FebgT0WfNBWf",
        "outputId": "6e5dbdf9-12ee-4f13-cb69-4bb3705b51ee"
      },
      "source": [
        "df.shape"
      ],
      "execution_count": 10,
      "outputs": [
        {
          "output_type": "execute_result",
          "data": {
            "text/plain": [
              "(20800, 5)"
            ]
          },
          "metadata": {
            "tags": []
          },
          "execution_count": 10
        }
      ]
    },
    {
      "cell_type": "code",
      "metadata": {
        "id": "-U3pr5u9NBWf"
      },
      "source": [
        "from sklearn.feature_extraction.text import CountVectorizer, TfidfVectorizer, HashingVectorizer"
      ],
      "execution_count": 11,
      "outputs": []
    },
    {
      "cell_type": "code",
      "metadata": {
        "id": "g7qyotJcNBWg"
      },
      "source": [
        "df=df.dropna()"
      ],
      "execution_count": 12,
      "outputs": []
    },
    {
      "cell_type": "code",
      "metadata": {
        "colab": {
          "base_uri": "https://localhost:8080/",
          "height": 348
        },
        "id": "l32QuLkjNBWg",
        "outputId": "42f0abe8-7d09-4dbc-d05d-90c9256e72ae"
      },
      "source": [
        "df.head(10)"
      ],
      "execution_count": 13,
      "outputs": [
        {
          "output_type": "execute_result",
          "data": {
            "text/html": [
              "<div>\n",
              "<style scoped>\n",
              "    .dataframe tbody tr th:only-of-type {\n",
              "        vertical-align: middle;\n",
              "    }\n",
              "\n",
              "    .dataframe tbody tr th {\n",
              "        vertical-align: top;\n",
              "    }\n",
              "\n",
              "    .dataframe thead th {\n",
              "        text-align: right;\n",
              "    }\n",
              "</style>\n",
              "<table border=\"1\" class=\"dataframe\">\n",
              "  <thead>\n",
              "    <tr style=\"text-align: right;\">\n",
              "      <th></th>\n",
              "      <th>id</th>\n",
              "      <th>title</th>\n",
              "      <th>author</th>\n",
              "      <th>text</th>\n",
              "      <th>label</th>\n",
              "    </tr>\n",
              "  </thead>\n",
              "  <tbody>\n",
              "    <tr>\n",
              "      <th>0</th>\n",
              "      <td>0</td>\n",
              "      <td>House Dem Aide: We Didn’t Even See Comey’s Let...</td>\n",
              "      <td>Darrell Lucus</td>\n",
              "      <td>House Dem Aide: We Didn’t Even See Comey’s Let...</td>\n",
              "      <td>1</td>\n",
              "    </tr>\n",
              "    <tr>\n",
              "      <th>1</th>\n",
              "      <td>1</td>\n",
              "      <td>FLYNN: Hillary Clinton, Big Woman on Campus - ...</td>\n",
              "      <td>Daniel J. Flynn</td>\n",
              "      <td>Ever get the feeling your life circles the rou...</td>\n",
              "      <td>0</td>\n",
              "    </tr>\n",
              "    <tr>\n",
              "      <th>2</th>\n",
              "      <td>2</td>\n",
              "      <td>Why the Truth Might Get You Fired</td>\n",
              "      <td>Consortiumnews.com</td>\n",
              "      <td>Why the Truth Might Get You Fired October 29, ...</td>\n",
              "      <td>1</td>\n",
              "    </tr>\n",
              "    <tr>\n",
              "      <th>3</th>\n",
              "      <td>3</td>\n",
              "      <td>15 Civilians Killed In Single US Airstrike Hav...</td>\n",
              "      <td>Jessica Purkiss</td>\n",
              "      <td>Videos 15 Civilians Killed In Single US Airstr...</td>\n",
              "      <td>1</td>\n",
              "    </tr>\n",
              "    <tr>\n",
              "      <th>4</th>\n",
              "      <td>4</td>\n",
              "      <td>Iranian woman jailed for fictional unpublished...</td>\n",
              "      <td>Howard Portnoy</td>\n",
              "      <td>Print \\nAn Iranian woman has been sentenced to...</td>\n",
              "      <td>1</td>\n",
              "    </tr>\n",
              "    <tr>\n",
              "      <th>5</th>\n",
              "      <td>5</td>\n",
              "      <td>Jackie Mason: Hollywood Would Love Trump if He...</td>\n",
              "      <td>Daniel Nussbaum</td>\n",
              "      <td>In these trying times, Jackie Mason is the Voi...</td>\n",
              "      <td>0</td>\n",
              "    </tr>\n",
              "    <tr>\n",
              "      <th>7</th>\n",
              "      <td>7</td>\n",
              "      <td>Benoît Hamon Wins French Socialist Party’s Pre...</td>\n",
              "      <td>Alissa J. Rubin</td>\n",
              "      <td>PARIS  —   France chose an idealistic, traditi...</td>\n",
              "      <td>0</td>\n",
              "    </tr>\n",
              "    <tr>\n",
              "      <th>9</th>\n",
              "      <td>9</td>\n",
              "      <td>A Back-Channel Plan for Ukraine and Russia, Co...</td>\n",
              "      <td>Megan Twohey and Scott Shane</td>\n",
              "      <td>A week before Michael T. Flynn resigned as nat...</td>\n",
              "      <td>0</td>\n",
              "    </tr>\n",
              "    <tr>\n",
              "      <th>10</th>\n",
              "      <td>10</td>\n",
              "      <td>Obama’s Organizing for Action Partners with So...</td>\n",
              "      <td>Aaron Klein</td>\n",
              "      <td>Organizing for Action, the activist group that...</td>\n",
              "      <td>0</td>\n",
              "    </tr>\n",
              "    <tr>\n",
              "      <th>11</th>\n",
              "      <td>11</td>\n",
              "      <td>BBC Comedy Sketch \"Real Housewives of ISIS\" Ca...</td>\n",
              "      <td>Chris Tomlinson</td>\n",
              "      <td>The BBC produced spoof on the “Real Housewives...</td>\n",
              "      <td>0</td>\n",
              "    </tr>\n",
              "  </tbody>\n",
              "</table>\n",
              "</div>"
            ],
            "text/plain": [
              "    id  ... label\n",
              "0    0  ...     1\n",
              "1    1  ...     0\n",
              "2    2  ...     1\n",
              "3    3  ...     1\n",
              "4    4  ...     1\n",
              "5    5  ...     0\n",
              "7    7  ...     0\n",
              "9    9  ...     0\n",
              "10  10  ...     0\n",
              "11  11  ...     0\n",
              "\n",
              "[10 rows x 5 columns]"
            ]
          },
          "metadata": {
            "tags": []
          },
          "execution_count": 13
        }
      ]
    },
    {
      "cell_type": "code",
      "metadata": {
        "id": "NRGhXgG_NBWh"
      },
      "source": [
        "messages=df.copy()"
      ],
      "execution_count": 14,
      "outputs": []
    },
    {
      "cell_type": "code",
      "metadata": {
        "id": "8pGSvUOBNBWh"
      },
      "source": [
        "messages.reset_index(inplace=True)"
      ],
      "execution_count": 15,
      "outputs": []
    },
    {
      "cell_type": "code",
      "metadata": {
        "colab": {
          "base_uri": "https://localhost:8080/",
          "height": 348
        },
        "id": "w4TRfcu9NBWi",
        "outputId": "599fa7c5-51d0-4478-c49f-5a043390801b"
      },
      "source": [
        "messages.head(10)"
      ],
      "execution_count": 16,
      "outputs": [
        {
          "output_type": "execute_result",
          "data": {
            "text/html": [
              "<div>\n",
              "<style scoped>\n",
              "    .dataframe tbody tr th:only-of-type {\n",
              "        vertical-align: middle;\n",
              "    }\n",
              "\n",
              "    .dataframe tbody tr th {\n",
              "        vertical-align: top;\n",
              "    }\n",
              "\n",
              "    .dataframe thead th {\n",
              "        text-align: right;\n",
              "    }\n",
              "</style>\n",
              "<table border=\"1\" class=\"dataframe\">\n",
              "  <thead>\n",
              "    <tr style=\"text-align: right;\">\n",
              "      <th></th>\n",
              "      <th>index</th>\n",
              "      <th>id</th>\n",
              "      <th>title</th>\n",
              "      <th>author</th>\n",
              "      <th>text</th>\n",
              "      <th>label</th>\n",
              "    </tr>\n",
              "  </thead>\n",
              "  <tbody>\n",
              "    <tr>\n",
              "      <th>0</th>\n",
              "      <td>0</td>\n",
              "      <td>0</td>\n",
              "      <td>House Dem Aide: We Didn’t Even See Comey’s Let...</td>\n",
              "      <td>Darrell Lucus</td>\n",
              "      <td>House Dem Aide: We Didn’t Even See Comey’s Let...</td>\n",
              "      <td>1</td>\n",
              "    </tr>\n",
              "    <tr>\n",
              "      <th>1</th>\n",
              "      <td>1</td>\n",
              "      <td>1</td>\n",
              "      <td>FLYNN: Hillary Clinton, Big Woman on Campus - ...</td>\n",
              "      <td>Daniel J. Flynn</td>\n",
              "      <td>Ever get the feeling your life circles the rou...</td>\n",
              "      <td>0</td>\n",
              "    </tr>\n",
              "    <tr>\n",
              "      <th>2</th>\n",
              "      <td>2</td>\n",
              "      <td>2</td>\n",
              "      <td>Why the Truth Might Get You Fired</td>\n",
              "      <td>Consortiumnews.com</td>\n",
              "      <td>Why the Truth Might Get You Fired October 29, ...</td>\n",
              "      <td>1</td>\n",
              "    </tr>\n",
              "    <tr>\n",
              "      <th>3</th>\n",
              "      <td>3</td>\n",
              "      <td>3</td>\n",
              "      <td>15 Civilians Killed In Single US Airstrike Hav...</td>\n",
              "      <td>Jessica Purkiss</td>\n",
              "      <td>Videos 15 Civilians Killed In Single US Airstr...</td>\n",
              "      <td>1</td>\n",
              "    </tr>\n",
              "    <tr>\n",
              "      <th>4</th>\n",
              "      <td>4</td>\n",
              "      <td>4</td>\n",
              "      <td>Iranian woman jailed for fictional unpublished...</td>\n",
              "      <td>Howard Portnoy</td>\n",
              "      <td>Print \\nAn Iranian woman has been sentenced to...</td>\n",
              "      <td>1</td>\n",
              "    </tr>\n",
              "    <tr>\n",
              "      <th>5</th>\n",
              "      <td>5</td>\n",
              "      <td>5</td>\n",
              "      <td>Jackie Mason: Hollywood Would Love Trump if He...</td>\n",
              "      <td>Daniel Nussbaum</td>\n",
              "      <td>In these trying times, Jackie Mason is the Voi...</td>\n",
              "      <td>0</td>\n",
              "    </tr>\n",
              "    <tr>\n",
              "      <th>6</th>\n",
              "      <td>7</td>\n",
              "      <td>7</td>\n",
              "      <td>Benoît Hamon Wins French Socialist Party’s Pre...</td>\n",
              "      <td>Alissa J. Rubin</td>\n",
              "      <td>PARIS  —   France chose an idealistic, traditi...</td>\n",
              "      <td>0</td>\n",
              "    </tr>\n",
              "    <tr>\n",
              "      <th>7</th>\n",
              "      <td>9</td>\n",
              "      <td>9</td>\n",
              "      <td>A Back-Channel Plan for Ukraine and Russia, Co...</td>\n",
              "      <td>Megan Twohey and Scott Shane</td>\n",
              "      <td>A week before Michael T. Flynn resigned as nat...</td>\n",
              "      <td>0</td>\n",
              "    </tr>\n",
              "    <tr>\n",
              "      <th>8</th>\n",
              "      <td>10</td>\n",
              "      <td>10</td>\n",
              "      <td>Obama’s Organizing for Action Partners with So...</td>\n",
              "      <td>Aaron Klein</td>\n",
              "      <td>Organizing for Action, the activist group that...</td>\n",
              "      <td>0</td>\n",
              "    </tr>\n",
              "    <tr>\n",
              "      <th>9</th>\n",
              "      <td>11</td>\n",
              "      <td>11</td>\n",
              "      <td>BBC Comedy Sketch \"Real Housewives of ISIS\" Ca...</td>\n",
              "      <td>Chris Tomlinson</td>\n",
              "      <td>The BBC produced spoof on the “Real Housewives...</td>\n",
              "      <td>0</td>\n",
              "    </tr>\n",
              "  </tbody>\n",
              "</table>\n",
              "</div>"
            ],
            "text/plain": [
              "   index  id  ...                                               text label\n",
              "0      0   0  ...  House Dem Aide: We Didn’t Even See Comey’s Let...     1\n",
              "1      1   1  ...  Ever get the feeling your life circles the rou...     0\n",
              "2      2   2  ...  Why the Truth Might Get You Fired October 29, ...     1\n",
              "3      3   3  ...  Videos 15 Civilians Killed In Single US Airstr...     1\n",
              "4      4   4  ...  Print \\nAn Iranian woman has been sentenced to...     1\n",
              "5      5   5  ...  In these trying times, Jackie Mason is the Voi...     0\n",
              "6      7   7  ...  PARIS  —   France chose an idealistic, traditi...     0\n",
              "7      9   9  ...  A week before Michael T. Flynn resigned as nat...     0\n",
              "8     10  10  ...  Organizing for Action, the activist group that...     0\n",
              "9     11  11  ...  The BBC produced spoof on the “Real Housewives...     0\n",
              "\n",
              "[10 rows x 6 columns]"
            ]
          },
          "metadata": {
            "tags": []
          },
          "execution_count": 16
        }
      ]
    },
    {
      "cell_type": "code",
      "metadata": {
        "colab": {
          "base_uri": "https://localhost:8080/",
          "height": 35
        },
        "id": "09xQ3tx4NBWi",
        "outputId": "ade5439f-4835-4eb1-fb32-cd1a5ae3edf1"
      },
      "source": [
        "messages['title'][6]"
      ],
      "execution_count": 17,
      "outputs": [
        {
          "output_type": "execute_result",
          "data": {
            "application/vnd.google.colaboratory.intrinsic+json": {
              "type": "string"
            },
            "text/plain": [
              "'Benoît Hamon Wins French Socialist Party’s Presidential Nomination - The New York Times'"
            ]
          },
          "metadata": {
            "tags": []
          },
          "execution_count": 17
        }
      ]
    },
    {
      "cell_type": "code",
      "metadata": {
        "id": "wkI89leWNBWj"
      },
      "source": [
        "from nltk.corpus import stopwords\n",
        "from nltk.stem.porter import PorterStemmer\n",
        "ps = PorterStemmer()\n",
        "corpus = []\n",
        "for i in range(0, len(messages)):\n",
        "    review = re.sub('[^a-zA-Z]', ' ', messages['title'][i])\n",
        "    review = review.lower()\n",
        "    review = review.split()\n",
        "    \n",
        "    review = [ps.stem(word) for word in review if not word in stopwords.words('english')]\n",
        "    review = ' '.join(review)\n",
        "    corpus.append(review)"
      ],
      "execution_count": 18,
      "outputs": []
    },
    {
      "cell_type": "code",
      "metadata": {
        "colab": {
          "base_uri": "https://localhost:8080/",
          "height": 35
        },
        "id": "h1f1noi5NBWj",
        "outputId": "50d3f346-fd78-4a7c-e47b-0540b02c5ec0"
      },
      "source": [
        "corpus[3]"
      ],
      "execution_count": 19,
      "outputs": [
        {
          "output_type": "execute_result",
          "data": {
            "application/vnd.google.colaboratory.intrinsic+json": {
              "type": "string"
            },
            "text/plain": [
              "'civilian kill singl us airstrik identifi'"
            ]
          },
          "metadata": {
            "tags": []
          },
          "execution_count": 19
        }
      ]
    },
    {
      "cell_type": "code",
      "metadata": {
        "id": "TdWqLZ8BNBWk"
      },
      "source": [
        "## TFidf Vectorizer\n",
        "from sklearn.feature_extraction.text import TfidfVectorizer\n",
        "tfidf_v=TfidfVectorizer(max_features=5000,ngram_range=(1,3))\n",
        "X=tfidf_v.fit_transform(corpus).toarray()\n"
      ],
      "execution_count": 20,
      "outputs": []
    },
    {
      "cell_type": "code",
      "metadata": {
        "colab": {
          "base_uri": "https://localhost:8080/"
        },
        "id": "FfeyL-9oNBWk",
        "outputId": "fab674e7-0e87-4774-fc72-99c593f926f9"
      },
      "source": [
        "X.shape"
      ],
      "execution_count": 21,
      "outputs": [
        {
          "output_type": "execute_result",
          "data": {
            "text/plain": [
              "(18285, 5000)"
            ]
          },
          "metadata": {
            "tags": []
          },
          "execution_count": 21
        }
      ]
    },
    {
      "cell_type": "code",
      "metadata": {
        "id": "0th6YoVCNBWl"
      },
      "source": [
        "y=messages['label']"
      ],
      "execution_count": 22,
      "outputs": []
    },
    {
      "cell_type": "code",
      "metadata": {
        "id": "7mFQAkTINBWl"
      },
      "source": [
        "## Divide the dataset into Train and Test\n",
        "from sklearn.model_selection import train_test_split\n",
        "X_train, X_test, y_train, y_test = train_test_split(X, y, test_size=0.33, random_state=0)"
      ],
      "execution_count": 23,
      "outputs": []
    },
    {
      "cell_type": "code",
      "metadata": {
        "colab": {
          "base_uri": "https://localhost:8080/"
        },
        "id": "JgnJdV38NBWm",
        "outputId": "49964307-1555-45c2-ffc9-4edafcc439d7"
      },
      "source": [
        "tfidf_v.get_feature_names()[:20]"
      ],
      "execution_count": 24,
      "outputs": [
        {
          "output_type": "execute_result",
          "data": {
            "text/plain": [
              "['abandon',\n",
              " 'abc',\n",
              " 'abc news',\n",
              " 'abduct',\n",
              " 'abe',\n",
              " 'abedin',\n",
              " 'abl',\n",
              " 'abort',\n",
              " 'abroad',\n",
              " 'absolut',\n",
              " 'abstain',\n",
              " 'absurd',\n",
              " 'abus',\n",
              " 'abus new',\n",
              " 'abus new york',\n",
              " 'academi',\n",
              " 'accept',\n",
              " 'access',\n",
              " 'access pipelin',\n",
              " 'access pipelin protest']"
            ]
          },
          "metadata": {
            "tags": []
          },
          "execution_count": 24
        }
      ]
    },
    {
      "cell_type": "code",
      "metadata": {
        "colab": {
          "base_uri": "https://localhost:8080/"
        },
        "id": "CVQiFbyQNBWm",
        "outputId": "31a3b01b-ef8f-46a2-9a13-6a4f747c392f"
      },
      "source": [
        "tfidf_v.get_params()"
      ],
      "execution_count": 25,
      "outputs": [
        {
          "output_type": "execute_result",
          "data": {
            "text/plain": [
              "{'analyzer': 'word',\n",
              " 'binary': False,\n",
              " 'decode_error': 'strict',\n",
              " 'dtype': numpy.float64,\n",
              " 'encoding': 'utf-8',\n",
              " 'input': 'content',\n",
              " 'lowercase': True,\n",
              " 'max_df': 1.0,\n",
              " 'max_features': 5000,\n",
              " 'min_df': 1,\n",
              " 'ngram_range': (1, 3),\n",
              " 'norm': 'l2',\n",
              " 'preprocessor': None,\n",
              " 'smooth_idf': True,\n",
              " 'stop_words': None,\n",
              " 'strip_accents': None,\n",
              " 'sublinear_tf': False,\n",
              " 'token_pattern': '(?u)\\\\b\\\\w\\\\w+\\\\b',\n",
              " 'tokenizer': None,\n",
              " 'use_idf': True,\n",
              " 'vocabulary': None}"
            ]
          },
          "metadata": {
            "tags": []
          },
          "execution_count": 25
        }
      ]
    },
    {
      "cell_type": "code",
      "metadata": {
        "id": "wM0cth9UNBWn"
      },
      "source": [
        "count_df = pd.DataFrame(X_train, columns=tfidf_v.get_feature_names())"
      ],
      "execution_count": 26,
      "outputs": []
    },
    {
      "cell_type": "code",
      "metadata": {
        "colab": {
          "base_uri": "https://localhost:8080/",
          "height": 282
        },
        "id": "_n6cX6J0NBWo",
        "outputId": "fdba2144-440f-456d-f495-0e05cc80f608"
      },
      "source": [
        "count_df.head()"
      ],
      "execution_count": 27,
      "outputs": [
        {
          "output_type": "execute_result",
          "data": {
            "text/html": [
              "<div>\n",
              "<style scoped>\n",
              "    .dataframe tbody tr th:only-of-type {\n",
              "        vertical-align: middle;\n",
              "    }\n",
              "\n",
              "    .dataframe tbody tr th {\n",
              "        vertical-align: top;\n",
              "    }\n",
              "\n",
              "    .dataframe thead th {\n",
              "        text-align: right;\n",
              "    }\n",
              "</style>\n",
              "<table border=\"1\" class=\"dataframe\">\n",
              "  <thead>\n",
              "    <tr style=\"text-align: right;\">\n",
              "      <th></th>\n",
              "      <th>abandon</th>\n",
              "      <th>abc</th>\n",
              "      <th>abc news</th>\n",
              "      <th>abduct</th>\n",
              "      <th>abe</th>\n",
              "      <th>abedin</th>\n",
              "      <th>abl</th>\n",
              "      <th>abort</th>\n",
              "      <th>abroad</th>\n",
              "      <th>absolut</th>\n",
              "      <th>abstain</th>\n",
              "      <th>absurd</th>\n",
              "      <th>abus</th>\n",
              "      <th>abus new</th>\n",
              "      <th>abus new york</th>\n",
              "      <th>academi</th>\n",
              "      <th>accept</th>\n",
              "      <th>access</th>\n",
              "      <th>access pipelin</th>\n",
              "      <th>access pipelin protest</th>\n",
              "      <th>accid</th>\n",
              "      <th>accident</th>\n",
              "      <th>accord</th>\n",
              "      <th>account</th>\n",
              "      <th>accus</th>\n",
              "      <th>accus trump</th>\n",
              "      <th>achiev</th>\n",
              "      <th>acknowledg</th>\n",
              "      <th>acknowledg emf</th>\n",
              "      <th>acknowledg emf damag</th>\n",
              "      <th>aclu</th>\n",
              "      <th>acquit</th>\n",
              "      <th>acquitt</th>\n",
              "      <th>acr</th>\n",
              "      <th>across</th>\n",
              "      <th>act</th>\n",
              "      <th>act like</th>\n",
              "      <th>act new</th>\n",
              "      <th>act new york</th>\n",
              "      <th>action</th>\n",
              "      <th>...</th>\n",
              "      <th>yahoo</th>\n",
              "      <th>yale</th>\n",
              "      <th>ye</th>\n",
              "      <th>year</th>\n",
              "      <th>year ago</th>\n",
              "      <th>year breitbart</th>\n",
              "      <th>year eve</th>\n",
              "      <th>year later</th>\n",
              "      <th>year new</th>\n",
              "      <th>year new york</th>\n",
              "      <th>year old</th>\n",
              "      <th>year old girl</th>\n",
              "      <th>year sinc</th>\n",
              "      <th>yemen</th>\n",
              "      <th>yet</th>\n",
              "      <th>yet anoth</th>\n",
              "      <th>yiannopoulo</th>\n",
              "      <th>yield</th>\n",
              "      <th>yo</th>\n",
              "      <th>york</th>\n",
              "      <th>york citi</th>\n",
              "      <th>york new</th>\n",
              "      <th>york new york</th>\n",
              "      <th>york state</th>\n",
              "      <th>york time</th>\n",
              "      <th>yorker</th>\n",
              "      <th>young</th>\n",
              "      <th>youth</th>\n",
              "      <th>youtub</th>\n",
              "      <th>zealand</th>\n",
              "      <th>zero</th>\n",
              "      <th>zika</th>\n",
              "      <th>zika viru</th>\n",
              "      <th>zionist</th>\n",
              "      <th>zone</th>\n",
              "      <th>zone new</th>\n",
              "      <th>zone new york</th>\n",
              "      <th>zoo</th>\n",
              "      <th>zu</th>\n",
              "      <th>zuckerberg</th>\n",
              "    </tr>\n",
              "  </thead>\n",
              "  <tbody>\n",
              "    <tr>\n",
              "      <th>0</th>\n",
              "      <td>0.0</td>\n",
              "      <td>0.0</td>\n",
              "      <td>0.0</td>\n",
              "      <td>0.0</td>\n",
              "      <td>0.0</td>\n",
              "      <td>0.0</td>\n",
              "      <td>0.0</td>\n",
              "      <td>0.0</td>\n",
              "      <td>0.0</td>\n",
              "      <td>0.000000</td>\n",
              "      <td>0.0</td>\n",
              "      <td>0.0</td>\n",
              "      <td>0.0</td>\n",
              "      <td>0.0</td>\n",
              "      <td>0.0</td>\n",
              "      <td>0.0</td>\n",
              "      <td>0.0</td>\n",
              "      <td>0.0</td>\n",
              "      <td>0.0</td>\n",
              "      <td>0.0</td>\n",
              "      <td>0.0</td>\n",
              "      <td>0.0</td>\n",
              "      <td>0.0</td>\n",
              "      <td>0.0</td>\n",
              "      <td>0.0</td>\n",
              "      <td>0.0</td>\n",
              "      <td>0.0</td>\n",
              "      <td>0.0</td>\n",
              "      <td>0.0</td>\n",
              "      <td>0.0</td>\n",
              "      <td>0.0</td>\n",
              "      <td>0.0</td>\n",
              "      <td>0.0</td>\n",
              "      <td>0.0</td>\n",
              "      <td>0.0</td>\n",
              "      <td>0.0</td>\n",
              "      <td>0.0</td>\n",
              "      <td>0.0</td>\n",
              "      <td>0.0</td>\n",
              "      <td>0.0</td>\n",
              "      <td>...</td>\n",
              "      <td>0.0</td>\n",
              "      <td>0.0</td>\n",
              "      <td>0.0</td>\n",
              "      <td>0.0</td>\n",
              "      <td>0.0</td>\n",
              "      <td>0.0</td>\n",
              "      <td>0.0</td>\n",
              "      <td>0.0</td>\n",
              "      <td>0.0</td>\n",
              "      <td>0.0</td>\n",
              "      <td>0.0</td>\n",
              "      <td>0.0</td>\n",
              "      <td>0.0</td>\n",
              "      <td>0.0</td>\n",
              "      <td>0.0</td>\n",
              "      <td>0.0</td>\n",
              "      <td>0.0</td>\n",
              "      <td>0.000000</td>\n",
              "      <td>0.0</td>\n",
              "      <td>0.00000</td>\n",
              "      <td>0.0</td>\n",
              "      <td>0.0</td>\n",
              "      <td>0.0</td>\n",
              "      <td>0.0</td>\n",
              "      <td>0.000000</td>\n",
              "      <td>0.0</td>\n",
              "      <td>0.432575</td>\n",
              "      <td>0.0</td>\n",
              "      <td>0.0</td>\n",
              "      <td>0.0</td>\n",
              "      <td>0.0</td>\n",
              "      <td>0.0</td>\n",
              "      <td>0.0</td>\n",
              "      <td>0.0</td>\n",
              "      <td>0.0</td>\n",
              "      <td>0.0</td>\n",
              "      <td>0.0</td>\n",
              "      <td>0.0</td>\n",
              "      <td>0.0</td>\n",
              "      <td>0.0</td>\n",
              "    </tr>\n",
              "    <tr>\n",
              "      <th>1</th>\n",
              "      <td>0.0</td>\n",
              "      <td>0.0</td>\n",
              "      <td>0.0</td>\n",
              "      <td>0.0</td>\n",
              "      <td>0.0</td>\n",
              "      <td>0.0</td>\n",
              "      <td>0.0</td>\n",
              "      <td>0.0</td>\n",
              "      <td>0.0</td>\n",
              "      <td>0.000000</td>\n",
              "      <td>0.0</td>\n",
              "      <td>0.0</td>\n",
              "      <td>0.0</td>\n",
              "      <td>0.0</td>\n",
              "      <td>0.0</td>\n",
              "      <td>0.0</td>\n",
              "      <td>0.0</td>\n",
              "      <td>0.0</td>\n",
              "      <td>0.0</td>\n",
              "      <td>0.0</td>\n",
              "      <td>0.0</td>\n",
              "      <td>0.0</td>\n",
              "      <td>0.0</td>\n",
              "      <td>0.0</td>\n",
              "      <td>0.0</td>\n",
              "      <td>0.0</td>\n",
              "      <td>0.0</td>\n",
              "      <td>0.0</td>\n",
              "      <td>0.0</td>\n",
              "      <td>0.0</td>\n",
              "      <td>0.0</td>\n",
              "      <td>0.0</td>\n",
              "      <td>0.0</td>\n",
              "      <td>0.0</td>\n",
              "      <td>0.0</td>\n",
              "      <td>0.0</td>\n",
              "      <td>0.0</td>\n",
              "      <td>0.0</td>\n",
              "      <td>0.0</td>\n",
              "      <td>0.0</td>\n",
              "      <td>...</td>\n",
              "      <td>0.0</td>\n",
              "      <td>0.0</td>\n",
              "      <td>0.0</td>\n",
              "      <td>0.0</td>\n",
              "      <td>0.0</td>\n",
              "      <td>0.0</td>\n",
              "      <td>0.0</td>\n",
              "      <td>0.0</td>\n",
              "      <td>0.0</td>\n",
              "      <td>0.0</td>\n",
              "      <td>0.0</td>\n",
              "      <td>0.0</td>\n",
              "      <td>0.0</td>\n",
              "      <td>0.0</td>\n",
              "      <td>0.0</td>\n",
              "      <td>0.0</td>\n",
              "      <td>0.0</td>\n",
              "      <td>0.449417</td>\n",
              "      <td>0.0</td>\n",
              "      <td>0.00000</td>\n",
              "      <td>0.0</td>\n",
              "      <td>0.0</td>\n",
              "      <td>0.0</td>\n",
              "      <td>0.0</td>\n",
              "      <td>0.000000</td>\n",
              "      <td>0.0</td>\n",
              "      <td>0.000000</td>\n",
              "      <td>0.0</td>\n",
              "      <td>0.0</td>\n",
              "      <td>0.0</td>\n",
              "      <td>0.0</td>\n",
              "      <td>0.0</td>\n",
              "      <td>0.0</td>\n",
              "      <td>0.0</td>\n",
              "      <td>0.0</td>\n",
              "      <td>0.0</td>\n",
              "      <td>0.0</td>\n",
              "      <td>0.0</td>\n",
              "      <td>0.0</td>\n",
              "      <td>0.0</td>\n",
              "    </tr>\n",
              "    <tr>\n",
              "      <th>2</th>\n",
              "      <td>0.0</td>\n",
              "      <td>0.0</td>\n",
              "      <td>0.0</td>\n",
              "      <td>0.0</td>\n",
              "      <td>0.0</td>\n",
              "      <td>0.0</td>\n",
              "      <td>0.0</td>\n",
              "      <td>0.0</td>\n",
              "      <td>0.0</td>\n",
              "      <td>0.000000</td>\n",
              "      <td>0.0</td>\n",
              "      <td>0.0</td>\n",
              "      <td>0.0</td>\n",
              "      <td>0.0</td>\n",
              "      <td>0.0</td>\n",
              "      <td>0.0</td>\n",
              "      <td>0.0</td>\n",
              "      <td>0.0</td>\n",
              "      <td>0.0</td>\n",
              "      <td>0.0</td>\n",
              "      <td>0.0</td>\n",
              "      <td>0.0</td>\n",
              "      <td>0.0</td>\n",
              "      <td>0.0</td>\n",
              "      <td>0.0</td>\n",
              "      <td>0.0</td>\n",
              "      <td>0.0</td>\n",
              "      <td>0.0</td>\n",
              "      <td>0.0</td>\n",
              "      <td>0.0</td>\n",
              "      <td>0.0</td>\n",
              "      <td>0.0</td>\n",
              "      <td>0.0</td>\n",
              "      <td>0.0</td>\n",
              "      <td>0.0</td>\n",
              "      <td>0.0</td>\n",
              "      <td>0.0</td>\n",
              "      <td>0.0</td>\n",
              "      <td>0.0</td>\n",
              "      <td>0.0</td>\n",
              "      <td>...</td>\n",
              "      <td>0.0</td>\n",
              "      <td>0.0</td>\n",
              "      <td>0.0</td>\n",
              "      <td>0.0</td>\n",
              "      <td>0.0</td>\n",
              "      <td>0.0</td>\n",
              "      <td>0.0</td>\n",
              "      <td>0.0</td>\n",
              "      <td>0.0</td>\n",
              "      <td>0.0</td>\n",
              "      <td>0.0</td>\n",
              "      <td>0.0</td>\n",
              "      <td>0.0</td>\n",
              "      <td>0.0</td>\n",
              "      <td>0.0</td>\n",
              "      <td>0.0</td>\n",
              "      <td>0.0</td>\n",
              "      <td>0.000000</td>\n",
              "      <td>0.0</td>\n",
              "      <td>0.15264</td>\n",
              "      <td>0.0</td>\n",
              "      <td>0.0</td>\n",
              "      <td>0.0</td>\n",
              "      <td>0.0</td>\n",
              "      <td>0.152971</td>\n",
              "      <td>0.0</td>\n",
              "      <td>0.000000</td>\n",
              "      <td>0.0</td>\n",
              "      <td>0.0</td>\n",
              "      <td>0.0</td>\n",
              "      <td>0.0</td>\n",
              "      <td>0.0</td>\n",
              "      <td>0.0</td>\n",
              "      <td>0.0</td>\n",
              "      <td>0.0</td>\n",
              "      <td>0.0</td>\n",
              "      <td>0.0</td>\n",
              "      <td>0.0</td>\n",
              "      <td>0.0</td>\n",
              "      <td>0.0</td>\n",
              "    </tr>\n",
              "    <tr>\n",
              "      <th>3</th>\n",
              "      <td>0.0</td>\n",
              "      <td>0.0</td>\n",
              "      <td>0.0</td>\n",
              "      <td>0.0</td>\n",
              "      <td>0.0</td>\n",
              "      <td>0.0</td>\n",
              "      <td>0.0</td>\n",
              "      <td>0.0</td>\n",
              "      <td>0.0</td>\n",
              "      <td>0.000000</td>\n",
              "      <td>0.0</td>\n",
              "      <td>0.0</td>\n",
              "      <td>0.0</td>\n",
              "      <td>0.0</td>\n",
              "      <td>0.0</td>\n",
              "      <td>0.0</td>\n",
              "      <td>0.0</td>\n",
              "      <td>0.0</td>\n",
              "      <td>0.0</td>\n",
              "      <td>0.0</td>\n",
              "      <td>0.0</td>\n",
              "      <td>0.0</td>\n",
              "      <td>0.0</td>\n",
              "      <td>0.0</td>\n",
              "      <td>0.0</td>\n",
              "      <td>0.0</td>\n",
              "      <td>0.0</td>\n",
              "      <td>0.0</td>\n",
              "      <td>0.0</td>\n",
              "      <td>0.0</td>\n",
              "      <td>0.0</td>\n",
              "      <td>0.0</td>\n",
              "      <td>0.0</td>\n",
              "      <td>0.0</td>\n",
              "      <td>0.0</td>\n",
              "      <td>0.0</td>\n",
              "      <td>0.0</td>\n",
              "      <td>0.0</td>\n",
              "      <td>0.0</td>\n",
              "      <td>0.0</td>\n",
              "      <td>...</td>\n",
              "      <td>0.0</td>\n",
              "      <td>0.0</td>\n",
              "      <td>0.0</td>\n",
              "      <td>0.0</td>\n",
              "      <td>0.0</td>\n",
              "      <td>0.0</td>\n",
              "      <td>0.0</td>\n",
              "      <td>0.0</td>\n",
              "      <td>0.0</td>\n",
              "      <td>0.0</td>\n",
              "      <td>0.0</td>\n",
              "      <td>0.0</td>\n",
              "      <td>0.0</td>\n",
              "      <td>0.0</td>\n",
              "      <td>0.0</td>\n",
              "      <td>0.0</td>\n",
              "      <td>0.0</td>\n",
              "      <td>0.000000</td>\n",
              "      <td>0.0</td>\n",
              "      <td>0.00000</td>\n",
              "      <td>0.0</td>\n",
              "      <td>0.0</td>\n",
              "      <td>0.0</td>\n",
              "      <td>0.0</td>\n",
              "      <td>0.000000</td>\n",
              "      <td>0.0</td>\n",
              "      <td>0.000000</td>\n",
              "      <td>0.0</td>\n",
              "      <td>0.0</td>\n",
              "      <td>0.0</td>\n",
              "      <td>0.0</td>\n",
              "      <td>0.0</td>\n",
              "      <td>0.0</td>\n",
              "      <td>0.0</td>\n",
              "      <td>0.0</td>\n",
              "      <td>0.0</td>\n",
              "      <td>0.0</td>\n",
              "      <td>0.0</td>\n",
              "      <td>0.0</td>\n",
              "      <td>0.0</td>\n",
              "    </tr>\n",
              "    <tr>\n",
              "      <th>4</th>\n",
              "      <td>0.0</td>\n",
              "      <td>0.0</td>\n",
              "      <td>0.0</td>\n",
              "      <td>0.0</td>\n",
              "      <td>0.0</td>\n",
              "      <td>0.0</td>\n",
              "      <td>0.0</td>\n",
              "      <td>0.0</td>\n",
              "      <td>0.0</td>\n",
              "      <td>0.305244</td>\n",
              "      <td>0.0</td>\n",
              "      <td>0.0</td>\n",
              "      <td>0.0</td>\n",
              "      <td>0.0</td>\n",
              "      <td>0.0</td>\n",
              "      <td>0.0</td>\n",
              "      <td>0.0</td>\n",
              "      <td>0.0</td>\n",
              "      <td>0.0</td>\n",
              "      <td>0.0</td>\n",
              "      <td>0.0</td>\n",
              "      <td>0.0</td>\n",
              "      <td>0.0</td>\n",
              "      <td>0.0</td>\n",
              "      <td>0.0</td>\n",
              "      <td>0.0</td>\n",
              "      <td>0.0</td>\n",
              "      <td>0.0</td>\n",
              "      <td>0.0</td>\n",
              "      <td>0.0</td>\n",
              "      <td>0.0</td>\n",
              "      <td>0.0</td>\n",
              "      <td>0.0</td>\n",
              "      <td>0.0</td>\n",
              "      <td>0.0</td>\n",
              "      <td>0.0</td>\n",
              "      <td>0.0</td>\n",
              "      <td>0.0</td>\n",
              "      <td>0.0</td>\n",
              "      <td>0.0</td>\n",
              "      <td>...</td>\n",
              "      <td>0.0</td>\n",
              "      <td>0.0</td>\n",
              "      <td>0.0</td>\n",
              "      <td>0.0</td>\n",
              "      <td>0.0</td>\n",
              "      <td>0.0</td>\n",
              "      <td>0.0</td>\n",
              "      <td>0.0</td>\n",
              "      <td>0.0</td>\n",
              "      <td>0.0</td>\n",
              "      <td>0.0</td>\n",
              "      <td>0.0</td>\n",
              "      <td>0.0</td>\n",
              "      <td>0.0</td>\n",
              "      <td>0.0</td>\n",
              "      <td>0.0</td>\n",
              "      <td>0.0</td>\n",
              "      <td>0.000000</td>\n",
              "      <td>0.0</td>\n",
              "      <td>0.00000</td>\n",
              "      <td>0.0</td>\n",
              "      <td>0.0</td>\n",
              "      <td>0.0</td>\n",
              "      <td>0.0</td>\n",
              "      <td>0.000000</td>\n",
              "      <td>0.0</td>\n",
              "      <td>0.000000</td>\n",
              "      <td>0.0</td>\n",
              "      <td>0.0</td>\n",
              "      <td>0.0</td>\n",
              "      <td>0.0</td>\n",
              "      <td>0.0</td>\n",
              "      <td>0.0</td>\n",
              "      <td>0.0</td>\n",
              "      <td>0.0</td>\n",
              "      <td>0.0</td>\n",
              "      <td>0.0</td>\n",
              "      <td>0.0</td>\n",
              "      <td>0.0</td>\n",
              "      <td>0.0</td>\n",
              "    </tr>\n",
              "  </tbody>\n",
              "</table>\n",
              "<p>5 rows × 5000 columns</p>\n",
              "</div>"
            ],
            "text/plain": [
              "   abandon  abc  abc news  abduct  ...  zone new york  zoo   zu  zuckerberg\n",
              "0      0.0  0.0       0.0     0.0  ...            0.0  0.0  0.0         0.0\n",
              "1      0.0  0.0       0.0     0.0  ...            0.0  0.0  0.0         0.0\n",
              "2      0.0  0.0       0.0     0.0  ...            0.0  0.0  0.0         0.0\n",
              "3      0.0  0.0       0.0     0.0  ...            0.0  0.0  0.0         0.0\n",
              "4      0.0  0.0       0.0     0.0  ...            0.0  0.0  0.0         0.0\n",
              "\n",
              "[5 rows x 5000 columns]"
            ]
          },
          "metadata": {
            "tags": []
          },
          "execution_count": 27
        }
      ]
    },
    {
      "cell_type": "code",
      "metadata": {
        "id": "PWuJunyXNBWp"
      },
      "source": [
        "import matplotlib.pyplot as plt"
      ],
      "execution_count": 28,
      "outputs": []
    },
    {
      "cell_type": "code",
      "metadata": {
        "id": "_shZBT5ONBWp"
      },
      "source": [
        "def plot_confusion_matrix(cm, classes,\n",
        "                          normalize=False,\n",
        "                          title='Confusion matrix',\n",
        "                          cmap=plt.cm.Blues):\n",
        "    \"\"\"\n",
        "    See full source and example: \n",
        "    http://scikit-learn.org/stable/auto_examples/model_selection/plot_confusion_matrix.html\n",
        "    \n",
        "    This function prints and plots the confusion matrix.\n",
        "    Normalization can be applied by setting `normalize=True`.\n",
        "    \"\"\"\n",
        "    plt.imshow(cm, interpolation='nearest', cmap=cmap)\n",
        "    plt.title(title)\n",
        "    plt.colorbar()\n",
        "    tick_marks = np.arange(len(classes))\n",
        "    plt.xticks(tick_marks, classes, rotation=45)\n",
        "    plt.yticks(tick_marks, classes)\n",
        "\n",
        "    if normalize:\n",
        "        cm = cm.astype('float') / cm.sum(axis=1)[:, np.newaxis]\n",
        "        print(\"Normalized confusion matrix\")\n",
        "    else:\n",
        "        print('Confusion matrix, without normalization')\n",
        "\n",
        "    thresh = cm.max() / 2.\n",
        "    for i, j in itertools.product(range(cm.shape[0]), range(cm.shape[1])):\n",
        "        plt.text(j, i, cm[i, j],\n",
        "                 horizontalalignment=\"center\",\n",
        "                 color=\"white\" if cm[i, j] > thresh else \"black\")\n",
        "\n",
        "    plt.tight_layout()\n",
        "    plt.ylabel('True label')\n",
        "    plt.xlabel('Predicted label')"
      ],
      "execution_count": 29,
      "outputs": []
    },
    {
      "cell_type": "markdown",
      "metadata": {
        "id": "hLHC_EjaNBWq"
      },
      "source": [
        "### MultinomialNB Algorithm"
      ]
    },
    {
      "cell_type": "code",
      "metadata": {
        "id": "ay6hsGCWNBWq"
      },
      "source": [
        "\n",
        "from sklearn.naive_bayes import MultinomialNB\n",
        "classifier=MultinomialNB()"
      ],
      "execution_count": 30,
      "outputs": []
    },
    {
      "cell_type": "code",
      "metadata": {
        "id": "W0lM6acoNBWr"
      },
      "source": [
        "from sklearn import metrics\n",
        "import numpy as np\n",
        "import itertools"
      ],
      "execution_count": 31,
      "outputs": []
    },
    {
      "cell_type": "code",
      "metadata": {
        "colab": {
          "base_uri": "https://localhost:8080/",
          "height": 347
        },
        "id": "ybvcpt_uNBWr",
        "outputId": "6eb634af-3ee2-4c14-a1ed-212d857ff2ab"
      },
      "source": [
        "classifier.fit(X_train, y_train)\n",
        "pred = classifier.predict(X_test)\n",
        "score = metrics.accuracy_score(y_test, pred)\n",
        "print(\"accuracy:   %0.3f\" % score)\n",
        "cm = metrics.confusion_matrix(y_test, pred)\n",
        "plot_confusion_matrix(cm, classes=['FAKE', 'REAL'])"
      ],
      "execution_count": 32,
      "outputs": [
        {
          "output_type": "stream",
          "text": [
            "accuracy:   0.881\n",
            "Confusion matrix, without normalization\n"
          ],
          "name": "stdout"
        },
        {
          "output_type": "display_data",
          "data": {
            "image/png": "[encoded data removed]",
            "text/plain": [
              "<Figure size 432x288 with 2 Axes>"
            ]
          },
          "metadata": {
            "tags": [],
            "needs_background": "light"
          }
        }
      ]
    },
    {
      "cell_type": "code",
      "metadata": {
        "colab": {
          "base_uri": "https://localhost:8080/"
        },
        "id": "HqgN0Dq-NBWs",
        "outputId": "f75d2ccb-3ce0-42f2-d8d9-5d39f291bc35"
      },
      "source": [
        "classifier.fit(X_train, y_train)\n",
        "pred = classifier.predict(X_test)\n",
        "score = metrics.accuracy_score(y_test, pred)\n",
        "score"
      ],
      "execution_count": 33,
      "outputs": [
        {
          "output_type": "execute_result",
          "data": {
            "text/plain": [
              "0.8810273405136703"
            ]
          },
          "metadata": {
            "tags": []
          },
          "execution_count": 33
        }
      ]
    },
    {
      "cell_type": "code",
      "metadata": {
        "colab": {
          "base_uri": "https://localhost:8080/"
        },
        "id": "XCPLMVXFZRqZ",
        "outputId": "5079ad41-a7bc-4a51-d1f6-0f27906f87d4"
      },
      "source": [
        "from sklearn.metrics import roc_curve\n",
        "from sklearn.metrics import roc_auc_score\n",
        "lr_probs = classifier.predict_proba(X_test)\n",
        "lr_probs = lr_probs[:, 1]\n",
        "lr_auc = roc_auc_score(y_test, lr_probs)\n",
        "print(lr_auc)"
      ],
      "execution_count": 34,
      "outputs": [
        {
          "output_type": "stream",
          "text": [
            "0.9661073898101253\n"
          ],
          "name": "stdout"
        }
      ]
    },
    {
      "cell_type": "code",
      "metadata": {
        "colab": {
          "base_uri": "https://localhost:8080/",
          "height": 283
        },
        "id": "zpi4bP_ZazQy",
        "outputId": "db0a2a05-7624-4da7-9744-beba292fd5cc"
      },
      "source": [
        "from matplotlib import pyplot\n",
        "# calculate roc curves\n",
        "test_fpr, test_tpr, _ = roc_curve(y_test, lr_probs)\n",
        "\n",
        "# plot the roc curve for the model\n",
        "# axis labels\n",
        "pyplot.xlabel('False Positive Rate')\n",
        "pyplot.ylabel('True Positive Rate')\n",
        "pyplot.plot(test_fpr,test_tpr,label=\"Independent test(AUC)=\"+str(lr_auc))\n",
        "# show the legend\n",
        "pyplot.plot([0, 1], [0, 1],'r--')\n",
        "pyplot.xlim([0, 1])\n",
        "pyplot.ylim([0, 1])\n",
        "pyplot.legend()\n",
        "# show the plot\n",
        "pyplot.show()"
      ],
      "execution_count": 35,
      "outputs": [
        {
          "output_type": "display_data",
          "data": {
            "image/png": "[encoded data removed]",
            "text/plain": [
              "<Figure size 432x288 with 1 Axes>"
            ]
          },
          "metadata": {
            "tags": [],
            "needs_background": "light"
          }
        }
      ]
    },
    {
      "cell_type": "code",
      "metadata": {
        "colab": {
          "base_uri": "https://localhost:8080/"
        },
        "id": "-qPn2U8LNBWs",
        "outputId": "a7d766f7-7a91-4fe4-9a22-a4bf18b42777"
      },
      "source": [
        "y_train.shape"
      ],
      "execution_count": 36,
      "outputs": [
        {
          "output_type": "execute_result",
          "data": {
            "text/plain": [
              "(12250,)"
            ]
          },
          "metadata": {
            "tags": []
          },
          "execution_count": 36
        }
      ]
    },
    {
      "cell_type": "markdown",
      "metadata": {
        "id": "LfDst_IENBWt"
      },
      "source": [
        "### Passive Aggressive Classifier Algorithm"
      ]
    },
    {
      "cell_type": "code",
      "metadata": {
        "id": "mWHqluRXNBWt"
      },
      "source": [
        "from sklearn.linear_model import PassiveAggressiveClassifier\n",
        "linear_clf = PassiveAggressiveClassifier()"
      ],
      "execution_count": 37,
      "outputs": []
    },
    {
      "cell_type": "code",
      "metadata": {
        "colab": {
          "base_uri": "https://localhost:8080/",
          "height": 347
        },
        "id": "psBSJ2DBNBWt",
        "outputId": "9d9830b4-4fc6-45bc-e83f-9f03c13e7dc4"
      },
      "source": [
        "linear_clf.fit(X_train, y_train)\n",
        "pred = linear_clf.predict(X_test)\n",
        "score = metrics.accuracy_score(y_test, pred)\n",
        "print(\"accuracy:   %0.3f\" % score)\n",
        "cm = metrics.confusion_matrix(y_test, pred)\n",
        "plot_confusion_matrix(cm, classes=['FAKE Data', 'REAL Data'])"
      ],
      "execution_count": 38,
      "outputs": [
        {
          "output_type": "stream",
          "text": [
            "accuracy:   0.918\n",
            "Confusion matrix, without normalization\n"
          ],
          "name": "stdout"
        },
        {
          "output_type": "display_data",
          "data": {
            "image/png": "[encoded data removed]",
            "text/plain": [
              "<Figure size 432x288 with 2 Axes>"
            ]
          },
          "metadata": {
            "tags": [],
            "needs_background": "light"
          }
        }
      ]
    },
    {
      "cell_type": "code",
      "metadata": {
        "colab": {
          "base_uri": "https://localhost:8080/"
        },
        "id": "_EmI4XOkZLUZ",
        "outputId": "c1f5f681-ee3a-4d39-c26b-619e63b1f20b"
      },
      "source": [
        "from sklearn.metrics import roc_curve\n",
        "from sklearn.metrics import roc_auc_score\n",
        "lr_probs = linear_clf.predict(X_test)\n",
        "lr_probs = lr_probs\n",
        "lr_auc = roc_auc_score(y_test, lr_probs)\n",
        "print(lr_auc)"
      ],
      "execution_count": 39,
      "outputs": [
        {
          "output_type": "stream",
          "text": [
            "0.9176896620095204\n"
          ],
          "name": "stdout"
        }
      ]
    },
    {
      "cell_type": "code",
      "metadata": {
        "colab": {
          "base_uri": "https://localhost:8080/",
          "height": 283
        },
        "id": "CM5DSuNtZVbY",
        "outputId": "22519e75-6bf2-40cb-ee7f-2e20f8f2e575"
      },
      "source": [
        "from matplotlib import pyplot\n",
        "# calculate roc curves\n",
        "test_fpr, test_tpr, _ = roc_curve(y_test, lr_probs)\n",
        "\n",
        "# plot the roc curve for the model\n",
        "# axis labels\n",
        "pyplot.xlabel('False Positive Rate')\n",
        "pyplot.ylabel('True Positive Rate')\n",
        "pyplot.plot(test_fpr,test_tpr,label=\"Independent test(AUC)=\"+str(lr_auc))\n",
        "# show the legend\n",
        "pyplot.plot([0, 1], [0, 1],'r--')\n",
        "pyplot.xlim([0, 1])\n",
        "pyplot.ylim([0, 1])\n",
        "pyplot.legend()\n",
        "# show the plot\n",
        "pyplot.show()"
      ],
      "execution_count": 40,
      "outputs": [
        {
          "output_type": "display_data",
          "data": {
            "image/png": "[encoded data removed]",
            "text/plain": [
              "<Figure size 432x288 with 1 Axes>"
            ]
          },
          "metadata": {
            "tags": [],
            "needs_background": "light"
          }
        }
      ]
    },
    {
      "cell_type": "markdown",
      "metadata": {
        "id": "G1rz_WsKNBWu"
      },
      "source": [
        "### Multinomial Classifier with Hyperparameter"
      ]
    },
    {
      "cell_type": "code",
      "metadata": {
        "id": "gfiuHiazNBWu"
      },
      "source": [
        "classifier=MultinomialNB(alpha=0.1)"
      ],
      "execution_count": 41,
      "outputs": []
    },
    {
      "cell_type": "code",
      "metadata": {
        "colab": {
          "base_uri": "https://localhost:8080/"
        },
        "id": "k6dX72StNBWu",
        "outputId": "abc22d86-46e3-41db-a13e-e9d0f91c21e5"
      },
      "source": [
        "previous_score=0\n",
        "for alpha in np.arange(0,1,0.1):\n",
        "    sub_classifier=MultinomialNB(alpha=alpha)\n",
        "    sub_classifier.fit(X_train,y_train)\n",
        "    y_pred=sub_classifier.predict(X_test)\n",
        "    score = metrics.accuracy_score(y_test, y_pred)\n",
        "    if score>previous_score:\n",
        "        classifier=sub_classifier\n",
        "    print(\"Alpha: {}, Score : {}\".format(alpha,score))"
      ],
      "execution_count": 42,
      "outputs": [
        {
          "output_type": "stream",
          "text": [
            "/usr/local/lib/python3.7/dist-packages/sklearn/naive_bayes.py:507: UserWarning: alpha too small will result in numeric errors, setting alpha = 1.0e-10\n",
            "  'setting alpha = %.1e' % _ALPHA_MIN)\n"
          ],
          "name": "stderr"
        },
        {
          "output_type": "stream",
          "text": [
            "Alpha: 0.0, Score : 0.8662800331400166\n",
            "Alpha: 0.1, Score : 0.8777133388566695\n",
            "Alpha: 0.2, Score : 0.8801988400994201\n",
            "Alpha: 0.30000000000000004, Score : 0.87986743993372\n",
            "Alpha: 0.4, Score : 0.8808616404308203\n",
            "Alpha: 0.5, Score : 0.8806959403479702\n",
            "Alpha: 0.6000000000000001, Score : 0.8815244407622204\n",
            "Alpha: 0.7000000000000001, Score : 0.8813587406793704\n",
            "Alpha: 0.8, Score : 0.8816901408450705\n",
            "Alpha: 0.9, Score : 0.8816901408450705\n"
          ],
          "name": "stdout"
        }
      ]
    },
    {
      "cell_type": "code",
      "metadata": {
        "id": "plnOfkJvNBWv"
      },
      "source": [
        "## Get Features names\n",
        "feature_names = tfidf_v.get_feature_names()"
      ],
      "execution_count": 43,
      "outputs": []
    },
    {
      "cell_type": "code",
      "metadata": {
        "colab": {
          "base_uri": "https://localhost:8080/"
        },
        "id": "SfVGv6EgNBWv",
        "outputId": "0e9bf66f-ff07-4b6d-eb5f-6a9df24691ac"
      },
      "source": [
        "classifier.coef_[0]"
      ],
      "execution_count": 44,
      "outputs": [
        {
          "output_type": "execute_result",
          "data": {
            "text/plain": [
              "array([-8.79747339, -8.50390794, -8.86748348, ..., -9.89972258,\n",
              "       -8.39148017, -9.09223723])"
            ]
          },
          "metadata": {
            "tags": []
          },
          "execution_count": 44
        }
      ]
    },
    {
      "cell_type": "code",
      "metadata": {
        "colab": {
          "base_uri": "https://localhost:8080/"
        },
        "id": "FTIlV1geNBWw",
        "outputId": "c402843b-fb13-46d7-bd63-1fceb960d6ee"
      },
      "source": [
        "### Most real\n",
        "sorted(zip(classifier.coef_[0], feature_names), reverse=True)[:20]"
      ],
      "execution_count": 45,
      "outputs": [
        {
          "output_type": "execute_result",
          "data": {
            "text/plain": [
              "[(-4.9540335550698495, 'hillari'),\n",
              " (-4.985143813810478, 'trump'),\n",
              " (-5.09396777078389, 'clinton'),\n",
              " (-5.406224434792623, 'elect'),\n",
              " (-5.720704731812889, 'video'),\n",
              " (-5.773549474756074, 'comment'),\n",
              " (-5.796370993571742, 'war'),\n",
              " (-5.813919655860566, 'us'),\n",
              " (-5.886315118097155, 'fbi'),\n",
              " (-5.887681855526012, 'hillari clinton'),\n",
              " (-5.937650910283555, 'vote'),\n",
              " (-5.955192196052632, 'world'),\n",
              " (-6.040948488999476, 'email'),\n",
              " (-6.133757591036376, 'obama'),\n",
              " (-6.144495883768216, 'america'),\n",
              " (-6.164714961804142, 'russia'),\n",
              " (-6.228464630593834, 'day'),\n",
              " (-6.234273085996778, 'american'),\n",
              " (-6.288053898708686, 'break'),\n",
              " (-6.3129601417365455, 'presid')]"
            ]
          },
          "metadata": {
            "tags": []
          },
          "execution_count": 45
        }
      ]
    },
    {
      "cell_type": "code",
      "metadata": {
        "colab": {
          "base_uri": "https://localhost:8080/"
        },
        "id": "AAA5gFb_NBWy",
        "outputId": "c5bd998f-de93-4ed6-ff00-e756fac23379"
      },
      "source": [
        "### Most fake\n",
        "sorted(zip(classifier.coef_[0], feature_names))[:5000]"
      ],
      "execution_count": 46,
      "outputs": [
        {
          "output_type": "execute_result",
          "data": {
            "text/plain": [
              "[(-9.899722583188804, 'abe'),\n",
              " (-9.899722583188804, 'abroad'),\n",
              " (-9.899722583188804, 'abus new'),\n",
              " (-9.899722583188804, 'abus new york'),\n",
              " (-9.899722583188804, 'act new'),\n",
              " (-9.899722583188804, 'act new york'),\n",
              " (-9.899722583188804, 'advic'),\n",
              " (-9.899722583188804, 'advis new'),\n",
              " (-9.899722583188804, 'advis new york'),\n",
              " (-9.899722583188804, 'age new'),\n",
              " (-9.899722583188804, 'age new york'),\n",
              " (-9.899722583188804, 'agenda breitbart'),\n",
              " (-9.899722583188804, 'ail'),\n",
              " (-9.899722583188804, 'aleppo new'),\n",
              " (-9.899722583188804, 'aleppo new york'),\n",
              " (-9.899722583188804, 'ali'),\n",
              " (-9.899722583188804, 'america breitbart'),\n",
              " (-9.899722583188804, 'america new york'),\n",
              " (-9.899722583188804, 'american breitbart'),\n",
              " (-9.899722583188804, 'american new'),\n",
              " (-9.899722583188804, 'american new york'),\n",
              " (-9.899722583188804, 'ami'),\n",
              " (-9.899722583188804, 'ami schumer'),\n",
              " (-9.899722583188804, 'amp'),\n",
              " (-9.899722583188804, 'ann'),\n",
              " (-9.899722583188804, 'ann coulter'),\n",
              " (-9.899722583188804, 'applaud'),\n",
              " (-9.899722583188804, 'arson'),\n",
              " (-9.899722583188804, 'asian'),\n",
              " (-9.899722583188804, 'assail'),\n",
              " (-9.899722583188804, 'athlet'),\n",
              " (-9.899722583188804, 'attack breitbart'),\n",
              " (-9.899722583188804, 'attack new'),\n",
              " (-9.899722583188804, 'attack new york'),\n",
              " (-9.899722583188804, 'attack syria'),\n",
              " (-9.899722583188804, 'attend'),\n",
              " (-9.899722583188804, 'avert'),\n",
              " (-9.899722583188804, 'away new'),\n",
              " (-9.899722583188804, 'away new york'),\n",
              " (-9.899722583188804, 'back new'),\n",
              " (-9.899722583188804, 'back new york'),\n",
              " (-9.899722583188804, 'baltimor'),\n",
              " (-9.899722583188804, 'ban breitbart'),\n",
              " (-9.899722583188804, 'ban new'),\n",
              " (-9.899722583188804, 'ban new york'),\n",
              " (-9.899722583188804, 'bangladesh'),\n",
              " (-9.899722583188804, 'barron trump'),\n",
              " (-9.899722583188804, 'basic'),\n",
              " (-9.899722583188804, 'basketbal'),\n",
              " (-9.899722583188804, 'basketbal player'),\n",
              " (-9.899722583188804, 'baton'),\n",
              " (-9.899722583188804, 'baton roug'),\n",
              " (-9.899722583188804, 'battl new'),\n",
              " (-9.899722583188804, 'battl new york'),\n",
              " (-9.899722583188804, 'bay'),\n",
              " (-9.899722583188804, 'beach new'),\n",
              " (-9.899722583188804, 'beach new york'),\n",
              " (-9.899722583188804, 'begin new'),\n",
              " (-9.899722583188804, 'behead photo'),\n",
              " (-9.899722583188804, 'behind trump'),\n",
              " (-9.899722583188804, 'berkeley breitbart'),\n",
              " (-9.899722583188804, 'betsi'),\n",
              " (-9.899722583188804, 'betsi devo'),\n",
              " (-9.899722583188804, 'bill breitbart'),\n",
              " (-9.899722583188804, 'bill new'),\n",
              " (-9.899722583188804, 'bill new york'),\n",
              " (-9.899722583188804, 'bill reilli'),\n",
              " (-9.899722583188804, 'billi'),\n",
              " (-9.899722583188804, 'blue state'),\n",
              " (-9.899722583188804, 'blue state blue'),\n",
              " (-9.899722583188804, 'bolster'),\n",
              " (-9.899722583188804, 'border patrol'),\n",
              " (-9.899722583188804, 'border patrol agent'),\n",
              " (-9.899722583188804, 'border state'),\n",
              " (-9.899722583188804, 'border wall'),\n",
              " (-9.899722583188804, 'border wall breitbart'),\n",
              " (-9.899722583188804, 'bowl'),\n",
              " (-9.899722583188804, 'box offic'),\n",
              " (-9.899722583188804, 'bradi'),\n",
              " (-9.899722583188804, 'breath'),\n",
              " (-9.899722583188804, 'breitbart news daili'),\n",
              " (-9.899722583188804, 'brief new'),\n",
              " (-9.899722583188804, 'brief new york'),\n",
              " (-9.899722583188804, 'broadway'),\n",
              " (-9.899722583188804, 'bronx'),\n",
              " (-9.899722583188804, 'brooklyn'),\n",
              " (-9.899722583188804, 'brooklyn new'),\n",
              " (-9.899722583188804, 'brooklyn new york'),\n",
              " (-9.899722583188804, 'bureaucrat'),\n",
              " (-9.899722583188804, 'caitlyn'),\n",
              " (-9.899722583188804, 'caitlyn jenner'),\n",
              " (-9.899722583188804, 'cal'),\n",
              " (-9.899722583188804, 'california today'),\n",
              " (-9.899722583188804, 'calm'),\n",
              " (-9.899722583188804, 'campaign breitbart'),\n",
              " (-9.899722583188804, 'campaign new'),\n",
              " (-9.899722583188804, 'campaign new york'),\n",
              " (-9.899722583188804, 'campu breitbart'),\n",
              " (-9.899722583188804, 'cann'),\n",
              " (-9.899722583188804, 'car new'),\n",
              " (-9.899722583188804, 'car new york'),\n",
              " (-9.899722583188804, 'care act'),\n",
              " (-9.899722583188804, 'care act new'),\n",
              " (-9.899722583188804, 'care bill'),\n",
              " (-9.899722583188804, 'care breitbart'),\n",
              " (-9.899722583188804, 'carri fisher'),\n",
              " (-9.899722583188804, 'carson'),\n",
              " (-9.899722583188804, 'case new'),\n",
              " (-9.899722583188804, 'case new york'),\n",
              " (-9.899722583188804, 'castro'),\n",
              " (-9.899722583188804, 'caucu'),\n",
              " (-9.899722583188804, 'ceas'),\n",
              " (-9.899722583188804, 'ceas fire'),\n",
              " (-9.899722583188804, 'chamber'),\n",
              " (-9.899722583188804, 'championship'),\n",
              " (-9.899722583188804, 'championship new'),\n",
              " (-9.899722583188804, 'championship new york'),\n",
              " (-9.899722583188804, 'chang new'),\n",
              " (-9.899722583188804, 'chang new york'),\n",
              " (-9.899722583188804, 'charg new york'),\n",
              " (-9.899722583188804, 'charleston'),\n",
              " (-9.899722583188804, 'charlott'),\n",
              " (-9.899722583188804, 'cher'),\n",
              " (-9.899722583188804, 'chief new'),\n",
              " (-9.899722583188804, 'chief new york'),\n",
              " (-9.899722583188804, 'china new york'),\n",
              " (-9.899722583188804, 'chri christi'),\n",
              " (-9.899722583188804, 'christi'),\n",
              " (-9.899722583188804, 'christoph'),\n",
              " (-9.899722583188804, 'chuck'),\n",
              " (-9.899722583188804, 'chuck todd'),\n",
              " (-9.899722583188804, 'circuit'),\n",
              " (-9.899722583188804, 'citi new'),\n",
              " (-9.899722583188804, 'citi new york'),\n",
              " (-9.899722583188804, 'citizenship'),\n",
              " (-9.899722583188804, 'clinton new york'),\n",
              " (-9.899722583188804, 'clue'),\n",
              " (-9.899722583188804, 'coach'),\n",
              " (-9.899722583188804, 'colleg new'),\n",
              " (-9.899722583188804, 'colleg new york'),\n",
              " (-9.899722583188804, 'collid'),\n",
              " (-9.899722583188804, 'collin'),\n",
              " (-9.899722583188804, 'comedi'),\n",
              " (-9.899722583188804, 'comedi central'),\n",
              " (-9.899722583188804, 'comey fire'),\n",
              " (-9.899722583188804, 'commission'),\n",
              " (-9.899722583188804, 'common core'),\n",
              " (-9.899722583188804, 'common ground'),\n",
              " (-9.899722583188804, 'compet'),\n",
              " (-9.899722583188804, 'complex'),\n",
              " (-9.899722583188804, 'conceal'),\n",
              " (-9.899722583188804, 'confirm hear'),\n",
              " (-9.899722583188804, 'congress breitbart'),\n",
              " (-9.899722583188804, 'congress new york'),\n",
              " (-9.899722583188804, 'control new'),\n",
              " (-9.899722583188804, 'control new york'),\n",
              " (-9.899722583188804, 'convent new'),\n",
              " (-9.899722583188804, 'convent new york'),\n",
              " (-9.899722583188804, 'corner'),\n",
              " (-9.899722583188804, 'coulter'),\n",
              " (-9.899722583188804, 'counsel'),\n",
              " (-9.899722583188804, 'countri breitbart'),\n",
              " (-9.899722583188804, 'cours'),\n",
              " (-9.899722583188804, 'court block'),\n",
              " (-9.899722583188804, 'court new'),\n",
              " (-9.899722583188804, 'court new york'),\n",
              " (-9.899722583188804, 'court rule new'),\n",
              " (-9.899722583188804, 'cpac'),\n",
              " (-9.899722583188804, 'crash new'),\n",
              " (-9.899722583188804, 'crash new york'),\n",
              " (-9.899722583188804, 'crime breitbart'),\n",
              " (-9.899722583188804, 'crisi new'),\n",
              " (-9.899722583188804, 'crisi new york'),\n",
              " (-9.899722583188804, 'critic new'),\n",
              " (-9.899722583188804, 'crown'),\n",
              " (-9.899722583188804, 'cunningham'),\n",
              " (-9.899722583188804, 'curb'),\n",
              " (-9.899722583188804, 'davo'),\n",
              " (-9.899722583188804, 'day breitbart'),\n",
              " (-9.899722583188804, 'day new york'),\n",
              " (-9.899722583188804, 'day parad'),\n",
              " (-9.899722583188804, 'dead new'),\n",
              " (-9.899722583188804, 'dead new york'),\n",
              " (-9.899722583188804, 'deal breitbart'),\n",
              " (-9.899722583188804, 'deal new'),\n",
              " (-9.899722583188804, 'deal new york'),\n",
              " (-9.899722583188804, 'death new'),\n",
              " (-9.899722583188804, 'death new york'),\n",
              " (-9.899722583188804, 'debat new'),\n",
              " (-9.899722583188804, 'debat new york'),\n",
              " (-9.899722583188804, 'debbi reynold'),\n",
              " (-9.899722583188804, 'defi'),\n",
              " (-9.899722583188804, 'defund'),\n",
              " (-9.899722583188804, 'delingpol'),\n",
              " (-9.899722583188804, 'dem rep'),\n",
              " (-9.899722583188804, 'dem sen'),\n",
              " (-9.899722583188804, 'democrat breitbart'),\n",
              " (-9.899722583188804, 'democrat new'),\n",
              " (-9.899722583188804, 'democrat new york'),\n",
              " (-9.899722583188804, 'deport breitbart'),\n",
              " (-9.899722583188804, 'despair'),\n",
              " (-9.899722583188804, 'devo'),\n",
              " (-9.899722583188804, 'dh'),\n",
              " (-9.899722583188804, 'die new'),\n",
              " (-9.899722583188804, 'die new york'),\n",
              " (-9.899722583188804, 'diego'),\n",
              " (-9.899722583188804, 'disappoint'),\n",
              " (-9.899722583188804, 'divorc'),\n",
              " (-9.899722583188804, 'donald trump breitbart'),\n",
              " (-9.899722583188804, 'donald trump campaign'),\n",
              " (-9.899722583188804, 'donald trump inaugur'),\n",
              " (-9.899722583188804, 'dossier'),\n",
              " (-9.899722583188804, 'drama'),\n",
              " (-9.899722583188804, 'drive car'),\n",
              " (-9.899722583188804, 'drug new'),\n",
              " (-9.899722583188804, 'drug new york'),\n",
              " (-9.899722583188804, 'dunham'),\n",
              " (-9.899722583188804, 'dylann'),\n",
              " (-9.899722583188804, 'dylann roof'),\n",
              " (-9.899722583188804, 'eas'),\n",
              " (-9.899722583188804, 'easter'),\n",
              " (-9.899722583188804, 'economi new'),\n",
              " (-9.899722583188804, 'ecuador'),\n",
              " (-9.899722583188804, 'effort new york'),\n",
              " (-9.899722583188804, 'egyptair'),\n",
              " (-9.899722583188804, 'elect breitbart'),\n",
              " (-9.899722583188804, 'elect loss'),\n",
              " (-9.899722583188804, 'elect new york'),\n",
              " (-9.899722583188804, 'els new'),\n",
              " (-9.899722583188804, 'els new york'),\n",
              " (-9.899722583188804, 'embassi jerusalem'),\n",
              " (-9.899722583188804, 'emmi'),\n",
              " (-9.899722583188804, 'end new'),\n",
              " (-9.899722583188804, 'end new york'),\n",
              " (-9.899722583188804, 'england'),\n",
              " (-9.899722583188804, 'england patriot'),\n",
              " (-9.899722583188804, 'epa'),\n",
              " (-9.899722583188804, 'era new'),\n",
              " (-9.899722583188804, 'era new york'),\n",
              " (-9.899722583188804, 'espn'),\n",
              " (-9.899722583188804, 'europ new york'),\n",
              " (-9.899722583188804, 'european union'),\n",
              " (-9.899722583188804, 'even brief'),\n",
              " (-9.899722583188804, 'even brief new'),\n",
              " (-9.899722583188804, 'event breitbart'),\n",
              " (-9.899722583188804, 'execut order breitbart'),\n",
              " (-9.899722583188804, 'expand'),\n",
              " (-9.899722583188804, 'explain new'),\n",
              " (-9.899722583188804, 'explain new york'),\n",
              " (-9.899722583188804, 'extradit'),\n",
              " (-9.899722583188804, 'face new'),\n",
              " (-9.899722583188804, 'faction'),\n",
              " (-9.899722583188804, 'fake news breitbart'),\n",
              " (-9.899722583188804, 'fake news new'),\n",
              " (-9.899722583188804, 'falluja'),\n",
              " (-9.899722583188804, 'familiar'),\n",
              " (-9.899722583188804, 'farewel'),\n",
              " (-9.899722583188804, 'fargo'),\n",
              " (-9.899722583188804, 'fatal shoot'),\n",
              " (-9.899722583188804, 'fear new york'),\n",
              " (-9.899722583188804, 'fear trump'),\n",
              " (-9.899722583188804, 'feinstein'),\n",
              " (-9.899722583188804, 'fidel'),\n",
              " (-9.899722583188804, 'fidel castro'),\n",
              " (-9.899722583188804, 'fieri'),\n",
              " (-9.899722583188804, 'fight new'),\n",
              " (-9.899722583188804, 'fight new york'),\n",
              " (-9.899722583188804, 'fight trump'),\n",
              " (-9.899722583188804, 'filibust'),\n",
              " (-9.899722583188804, 'fillon'),\n",
              " (-9.899722583188804, 'find new york'),\n",
              " (-9.899722583188804, 'fire breitbart'),\n",
              " (-9.899722583188804, 'fire new york'),\n",
              " (-9.899722583188804, 'fisher'),\n",
              " (-9.899722583188804, 'fitton'),\n",
              " (-9.899722583188804, 'flight new'),\n",
              " (-9.899722583188804, 'flight new york'),\n",
              " (-9.899722583188804, 'fmr'),\n",
              " (-9.899722583188804, 'fort'),\n",
              " (-9.899722583188804, 'found new'),\n",
              " (-9.899722583188804, 'found new york'),\n",
              " (-9.899722583188804, 'fran oi'),\n",
              " (-9.899722583188804, 'fran oi fillon'),\n",
              " (-9.899722583188804, 'franc new'),\n",
              " (-9.899722583188804, 'franc new york'),\n",
              " (-9.899722583188804, 'freedom caucu'),\n",
              " (-9.899722583188804, 'french presidenti'),\n",
              " (-9.899722583188804, 'friday even'),\n",
              " (-9.899722583188804, 'friday even brief'),\n",
              " (-9.899722583188804, 'fs'),\n",
              " (-9.899722583188804, 'futur new'),\n",
              " (-9.899722583188804, 'futur new york'),\n",
              " (-9.899722583188804, 'gaffney'),\n",
              " (-9.899722583188804, 'game breitbart'),\n",
              " (-9.899722583188804, 'game new'),\n",
              " (-9.899722583188804, 'game new york'),\n",
              " (-9.899722583188804, 'gawker'),\n",
              " (-9.899722583188804, 'gener new'),\n",
              " (-9.899722583188804, 'gener new york'),\n",
              " (-9.899722583188804, 'georg michael'),\n",
              " (-9.899722583188804, 'get back'),\n",
              " (-9.899722583188804, 'get new'),\n",
              " (-9.899722583188804, 'go new york'),\n",
              " (-9.899722583188804, 'golden globe'),\n",
              " (-9.899722583188804, 'golden state'),\n",
              " (-9.899722583188804, 'golden state warrior'),\n",
              " (-9.899722583188804, 'goodel'),\n",
              " (-9.899722583188804, 'gop rep'),\n",
              " (-9.899722583188804, 'gop sen'),\n",
              " (-9.899722583188804, 'gorka'),\n",
              " (-9.899722583188804, 'gorsuch'),\n",
              " (-9.899722583188804, 'gorsuch breitbart'),\n",
              " (-9.899722583188804, 'gorsuch confirm'),\n",
              " (-9.899722583188804, 'govern new york'),\n",
              " (-9.899722583188804, 'grammi'),\n",
              " (-9.899722583188804, 'gray'),\n",
              " (-9.899722583188804, 'griffin'),\n",
              " (-9.899722583188804, 'grow new'),\n",
              " (-9.899722583188804, 'grow new york'),\n",
              " (-9.899722583188804, 'guant'),\n",
              " (-9.899722583188804, 'guant namo'),\n",
              " (-9.899722583188804, 'gulf'),\n",
              " (-9.899722583188804, 'gymnast'),\n",
              " (-9.899722583188804, 'hack new'),\n",
              " (-9.899722583188804, 'hack new york'),\n",
              " (-9.899722583188804, 'hbo'),\n",
              " (-9.899722583188804, 'health bill'),\n",
              " (-9.899722583188804, 'health care bill'),\n",
              " (-9.899722583188804, 'health insur'),\n",
              " (-9.899722583188804, 'health law'),\n",
              " (-9.899722583188804, 'healthcar bill'),\n",
              " (-9.899722583188804, 'hear new'),\n",
              " (-9.899722583188804, 'hear new york'),\n",
              " (-9.899722583188804, 'heart new'),\n",
              " (-9.899722583188804, 'heart new york'),\n",
              " (-9.899722583188804, 'high school'),\n",
              " (-9.899722583188804, 'histori new'),\n",
              " (-9.899722583188804, 'histori new york'),\n",
              " (-9.899722583188804, 'hockey'),\n",
              " (-9.899722583188804, 'holiday'),\n",
              " (-9.899722583188804, 'home new'),\n",
              " (-9.899722583188804, 'home new york'),\n",
              " (-9.899722583188804, 'hometown'),\n",
              " (-9.899722583188804, 'horribl'),\n",
              " (-9.899722583188804, 'hous breitbart'),\n",
              " (-9.899722583188804, 'hous new york'),\n",
              " (-9.899722583188804, 'hungari'),\n",
              " (-9.899722583188804, 'hurrican matthew'),\n",
              " (-9.899722583188804, 'imam'),\n",
              " (-9.899722583188804, 'immigr order'),\n",
              " (-9.899722583188804, 'inaugur speech'),\n",
              " (-9.899722583188804, 'inquiri new'),\n",
              " (-9.899722583188804, 'inquiri new york'),\n",
              " (-9.899722583188804, 'intend'),\n",
              " (-9.899722583188804, 'interest rate'),\n",
              " (-9.899722583188804, 'investig breitbart'),\n",
              " (-9.899722583188804, 'investig new york'),\n",
              " (-9.899722583188804, 'investig trump'),\n",
              " (-9.899722583188804, 'isi new'),\n",
              " (-9.899722583188804, 'isi new york'),\n",
              " (-9.899722583188804, 'islam state support'),\n",
              " (-9.899722583188804, 'isol'),\n",
              " (-9.899722583188804, 'issu new'),\n",
              " (-9.899722583188804, 'issu new york'),\n",
              " (-9.899722583188804, 'jacki'),\n",
              " (-9.899722583188804, 'jake'),\n",
              " (-9.899722583188804, 'jane'),\n",
              " (-9.899722583188804, 'jare kushner'),\n",
              " (-9.899722583188804, 'jerri'),\n",
              " (-9.899722583188804, 'jerri brown'),\n",
              " (-9.899722583188804, 'jo'),\n",
              " (-9.899722583188804, 'job breitbart'),\n",
              " (-9.899722583188804, 'job new'),\n",
              " (-9.899722583188804, 'job new york'),\n",
              " (-9.899722583188804, 'jong'),\n",
              " (-9.899722583188804, 'jong nam'),\n",
              " (-9.899722583188804, 'jong un'),\n",
              " (-9.899722583188804, 'journey'),\n",
              " (-9.899722583188804, 'jr'),\n",
              " (-9.899722583188804, 'judici'),\n",
              " (-9.899722583188804, 'justin'),\n",
              " (-9.899722583188804, 'kabul'),\n",
              " (-9.899722583188804, 'kathi'),\n",
              " (-9.899722583188804, 'kathi griffin'),\n",
              " (-9.899722583188804, 'kati'),\n",
              " (-9.899722583188804, 'kellogg'),\n",
              " (-9.899722583188804, 'kevin'),\n",
              " (-9.899722583188804, 'kill new'),\n",
              " (-9.899722583188804, 'kill new york'),\n",
              " (-9.899722583188804, 'kim jong'),\n",
              " (-9.899722583188804, 'kim jong nam'),\n",
              " (-9.899722583188804, 'kim jong un'),\n",
              " (-9.899722583188804, 'know know'),\n",
              " (-9.899722583188804, 'know new york'),\n",
              " (-9.899722583188804, 'korea new'),\n",
              " (-9.899722583188804, 'korea new york'),\n",
              " (-9.899722583188804, 'krauthamm'),\n",
              " (-9.899722583188804, 'kushner'),\n",
              " (-9.899722583188804, 'la la'),\n",
              " (-9.899722583188804, 'la la land'),\n",
              " (-9.899722583188804, 'la land'),\n",
              " (-9.899722583188804, 'labour'),\n",
              " (-9.899722583188804, 'lago'),\n",
              " (-9.899722583188804, 'latin'),\n",
              " (-9.899722583188804, 'lauderdal'),\n",
              " (-9.899722583188804, 'law breitbart'),\n",
              " (-9.899722583188804, 'law new'),\n",
              " (-9.899722583188804, 'law new york'),\n",
              " (-9.899722583188804, 'lawyer say'),\n",
              " (-9.899722583188804, 'le pen'),\n",
              " (-9.899722583188804, 'leader new'),\n",
              " (-9.899722583188804, 'leader new york'),\n",
              " (-9.899722583188804, 'leaker'),\n",
              " (-9.899722583188804, 'legitim'),\n",
              " (-9.899722583188804, 'lena'),\n",
              " (-9.899722583188804, 'lena dunham'),\n",
              " (-9.899722583188804, 'levin'),\n",
              " (-9.899722583188804, 'lewi'),\n",
              " (-9.899722583188804, 'life new'),\n",
              " (-9.899722583188804, 'life new york'),\n",
              " (-9.899722583188804, 'linda'),\n",
              " (-9.899722583188804, 'linda sarsour'),\n",
              " (-9.899722583188804, 'line new'),\n",
              " (-9.899722583188804, 'line new york'),\n",
              " (-9.899722583188804, 'listen new'),\n",
              " (-9.899722583188804, 'listen new york'),\n",
              " (-9.899722583188804, 'lite'),\n",
              " (-9.899722583188804, 'live new'),\n",
              " (-9.899722583188804, 'live new york'),\n",
              " (-9.899722583188804, 'lo angel'),\n",
              " (-9.899722583188804, 'locht'),\n",
              " (-9.899722583188804, 'london attack'),\n",
              " (-9.899722583188804, 'long island'),\n",
              " (-9.899722583188804, 'loss new'),\n",
              " (-9.899722583188804, 'loss new york'),\n",
              " (-9.899722583188804, 'louvr'),\n",
              " (-9.899722583188804, 'machin new'),\n",
              " (-9.899722583188804, 'machin new york'),\n",
              " (-9.899722583188804, 'macron'),\n",
              " (-9.899722583188804, 'madonna'),\n",
              " (-9.899722583188804, 'maker'),\n",
              " (-9.899722583188804, 'malaysia'),\n",
              " (-9.899722583188804, 'mall'),\n",
              " (-9.899722583188804, 'man new'),\n",
              " (-9.899722583188804, 'man new york'),\n",
              " (-9.899722583188804, 'manchin'),\n",
              " (-9.899722583188804, 'manuel'),\n",
              " (-9.899722583188804, 'mar'),\n",
              " (-9.899722583188804, 'mar lago'),\n",
              " (-9.899722583188804, 'marcher'),\n",
              " (-9.899722583188804, 'marin le'),\n",
              " (-9.899722583188804, 'marin le pen'),\n",
              " (-9.899722583188804, 'market new'),\n",
              " (-9.899722583188804, 'market new york'),\n",
              " (-9.899722583188804, 'marlow'),\n",
              " (-9.899722583188804, 'match'),\n",
              " (-9.899722583188804, 'maxin'),\n",
              " (-9.899722583188804, 'maxin water'),\n",
              " (-9.899722583188804, 'mcconnel'),\n",
              " (-9.899722583188804, 'media breitbart'),\n",
              " (-9.899722583188804, 'media new'),\n",
              " (-9.899722583188804, 'media new york'),\n",
              " (-9.899722583188804, 'medicaid'),\n",
              " (-9.899722583188804, 'meet new'),\n",
              " (-9.899722583188804, 'memori day'),\n",
              " (-9.899722583188804, 'merger'),\n",
              " (-9.899722583188804, 'meryl'),\n",
              " (-9.899722583188804, 'meryl streep'),\n",
              " (-9.899722583188804, 'mexican border'),\n",
              " (-9.899722583188804, 'mexican cartel'),\n",
              " (-9.899722583188804, 'michael phelp'),\n",
              " (-9.899722583188804, 'militari new'),\n",
              " (-9.899722583188804, 'militari new york'),\n",
              " (-9.899722583188804, 'million new york'),\n",
              " (-9.899722583188804, 'milo breitbart'),\n",
              " (-9.899722583188804, 'milo event'),\n",
              " (-9.899722583188804, 'miss new'),\n",
              " (-9.899722583188804, 'miss new york'),\n",
              " (-9.899722583188804, 'mnuchin'),\n",
              " (-9.899722583188804, 'model new'),\n",
              " (-9.899722583188804, 'model new york'),\n",
              " (-9.899722583188804, 'modi'),\n",
              " (-9.899722583188804, 'monday brief'),\n",
              " (-9.899722583188804, 'monday brief new'),\n",
              " (-9.899722583188804, 'monday even'),\n",
              " (-9.899722583188804, 'monday even brief'),\n",
              " (-9.899722583188804, 'money new'),\n",
              " (-9.899722583188804, 'money new york'),\n",
              " (-9.899722583188804, 'month new'),\n",
              " (-9.899722583188804, 'month new york'),\n",
              " (-9.899722583188804, 'monument'),\n",
              " (-9.899722583188804, 'moonlight'),\n",
              " (-9.899722583188804, 'morn brief'),\n",
              " (-9.899722583188804, 'morn brief new'),\n",
              " (-9.899722583188804, 'muhammad ali'),\n",
              " (-9.899722583188804, 'multipl'),\n",
              " (-9.899722583188804, 'mulvaney'),\n",
              " (-9.899722583188804, 'myanmar'),\n",
              " (-9.899722583188804, 'nam'),\n",
              " (-9.899722583188804, 'name new'),\n",
              " (-9.899722583188804, 'namo'),\n",
              " (-9.899722583188804, 'nanci'),\n",
              " (-9.899722583188804, 'nanci pelosi'),\n",
              " (-9.899722583188804, 'narendra'),\n",
              " (-9.899722583188804, 'narendra modi'),\n",
              " (-9.899722583188804, 'nat'),\n",
              " (-9.899722583188804, 'nation new'),\n",
              " (-9.899722583188804, 'nation new york'),\n",
              " (-9.899722583188804, 'nation secur advis'),\n",
              " (-9.899722583188804, 'navi seal'),\n",
              " (-9.899722583188804, 'near texa'),\n",
              " (-9.899722583188804, 'near texa border'),\n",
              " (-9.899722583188804, 'neil gorsuch'),\n",
              " (-9.899722583188804, 'netflix'),\n",
              " (-9.899722583188804, 'new england'),\n",
              " (-9.899722583188804, 'new england patriot'),\n",
              " (-9.899722583188804, 'new year eve'),\n",
              " (-9.899722583188804, 'new york new'),\n",
              " (-9.899722583188804, 'new york state'),\n",
              " (-9.899722583188804, 'news breitbart'),\n",
              " (-9.899722583188804, 'news cnn'),\n",
              " (-9.899722583188804, 'news daili'),\n",
              " (-9.899722583188804, 'news new'),\n",
              " (-9.899722583188804, 'news new york'),\n",
              " (-9.899722583188804, 'night new'),\n",
              " (-9.899722583188804, 'night new york'),\n",
              " (-9.899722583188804, 'nobel prize'),\n",
              " (-9.899722583188804, 'nomin'),\n",
              " (-9.899722583188804, 'nuclear option'),\n",
              " (-9.899722583188804, 'nune'),\n",
              " (-9.899722583188804, 'obama breitbart'),\n",
              " (-9.899722583188804, 'obama era'),\n",
              " (-9.899722583188804, 'obamacar breitbart'),\n",
              " (-9.899722583188804, 'obamacar lite'),\n",
              " (-9.899722583188804, 'obamacar repeal'),\n",
              " (-9.899722583188804, 'obamacar replac'),\n",
              " (-9.899722583188804, 'odd'),\n",
              " (-9.899722583188804, 'offic new'),\n",
              " (-9.899722583188804, 'offic new york'),\n",
              " (-9.899722583188804, 'offici say'),\n",
              " (-9.899722583188804, 'offici say new'),\n",
              " (-9.899722583188804, 'often'),\n",
              " (-9.899722583188804, 'oi'),\n",
              " (-9.899722583188804, 'oi fillon'),\n",
              " (-9.899722583188804, 'oliv'),\n",
              " (-9.899722583188804, 'olymp new'),\n",
              " (-9.899722583188804, 'olymp new york'),\n",
              " (-9.899722583188804, 'one new'),\n",
              " (-9.899722583188804, 'one new york'),\n",
              " (-9.899722583188804, 'op'),\n",
              " (-9.899722583188804, 'open door'),\n",
              " (-9.899722583188804, 'open new york'),\n",
              " (-9.899722583188804, 'oper new'),\n",
              " (-9.899722583188804, 'oppos trump'),\n",
              " (-9.899722583188804, 'order breitbart'),\n",
              " (-9.899722583188804, 'order new'),\n",
              " (-9.899722583188804, 'order new york'),\n",
              " (-9.899722583188804, 'orlando shoot'),\n",
              " (-9.899722583188804, 'orlean'),\n",
              " (-9.899722583188804, 'orovil'),\n",
              " (-9.899722583188804, 'outcri'),\n",
              " (-9.899722583188804, 'outlet'),\n",
              " (-9.899722583188804, 'overhaul'),\n",
              " (-9.899722583188804, 'pari agreement'),\n",
              " (-9.899722583188804, 'parti new'),\n",
              " (-9.899722583188804, 'parti new york'),\n",
              " (-9.899722583188804, 'passport'),\n",
              " (-9.899722583188804, 'past new'),\n",
              " (-9.899722583188804, 'past new york'),\n",
              " (-9.899722583188804, 'path new york'),\n",
              " (-9.899722583188804, 'patrol agent'),\n",
              " (-9.899722583188804, 'paul ryan obamacar'),\n",
              " (-9.899722583188804, 'pelosi'),\n",
              " (-9.899722583188804, 'penguin'),\n",
              " (-9.899722583188804, 'peopl breitbart'),\n",
              " (-9.899722583188804, 'perez'),\n",
              " (-9.899722583188804, 'persist'),\n",
              " (-9.899722583188804, 'person new york'),\n",
              " (-9.899722583188804, 'phelp'),\n",
              " (-9.899722583188804, 'pioneer'),\n",
              " (-9.899722583188804, 'plan new'),\n",
              " (-9.899722583188804, 'plan new york'),\n",
              " (-9.899722583188804, 'plane crash'),\n",
              " (-9.899722583188804, 'playoff'),\n",
              " (-9.899722583188804, 'poland'),\n",
              " (-9.899722583188804, 'polic new'),\n",
              " (-9.899722583188804, 'polic new york'),\n",
              " (-9.899722583188804, 'polic say'),\n",
              " (-9.899722583188804, 'polic say new'),\n",
              " (-9.899722583188804, 'polic shoot'),\n",
              " (-9.899722583188804, 'polici breitbart'),\n",
              " (-9.899722583188804, 'polici new'),\n",
              " (-9.899722583188804, 'polici new york'),\n",
              " (-9.899722583188804, 'polit new'),\n",
              " (-9.899722583188804, 'polit new york'),\n",
              " (-9.899722583188804, 'politico'),\n",
              " (-9.899722583188804, 'post new'),\n",
              " (-9.899722583188804, 'post new york'),\n",
              " (-9.899722583188804, 'pound'),\n",
              " (-9.899722583188804, 'power new york'),\n",
              " (-9.899722583188804, 'pregnanc'),\n",
              " (-9.899722583188804, 'pregnant'),\n",
              " (-9.899722583188804, 'presid breitbart'),\n",
              " (-9.899722583188804, 'presid new'),\n",
              " (-9.899722583188804, 'presid new york'),\n",
              " (-9.899722583188804, 'presid trump breitbart'),\n",
              " (-9.899722583188804, 'presidenti debat'),\n",
              " (-9.899722583188804, 'press breitbart'),\n",
              " (-9.899722583188804, 'preview'),\n",
              " (-9.899722583188804, 'price new'),\n",
              " (-9.899722583188804, 'price new york'),\n",
              " (-9.899722583188804, 'priebu'),\n",
              " (-9.899722583188804, 'prison new'),\n",
              " (-9.899722583188804, 'prison new york'),\n",
              " (-9.899722583188804, 'problem new'),\n",
              " (-9.899722583188804, 'problem new york'),\n",
              " (-9.899722583188804, 'profession'),\n",
              " (-9.899722583188804, 'prompt'),\n",
              " (-9.899722583188804, 'protest breitbart'),\n",
              " (-9.899722583188804, 'protest new'),\n",
              " (-9.899722583188804, 'proud'),\n",
              " (-9.899722583188804, 'pruitt'),\n",
              " (-9.899722583188804, 'publish'),\n",
              " (-9.899722583188804, 'puerto'),\n",
              " (-9.899722583188804, 'quebec'),\n",
              " (-9.899722583188804, 'race new'),\n",
              " (-9.899722583188804, 'race new york'),\n",
              " (-9.899722583188804, 'rampag'),\n",
              " (-9.899722583188804, 'rand'),\n",
              " (-9.899722583188804, 'rand paul'),\n",
              " (-9.899722583188804, 'rang'),\n",
              " (-9.899722583188804, 'rebuk'),\n",
              " (-9.899722583188804, 'recal'),\n",
              " (-9.899722583188804, 'redston'),\n",
              " (-9.899722583188804, 'regist'),\n",
              " (-9.899722583188804, 'rein'),\n",
              " (-9.899722583188804, 'reinc'),\n",
              " (-9.899722583188804, 'reinc priebu'),\n",
              " (-9.899722583188804, 'reinstat'),\n",
              " (-9.899722583188804, 'repeal breitbart'),\n",
              " (-9.899722583188804, 'repeal obamacar'),\n",
              " (-9.899722583188804, 'repeat'),\n",
              " (-9.899722583188804, 'replac bill'),\n",
              " (-9.899722583188804, 'report ask'),\n",
              " (-9.899722583188804, 'report breitbart'),\n",
              " (-9.899722583188804, 'report obama'),\n",
              " (-9.899722583188804, 'report say'),\n",
              " (-9.899722583188804, 'report say new'),\n",
              " (-9.899722583188804, 'report trump'),\n",
              " (-9.899722583188804, 'republican new'),\n",
              " (-9.899722583188804, 'republican new york'),\n",
              " (-9.899722583188804, 'reshap'),\n",
              " (-9.899722583188804, 'rethink'),\n",
              " (-9.899722583188804, 'rex'),\n",
              " (-9.899722583188804, 'rex tillerson'),\n",
              " (-9.899722583188804, 'rhetor'),\n",
              " (-9.899722583188804, 'rico'),\n",
              " (-9.899722583188804, 'right breitbart'),\n",
              " (-9.899722583188804, 'right new'),\n",
              " (-9.899722583188804, 'right new york'),\n",
              " (-9.899722583188804, 'rio'),\n",
              " (-9.899722583188804, 'rio olymp'),\n",
              " (-9.899722583188804, 'riot breitbart'),\n",
              " (-9.899722583188804, 'rodrigo'),\n",
              " (-9.899722583188804, 'rodrigo dutert'),\n",
              " (-9.899722583188804, 'roger ail'),\n",
              " (-9.899722583188804, 'roug'),\n",
              " (-9.899722583188804, 'rout'),\n",
              " (-9.899722583188804, 'rule breitbart'),\n",
              " (-9.899722583188804, 'rule new'),\n",
              " (-9.899722583188804, 'rule new york'),\n",
              " (-9.899722583188804, 'russia new york'),\n",
              " (-9.899722583188804, 'russia probe'),\n",
              " (-9.899722583188804, 'russian ambassador'),\n",
              " (-9.899722583188804, 'russian hack'),\n",
              " (-9.899722583188804, 'ryan locht'),\n",
              " (-9.899722583188804, 'ryan obamacar'),\n",
              " (-9.899722583188804, 'ryan obamacar lite'),\n",
              " (-9.899722583188804, 'ryancar'),\n",
              " (-9.899722583188804, 'san diego'),\n",
              " (-9.899722583188804, 'sarsour'),\n",
              " (-9.899722583188804, 'saturday'),\n",
              " (-9.899722583188804, 'saturday night'),\n",
              " (-9.899722583188804, 'saturday night live'),\n",
              " (-9.899722583188804, 'say new'),\n",
              " (-9.899722583188804, 'say new york'),\n",
              " (-9.899722583188804, 'scalis'),\n",
              " (-9.899722583188804, 'scandal breitbart'),\n",
              " (-9.899722583188804, 'scandal new'),\n",
              " (-9.899722583188804, 'scandal new york'),\n",
              " (-9.899722583188804, 'school new'),\n",
              " (-9.899722583188804, 'school new york'),\n",
              " (-9.899722583188804, 'schumer'),\n",
              " (-9.899722583188804, 'schwarzenegg'),\n",
              " (-9.899722583188804, 'scott pruitt'),\n",
              " (-9.899722583188804, 'scrambl'),\n",
              " (-9.899722583188804, 'sea new'),\n",
              " (-9.899722583188804, 'sea new york'),\n",
              " (-9.899722583188804, 'sean spicer'),\n",
              " (-9.899722583188804, 'sear'),\n",
              " (-9.899722583188804, 'season new'),\n",
              " (-9.899722583188804, 'season new york'),\n",
              " (-9.899722583188804, 'secretari new'),\n",
              " (-9.899722583188804, 'secretari new york'),\n",
              " (-9.899722583188804, 'secur advis'),\n",
              " (-9.899722583188804, 'secur council'),\n",
              " (-9.899722583188804, 'segment'),\n",
              " (-9.899722583188804, 'self drive car'),\n",
              " (-9.899722583188804, 'senat breitbart'),\n",
              " (-9.899722583188804, 'senat confirm'),\n",
              " (-9.899722583188804, 'settlement new'),\n",
              " (-9.899722583188804, 'settlement new york'),\n",
              " (-9.899722583188804, 'sex offend'),\n",
              " (-9.899722583188804, 'sexual abus'),\n",
              " (-9.899722583188804, 'sharp'),\n",
              " (-9.899722583188804, 'shinzo'),\n",
              " (-9.899722583188804, 'shinzo abe'),\n",
              " (-9.899722583188804, 'shoot new'),\n",
              " (-9.899722583188804, 'shoot new york'),\n",
              " (-9.899722583188804, 'show new'),\n",
              " (-9.899722583188804, 'show new york'),\n",
              " (-9.899722583188804, 'skill'),\n",
              " (-9.899722583188804, 'skip'),\n",
              " (-9.899722583188804, 'smile'),\n",
              " (-9.899722583188804, 'smuggler'),\n",
              " (-9.899722583188804, 'somalia'),\n",
              " (-9.899722583188804, 'son law'),\n",
              " (-9.899722583188804, 'south carolina'),\n",
              " (-9.899722583188804, 'south korean'),\n",
              " (-9.899722583188804, 'spacex'),\n",
              " (-9.899722583188804, 'speaker paul'),\n",
              " (-9.899722583188804, 'speaker paul ryan'),\n",
              " (-9.899722583188804, 'specul'),\n",
              " (-9.899722583188804, 'speech breitbart'),\n",
              " (-9.899722583188804, 'speech new york'),\n",
              " (-9.899722583188804, 'spicer'),\n",
              " (-9.899722583188804, 'sport'),\n",
              " (-9.899722583188804, 'sport new'),\n",
              " (-9.899722583188804, 'sport new york'),\n",
              " (-9.899722583188804, 'spotlight'),\n",
              " (-9.899722583188804, 'stanc'),\n",
              " (-9.899722583188804, 'stanford'),\n",
              " (-9.899722583188804, 'star new'),\n",
              " (-9.899722583188804, 'star new york'),\n",
              " (-9.899722583188804, 'start new'),\n",
              " (-9.899722583188804, 'start new york'),\n",
              " (-9.899722583188804, 'state breitbart'),\n",
              " (-9.899722583188804, 'state new'),\n",
              " (-9.899722583188804, 'state new york'),\n",
              " (-9.899722583188804, 'state support'),\n",
              " (-9.899722583188804, 'state warrior'),\n",
              " (-9.899722583188804, 'stem'),\n",
              " (-9.899722583188804, 'step new'),\n",
              " (-9.899722583188804, 'step new york'),\n",
              " (-9.899722583188804, 'stephen bannon'),\n",
              " (-9.899722583188804, 'stockholm'),\n",
              " (-9.899722583188804, 'stori new'),\n",
              " (-9.899722583188804, 'stori new york'),\n",
              " (-9.899722583188804, 'strand'),\n",
              " (-9.899722583188804, 'streep'),\n",
              " (-9.899722583188804, 'street new york'),\n",
              " (-9.899722583188804, 'streisand'),\n",
              " (-9.899722583188804, 'student new'),\n",
              " (-9.899722583188804, 'student new york'),\n",
              " (-9.899722583188804, 'stumbl'),\n",
              " (-9.899722583188804, 'suburb'),\n",
              " (-9.899722583188804, 'subway'),\n",
              " (-9.899722583188804, 'suddenli'),\n",
              " (-9.899722583188804, 'sunday'),\n",
              " (-9.899722583188804, 'super bowl'),\n",
              " (-9.899722583188804, 'support donald'),\n",
              " (-9.899722583188804, 'support donald trump'),\n",
              " (-9.899722583188804, 'suprem court new'),\n",
              " (-9.899722583188804, 'swift'),\n",
              " (-9.899722583188804, 'swimmer'),\n",
              " (-9.899722583188804, 'syria new york'),\n",
              " (-9.899722583188804, 'syria strike'),\n",
              " (-9.899722583188804, 'taiwan'),\n",
              " (-9.899722583188804, 'takata'),\n",
              " (-9.899722583188804, 'takeaway'),\n",
              " (-9.899722583188804, 'taliban'),\n",
              " (-9.899722583188804, 'talk new'),\n",
              " (-9.899722583188804, 'tap'),\n",
              " (-9.899722583188804, 'tax return'),\n",
              " (-9.899722583188804, 'team new'),\n",
              " (-9.899722583188804, 'team new york'),\n",
              " (-9.899722583188804, 'temporari'),\n",
              " (-9.899722583188804, 'term new'),\n",
              " (-9.899722583188804, 'term new york'),\n",
              " (-9.899722583188804, 'terror breitbart'),\n",
              " (-9.899722583188804, 'terror new'),\n",
              " (-9.899722583188804, 'test new york'),\n",
              " (-9.899722583188804, 'texa border'),\n",
              " (-9.899722583188804, 'theresa'),\n",
              " (-9.899722583188804, 'theresa may'),\n",
              " (-9.899722583188804, 'thing new'),\n",
              " (-9.899722583188804, 'thing new york'),\n",
              " (-9.899722583188804, 'thursday'),\n",
              " (-9.899722583188804, 'thursday even'),\n",
              " (-9.899722583188804, 'thursday even brief'),\n",
              " (-9.899722583188804, 'tie new'),\n",
              " (-9.899722583188804, 'tie new york'),\n",
              " (-9.899722583188804, 'tillerson'),\n",
              " (-9.899722583188804, 'time new'),\n",
              " (-9.899722583188804, 'time new york'),\n",
              " (-9.899722583188804, 'titl new'),\n",
              " (-9.899722583188804, 'titl new york'),\n",
              " (-9.899722583188804, 'todd'),\n",
              " (-9.899722583188804, 'toll'),\n",
              " (-9.899722583188804, 'tom bradi'),\n",
              " (-9.899722583188804, 'tone'),\n",
              " (-9.899722583188804, 'tough'),\n",
              " (-9.899722583188804, 'tourist'),\n",
              " (-9.899722583188804, 'town hall'),\n",
              " (-9.899722583188804, 'town new'),\n",
              " (-9.899722583188804, 'town new york'),\n",
              " (-9.899722583188804, 'trailer breitbart'),\n",
              " (-9.899722583188804, 'tran'),\n",
              " (-9.899722583188804, 'transit team'),\n",
              " (-9.899722583188804, 'travel ban'),\n",
              " (-9.899722583188804, 'travel ban new'),\n",
              " (-9.899722583188804, 'trial new'),\n",
              " (-9.899722583188804, 'trial new york'),\n",
              " (-9.899722583188804, 'trophi'),\n",
              " (-9.899722583188804, 'trove'),\n",
              " (-9.899722583188804, 'trudeau'),\n",
              " (-9.899722583188804, 'trump admin'),\n",
              " (-9.899722583188804, 'trump border'),\n",
              " (-9.899722583188804, 'trump breitbart'),\n",
              " (-9.899722583188804, 'trump budget'),\n",
              " (-9.899722583188804, 'trump celebr'),\n",
              " (-9.899722583188804, 'trump choic'),\n",
              " (-9.899722583188804, 'trump could'),\n",
              " (-9.899722583188804, 'trump execut'),\n",
              " (-9.899722583188804, 'trump execut order'),\n",
              " (-9.899722583188804, 'trump fire'),\n",
              " (-9.899722583188804, 'trump first day'),\n",
              " (-9.899722583188804, 'trump go'),\n",
              " (-9.899722583188804, 'trump immigr'),\n",
              " (-9.899722583188804, 'trump immigr order'),\n",
              " (-9.899722583188804, 'trump keep'),\n",
              " (-9.899722583188804, 'trump may'),\n",
              " (-9.899722583188804, 'trump new york'),\n",
              " (-9.899722583188804, 'trump nomine'),\n",
              " (-9.899722583188804, 'trump order'),\n",
              " (-9.899722583188804, 'trump pick'),\n",
              " (-9.899722583188804, 'trump polici'),\n",
              " (-9.899722583188804, 'trump talk'),\n",
              " (-9.899722583188804, 'trump travel'),\n",
              " (-9.899722583188804, 'trump travel ban'),\n",
              " (-9.899722583188804, 'trump tri'),\n",
              " (-9.899722583188804, 'trump visit'),\n",
              " (-9.899722583188804, 'trump vow'),\n",
              " (-9.899722583188804, 'trump wall'),\n",
              " (-9.899722583188804, 'trump women'),\n",
              " (-9.899722583188804, 'tuesday brief'),\n",
              " (-9.899722583188804, 'tuesday brief new'),\n",
              " (-9.899722583188804, 'tuesday even'),\n",
              " (-9.899722583188804, 'tuesday even brief'),\n",
              " (-9.899722583188804, 'turmoil'),\n",
              " (-9.899722583188804, 'twitter breitbart'),\n",
              " (-9.899722583188804, 'two year'),\n",
              " (-9.899722583188804, 'uc davi'),\n",
              " (-9.899722583188804, 'unlik'),\n",
              " (-9.899722583188804, 'unmask'),\n",
              " (-9.899722583188804, 'upend'),\n",
              " (-9.899722583188804, 'uphold'),\n",
              " (-9.899722583188804, 'us new york'),\n",
              " (-9.899722583188804, 'vacat'),\n",
              " (-9.899722583188804, 'vacat new'),\n",
              " (-9.899722583188804, 'vacat new york'),\n",
              " (-9.899722583188804, 'vanish'),\n",
              " (-9.899722583188804, 'veto'),\n",
              " (-9.899722583188804, 'violenc new'),\n",
              " (-9.899722583188804, 'violenc new york'),\n",
              " (-9.899722583188804, 'virgil'),\n",
              " (-9.899722583188804, 'vogu'),\n",
              " (-9.899722583188804, 'volkswagen'),\n",
              " (-9.899722583188804, 'vote new'),\n",
              " (-9.899722583188804, 'vote new york'),\n",
              " (-9.899722583188804, 'voter id'),\n",
              " (-9.899722583188804, 'wait new'),\n",
              " (-9.899722583188804, 'wall breitbart'),\n",
              " (-9.899722583188804, 'war new'),\n",
              " (-9.899722583188804, 'war new york'),\n",
              " (-9.899722583188804, 'wari'),\n",
              " (-9.899722583188804, 'warn new'),\n",
              " (-9.899722583188804, 'warn new york'),\n",
              " (-9.899722583188804, 'warner'),\n",
              " (-9.899722583188804, 'warrior'),\n",
              " (-9.899722583188804, 'washington new'),\n",
              " (-9.899722583188804, 'washington new york'),\n",
              " (-9.899722583188804, 'water new'),\n",
              " (-9.899722583188804, 'water new york'),\n",
              " (-9.899722583188804, 'way new'),\n",
              " (-9.899722583188804, 'way new york'),\n",
              " (-9.899722583188804, 'wednesday brief'),\n",
              " (-9.899722583188804, 'wednesday brief new'),\n",
              " (-9.899722583188804, 'wednesday even'),\n",
              " (-9.899722583188804, 'wednesday even brief'),\n",
              " (-9.899722583188804, 'week new'),\n",
              " (-9.899722583188804, 'week new york'),\n",
              " (-9.899722583188804, 'weekend brief'),\n",
              " (-9.899722583188804, 'weekend brief new'),\n",
              " (-9.899722583188804, 'weekend new'),\n",
              " (-9.899722583188804, 'weekend new york'),\n",
              " (-9.899722583188804, 'well fargo'),\n",
              " (-9.899722583188804, 'west bank'),\n",
              " (-9.899722583188804, 'westminst'),\n",
              " (-9.899722583188804, 'wh'),\n",
              " (-9.899722583188804, 'white hous breitbart'),\n",
              " (-9.899722583188804, 'white hous new'),\n",
              " (-9.899722583188804, 'white nationalist'),\n",
              " (-9.899722583188804, 'wider'),\n",
              " (-9.899722583188804, 'wield'),\n",
              " (-9.899722583188804, 'wildfir'),\n",
              " (-9.899722583188804, 'wimbledon'),\n",
              " (-9.899722583188804, 'win breitbart'),\n",
              " (-9.899722583188804, 'wiretap claim'),\n",
              " (-9.899722583188804, 'women march'),\n",
              " (-9.899722583188804, 'women new'),\n",
              " (-9.899722583188804, 'women new york'),\n",
              " (-9.899722583188804, 'work new'),\n",
              " (-9.899722583188804, 'work new york'),\n",
              " (-9.899722583188804, 'world new'),\n",
              " (-9.899722583188804, 'world new york'),\n",
              " (-9.899722583188804, 'worri new'),\n",
              " (-9.899722583188804, 'worri new york'),\n",
              " (-9.899722583188804, 'wrestl'),\n",
              " (-9.899722583188804, 'yahoo'),\n",
              " (-9.899722583188804, 'year breitbart'),\n",
              " (-9.899722583188804, 'year eve'),\n",
              " (-9.899722583188804, 'year new york'),\n",
              " (-9.899722583188804, 'york new'),\n",
              " (-9.899722583188804, 'york new york'),\n",
              " (-9.899722583188804, 'york state'),\n",
              " (-9.899722583188804, 'zone new'),\n",
              " (-9.899722583188804, 'zone new york'),\n",
              " (-9.899722583188804, 'zoo'),\n",
              " (-9.671550340827366, 'effort new'),\n",
              " (-9.665272525391279, 'applic'),\n",
              " (-9.664120583124312, 'primari'),\n",
              " (-9.655960885867248, 'lee'),\n",
              " (-9.654514990735079, 'open fire'),\n",
              " (-9.653966557906113, 'richard'),\n",
              " (-9.650780343185994, 'berlin'),\n",
              " (-9.648718104836107, 'blasio'),\n",
              " (-9.648718104836107, 'de blasio'),\n",
              " (-9.647592008876428, 'feet'),\n",
              " (-9.645850696935199, 'presid donald'),\n",
              " (-9.645850696935199, 'presid donald trump'),\n",
              " (-9.641169483005175, 'populist'),\n",
              " (-9.639002853770641, 'korean'),\n",
              " (-9.62998473542631, 'fair'),\n",
              " (-9.629813556944757, 'hammer'),\n",
              " (-9.628437824401127, 'fenc'),\n",
              " (-9.627741530623185, 'mayor de'),\n",
              " (-9.627741530623185, 'mayor de blasio'),\n",
              " (-9.623655365252468, 'lane'),\n",
              " (-9.618412666421541, 'north korean'),\n",
              " (-9.616491904112335, 'breitbart'),\n",
              " (-9.616265766712045, 'exploit'),\n",
              " (-9.613650689796687, 'pretti'),\n",
              " (-9.61294803783139, 'trump ask'),\n",
              " (-9.610012966444138, 'social media'),\n",
              " (-9.609972081312426, 'cheap'),\n",
              " (-9.604939429278835, 'urban'),\n",
              " (-9.604003148054174, 'ivanka trump'),\n",
              " (-9.603755219528608, 'missil strike'),\n",
              " (-9.60310943676467, 'work class'),\n",
              " (-9.602671333148242, 'state blue'),\n",
              " (-9.601783017827444, 'trump speech'),\n",
              " (-9.600969968895104, 'franken'),\n",
              " (-9.600887617476312, 'palin'),\n",
              " (-9.600637466717785, 'south china'),\n",
              " (-9.600637466717785, 'south china sea'),\n",
              " (-9.600307740407745, 'russia new'),\n",
              " (-9.599928342683114, 'night live'),\n",
              " (-9.599576824225375, 'fire new'),\n",
              " (-9.599459384125849, 'requir'),\n",
              " (-9.598240608779602, 'nafta'),\n",
              " (-9.597890649725263, 'strike syria'),\n",
              " (-9.597836783998451, 'tradit'),\n",
              " (-9.597000306820442, 'susan rice'),\n",
              " (-9.596533618933623, 'attack polic'),\n",
              " (-9.596318187863805, 'steadi'),\n",
              " (-9.596317996782908, 'trump inaugur'),\n",
              " (-9.595563902968982, 'tortur'),\n",
              " (-9.595091715855357, 'reagan'),\n",
              " (-9.59429735988639, 'acr'),\n",
              " (-9.593889872295183, 'find new'),\n",
              " (-9.593670246207402, 'support new'),\n",
              " (-9.59321934529675, 'tv show'),\n",
              " (-9.592705165919499, 'sarah palin'),\n",
              " (-9.592582671621722, 'seattl'),\n",
              " (-9.590910155724066, 'scrutini'),\n",
              " (-9.590702809228485, 'math'),\n",
              " (-9.590600794848603, 'speech new'),\n",
              " (-9.590320511853921, 'report find'),\n",
              " (-9.590250199963608, 'behead'),\n",
              " ...]"
            ]
          },
          "metadata": {
            "tags": []
          },
          "execution_count": 46
        }
      ]
    },
    {
      "cell_type": "code",
      "metadata": {
        "colab": {
          "base_uri": "https://localhost:8080/",
          "height": 347
        },
        "id": "K8kYDNKXNBWz",
        "outputId": "9d7a23d5-5863-4a2f-8893-acf3e80e9b9f"
      },
      "source": [
        "classifier.fit(X_train, y_train)\n",
        "pred = classifier.predict(X_test)\n",
        "score = metrics.accuracy_score(y_test, pred)\n",
        "print(\"accuracy:   %0.3f\" % score)\n",
        "cm = metrics.confusion_matrix(y_test, pred)\n",
        "plot_confusion_matrix(cm, classes=['FAKE', 'REAL'])"
      ],
      "execution_count": 47,
      "outputs": [
        {
          "output_type": "stream",
          "text": [
            "accuracy:   0.882\n",
            "Confusion matrix, without normalization\n"
          ],
          "name": "stdout"
        },
        {
          "output_type": "display_data",
          "data": {
            "image/png": "[encoded data removed]",
            "text/plain": [
              "<Figure size 432x288 with 2 Axes>"
            ]
          },
          "metadata": {
            "tags": [],
            "needs_background": "light"
          }
        }
      ]
    },
    {
      "cell_type": "code",
      "metadata": {
        "colab": {
          "base_uri": "https://localhost:8080/"
        },
        "id": "5h9qihZyYfV5",
        "outputId": "e41498f0-aa5a-4f6d-844e-b4b86cdc43a7"
      },
      "source": [
        "from sklearn.metrics import roc_curve\n",
        "from sklearn.metrics import roc_auc_score\n",
        "lr_probs = classifier.predict_proba(X_test)\n",
        "lr_probs = lr_probs[:, 1]\n",
        "lr_auc = roc_auc_score(y_test, lr_probs)\n",
        "print(lr_auc)"
      ],
      "execution_count": 48,
      "outputs": [
        {
          "output_type": "stream",
          "text": [
            "0.9660470594585167\n"
          ],
          "name": "stdout"
        }
      ]
    },
    {
      "cell_type": "code",
      "metadata": {
        "colab": {
          "base_uri": "https://localhost:8080/",
          "height": 283
        },
        "id": "2YnvT897YPaE",
        "outputId": "22160fca-867d-409e-912e-07f98a994dae"
      },
      "source": [
        "from matplotlib import pyplot\n",
        "# calculate roc curves\n",
        "test_fpr, test_tpr, _ = roc_curve(y_test, lr_probs)\n",
        "\n",
        "# plot the roc curve for the model\n",
        "# axis labels\n",
        "pyplot.xlabel('False Positive Rate')\n",
        "pyplot.ylabel('True Positive Rate')\n",
        "pyplot.plot(test_fpr,test_tpr,label=\"Independent test(AUC)=\"+str(lr_auc))\n",
        "# show the legend\n",
        "pyplot.plot([0, 1], [0, 1],'r--')\n",
        "pyplot.xlim([0, 1])\n",
        "pyplot.ylim([0, 1])\n",
        "pyplot.legend()\n",
        "# show the plot\n",
        "pyplot.show()"
      ],
      "execution_count": 49,
      "outputs": [
        {
          "output_type": "display_data",
          "data": {
            "image/png": "[encoded data removed]",
            "text/plain": [
              "<Figure size 432x288 with 1 Axes>"
            ]
          },
          "metadata": {
            "tags": [],
            "needs_background": "light"
          }
        }
      ]
    },
    {
      "cell_type": "code",
      "metadata": {
        "id": "4X_RO4trhvzj"
      },
      "source": [
        ""
      ],
      "execution_count": 49,
      "outputs": []
    }
  ]
}