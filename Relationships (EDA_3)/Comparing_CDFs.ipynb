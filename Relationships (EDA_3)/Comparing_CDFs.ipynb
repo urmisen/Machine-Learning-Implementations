{
  "nbformat": 4,
  "nbformat_minor": 0,
  "metadata": {
    "colab": {
      "name": "Comparing_CDFs.ipynb",
      "provenance": []
    },
    "kernelspec": {
      "name": "python3",
      "display_name": "Python 3"
    },
    "language_info": {
      "name": "python"
    }
  },
  "cells": [
    {
      "cell_type": "markdown",
      "metadata": {
        "id": "tPLtpmi3Sfln"
      },
      "source": [
        "###  Comparing CDFs\n",
        "To see whether the distribution of income is well modeled by a lognormal distribution, we'll compare the CDF of the logarithm of the data to a normal distribution with the same mean and standard deviation. These variables from the previous exercise are available for use:\n",
        "\n",
        "\n",
        "Extract realinc and compute its log:\n",
        "log_income = np.log10(gss['realinc'])\n",
        "\n",
        "Compute mean and standard deviation:\n",
        "mean, std = log_income.mean(), log_income.std()\n",
        "\n",
        "Make a norm object:\n",
        "from scipy.stats import norm\n",
        "dist = norm(mean, std)\n",
        "\n",
        "\n",
        "dist is a scipy.stats.norm object with the same mean and standard deviation as the data. It provides .cdf(), which evaluates the normal cumulative distribution function.\n",
        "\n",
        "Be careful with capitalization: Cdf(), with an uppercase C, creates Cdf objects. dist.cdf(), with a lowercase c, evaluates the normal cumulative distribution function.\n",
        "\n",
        "* Evaluate the normal cumulative distribution function using dist.cdf.\n",
        "* Use the Cdf() function to compute the CDF of log_income.\n",
        "* Plot the result.\n"
      ]
    },
    {
      "cell_type": "code",
      "metadata": {
        "id": "XTwG8ZQ9SabR"
      },
      "source": [
        "# Evaluate the model CDF\n",
        "xs = np.linspace(2, 5.5)\n",
        "ys = dist.cdf(xs)\n",
        "\n",
        "# Plot the model CDF\n",
        "plt.clf()\n",
        "plt.plot(xs, ys, color='gray')\n",
        "\n",
        "# Create and plot the Cdf of log_income\n",
        "Cdf(log_income).plot()\n",
        "    \n",
        "# Label the axes\n",
        "plt.xlabel('log10 of realinc')\n",
        "plt.ylabel('CDF')\n",
        "plt.show()"
      ],
      "execution_count": null,
      "outputs": []
    },
    {
      "cell_type": "code",
      "metadata": {
        "id": "kdMd_mUvFVSr"
      },
      "source": [
        ""
      ],
      "execution_count": null,
      "outputs": []
    }
  ]
}