{
  "nbformat": 4,
  "nbformat_minor": 0,
  "metadata": {
    "colab": {
      "name": "Extract_education_levels.ipynb",
      "provenance": []
    },
    "kernelspec": {
      "name": "python3",
      "display_name": "Python 3"
    },
    "language_info": {
      "name": "python"
    }
  },
  "cells": [
    {
      "cell_type": "markdown",
      "metadata": {
        "id": "tPLtpmi3Sfln"
      },
      "source": [
        "###  Extract education levels\n",
        "Let's create Boolean Series to identify respondents with different levels of education.\n",
        "\n",
        "In the U.S, 12 years of education usually means the respondent has completed high school (secondary education). A respondent with 14 years of education has probably completed an associate degree (two years of college); someone with 16 years has probably completed a bachelor's degree (four years of college).\n",
        "\n",
        "* Complete the line that identifies respondents with associate degrees, that is, people with 14 or more years of education but less than 16.\n",
        "* Complete the line that identifies respondents with 12 or fewer years of education.\n",
        "* Confirm that the mean of high is the fraction we computed in the previous exercise, about 53%."
      ]
    },
    {
      "cell_type": "code",
      "metadata": {
        "id": "XTwG8ZQ9SabR"
      },
      "source": [
        "# Select educ\n",
        "educ = gss['educ']\n",
        "\n",
        "# Bachelor's degree\n",
        "bach = (educ >= 16)\n",
        "\n",
        "# Associate degree\n",
        "assc = (educ >= 14) & (educ < 16)\n",
        "\n",
        "# High school (12 or fewer years of education)\n",
        "high = (educ <= 12)\n",
        "print(high.mean())"
      ],
      "execution_count": null,
      "outputs": []
    },
    {
      "cell_type": "code",
      "metadata": {
        "id": "kdMd_mUvFVSr"
      },
      "source": [
        ""
      ],
      "execution_count": null,
      "outputs": []
    }
  ]
}