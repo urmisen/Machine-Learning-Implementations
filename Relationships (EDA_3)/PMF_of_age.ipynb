{
  "nbformat": 4,
  "nbformat_minor": 0,
  "metadata": {
    "colab": {
      "name": "PMF of age.ipynb",
      "provenance": []
    },
    "kernelspec": {
      "name": "python3",
      "display_name": "Python 3"
    },
    "language_info": {
      "name": "python"
    }
  },
  "cells": [
    {
      "cell_type": "markdown",
      "metadata": {
        "id": "tPLtpmi3Sfln"
      },
      "source": [
        "###  PMF of age\n",
        "Do people tend to gain weight as they get older? We can answer this question by visualizing the relationship between weight and age. But before we make a scatter plot, it is a good idea to visualize distributions one variable at a time. Here, you'll visualize age using a bar chart first. Recall that all PMF objects have a .bar() method to make a bar chart.\n",
        "\n",
        "The BRFSS dataset includes a variable, 'AGE' (note the capitalization!), which represents each respondent's age. To protect respondents' privacy, ages are rounded off into 5-year bins. 'AGE' contains the midpoint of the bins.\n",
        "\n",
        "* Extract the variable 'AGE' from the DataFrame brfss and assign it to age.\n",
        "* Get the PMF of age and plot it as a bar chart.\n",
        "\n"
      ]
    },
    {
      "cell_type": "code",
      "metadata": {
        "id": "XTwG8ZQ9SabR"
      },
      "source": [
        "# Extract age\n",
        "age = brfss.AGE\n",
        "\n",
        "# Plot the PMF\n",
        "pmf_age = Pmf(age)\n",
        "pmf_age.bar()\n",
        "\n",
        "# Label the axes\n",
        "plt.xlabel('Age in years')\n",
        "plt.ylabel('PMF')\n",
        "plt.show()"
      ],
      "execution_count": null,
      "outputs": []
    },
    {
      "cell_type": "code",
      "metadata": {
        "id": "kdMd_mUvFVSr"
      },
      "source": [
        ""
      ],
      "execution_count": null,
      "outputs": []
    }
  ]
}