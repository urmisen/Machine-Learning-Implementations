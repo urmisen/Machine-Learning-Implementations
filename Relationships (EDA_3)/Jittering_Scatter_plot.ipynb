{
  "nbformat": 4,
  "nbformat_minor": 0,
  "metadata": {
    "colab": {
      "name": "Jittering_Scatter plot.ipynb",
      "provenance": []
    },
    "kernelspec": {
      "name": "python3",
      "display_name": "Python 3"
    },
    "language_info": {
      "name": "python"
    }
  },
  "cells": [
    {
      "cell_type": "markdown",
      "metadata": {
        "id": "tPLtpmi3Sfln"
      },
      "source": [
        "###  Jittering\n",
        "In the previous exercise, the ages fall in columns because they've been rounded into 5-year bins. If we jitter them, the scatter plot will show the relationship more clearly. Recall how Allen jittered height and weight in the video:\n",
        "\n",
        "height_jitter = height + np.random.normal(0, 2, size=len(brfss))\n",
        "weight_jitter = weight + np.random.normal(0, 2, size=len\n",
        "\n",
        "* Add random noise to age with mean 0 and standard deviation 2.5.\n",
        "* Make a scatter plot between weight and age with marker size 5 and alpha=0.2. Be sure to also specify 'o'.\n",
        "\n"
      ]
    },
    {
      "cell_type": "code",
      "metadata": {
        "id": "XTwG8ZQ9SabR"
      },
      "source": [
        "# Select the first 1000 respondents\n",
        "brfss = brfss[:1000]\n",
        "\n",
        "# Add jittering to age\n",
        "age = brfss['AGE'] + np.random.normal(0,2.5,size=len(brfss))\n",
        "# Extract weight\n",
        "weight = brfss['WTKG3']\n",
        "\n",
        "# Make a scatter plot\n",
        "plt.plot(age,weight,'o',alpha=0.2,markersize=5)\n",
        "\n",
        "plt.xlabel('Age in years')\n",
        "plt.ylabel('Weight in kg')\n",
        "plt.show()"
      ],
      "execution_count": null,
      "outputs": []
    },
    {
      "cell_type": "code",
      "metadata": {
        "id": "kdMd_mUvFVSr"
      },
      "source": [
        ""
      ],
      "execution_count": null,
      "outputs": []
    }
  ]
}