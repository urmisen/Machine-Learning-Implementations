{
  "nbformat": 4,
  "nbformat_minor": 0,
  "metadata": {
    "colab": {
      "name": "simple_regression.ipynb",
      "provenance": []
    },
    "kernelspec": {
      "name": "python3",
      "display_name": "Python 3"
    },
    "language_info": {
      "name": "python"
    }
  },
  "cells": [
    {
      "cell_type": "markdown",
      "metadata": {
        "id": "tPLtpmi3Sfln"
      },
      "source": [
        "###  Income and vegetables\n",
        "As we saw in a previous exercise, the variable '_VEGESU1' represents the number of vegetable servings respondents reported eating per day.\n",
        "\n",
        "Let's estimate the slope of the relationship between vegetable consumption and income.\n",
        "\n",
        "* Extract the columns 'INCOME2' and '_VEGESU1' from subset into xs and ys respectively.\n",
        "* Compute the simple linear regression of these variables."
      ]
    },
    {
      "cell_type": "code",
      "metadata": {
        "id": "XTwG8ZQ9SabR"
      },
      "source": [
        "from scipy.stats import linregress\n",
        "\n",
        "# Extract the variables\n",
        "subset = brfss.dropna(subset=['INCOME2', '_VEGESU1'])\n",
        "xs = subset['INCOME2']\n",
        "ys = subset['_VEGESU1']\n",
        "\n",
        "# Compute the linear regression\n",
        "res = linregress(xs,ys)\n",
        "print(res)"
      ],
      "execution_count": null,
      "outputs": []
    },
    {
      "cell_type": "code",
      "metadata": {
        "id": "kdMd_mUvFVSr"
      },
      "source": [
        ""
      ],
      "execution_count": null,
      "outputs": []
    }
  ]
}