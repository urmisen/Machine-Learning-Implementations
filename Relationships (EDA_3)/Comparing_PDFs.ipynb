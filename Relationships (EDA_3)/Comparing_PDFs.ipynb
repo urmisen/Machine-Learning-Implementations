{
  "nbformat": 4,
  "nbformat_minor": 0,
  "metadata": {
    "colab": {
      "name": "Comparing_PDFs.ipynb",
      "provenance": []
    },
    "kernelspec": {
      "name": "python3",
      "display_name": "Python 3"
    },
    "language_info": {
      "name": "python"
    }
  },
  "cells": [
    {
      "cell_type": "markdown",
      "metadata": {
        "id": "tPLtpmi3Sfln"
      },
      "source": [
        "###  Comparing PDFs\n",
        "In the previous exercise, we used CDFs to see if the distribution of income is lognormal. We can make the same comparison using a PDF and KDE. That's what you'll do in this exercise!\n",
        "\n",
        "As before, the norm object dist is available in your workspace:\n",
        "\n",
        "from scipy.stats import norm\n",
        "dist = norm(mean, std)\n",
        "Just as all norm objects have a .cdf() method, they also have a .pdf() method.\n",
        "\n",
        "To create a KDE plot, you can use Seaborn's kdeplot() function. To learn more about this function and Seaborn, you can check out DataCamp's Data Visualization with Seaborn course. Here, Seaborn has been imported for you as sns.\n",
        "\n",
        "* Evaluate the normal PDF using dist, which is a norm object with the same mean and standard deviation as the data.\n",
        "* Make a KDE plot of the logarithms of the incomes, using log_income, which is a Series object.\n"
      ]
    },
    {
      "cell_type": "code",
      "metadata": {
        "id": "XTwG8ZQ9SabR"
      },
      "source": [
        "# Evaluate the normal PDF\n",
        "xs = np.linspace(2, 5.5)\n",
        "ys = dist.pdf(xs)\n",
        "\n",
        "# Plot the model PDF\n",
        "plt.clf()\n",
        "plt.plot(xs, ys, color='gray')\n",
        "\n",
        "# Plot the data KDE\n",
        "sns.kdeplot(log_income)\n",
        "\n",
        "# Label the axes\n",
        "plt.xlabel('log10 of realinc')\n",
        "plt.ylabel('PDF')\n",
        "plt.show()"
      ],
      "execution_count": null,
      "outputs": []
    },
    {
      "cell_type": "code",
      "metadata": {
        "id": "kdMd_mUvFVSr"
      },
      "source": [
        ""
      ],
      "execution_count": null,
      "outputs": []
    }
  ]
}