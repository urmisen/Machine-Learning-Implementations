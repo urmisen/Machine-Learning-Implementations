{
  "nbformat": 4,
  "nbformat_minor": 0,
  "metadata": {
    "colab": {
      "name": " Computing_correlations.ipynb",
      "provenance": []
    },
    "kernelspec": {
      "name": "python3",
      "display_name": "Python 3"
    },
    "language_info": {
      "name": "python"
    }
  },
  "cells": [
    {
      "cell_type": "markdown",
      "metadata": {
        "id": "tPLtpmi3Sfln"
      },
      "source": [
        "###  Computing correlations\n",
        "The purpose of the BRFSS is to explore health risk factors, so it includes questions about diet. The variable '_VEGESU1' represents the number of servings of vegetables respondents reported eating per day.\n",
        "\n",
        "Let's see how this variable relates to age and income.\n",
        "\n",
        "* From the brfss DataFrame, select the columns 'AGE', 'INCOME2', and '_VEGESU1'.\n",
        "* Compute the correlation matrix for these variables."
      ]
    },
    {
      "cell_type": "code",
      "metadata": {
        "id": "XTwG8ZQ9SabR"
      },
      "source": [
        "# Select columns\n",
        "columns = ['AGE', 'INCOME2', '_VEGESU1']\n",
        "subset = brfss[columns]\n",
        "\n",
        "# Compute the correlation matrix\n",
        "print(subset.corr())"
      ],
      "execution_count": null,
      "outputs": []
    },
    {
      "cell_type": "code",
      "metadata": {
        "id": "kdMd_mUvFVSr"
      },
      "source": [
        ""
      ],
      "execution_count": null,
      "outputs": []
    }
  ]
}