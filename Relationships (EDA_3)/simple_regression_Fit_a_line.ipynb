{
  "nbformat": 4,
  "nbformat_minor": 0,
  "metadata": {
    "colab": {
      "name": "simple_regression_Fit_a_line.ipynb",
      "provenance": []
    },
    "kernelspec": {
      "name": "python3",
      "display_name": "Python 3"
    },
    "language_info": {
      "name": "python"
    }
  },
  "cells": [
    {
      "cell_type": "markdown",
      "metadata": {
        "id": "tPLtpmi3Sfln"
      },
      "source": [
        "###  Fit a line\n",
        "\n",
        "Continuing from the previous exercise:\n",
        "\n",
        "* Assume that xs and ys contain income codes and daily vegetable consumption, respectively, and\n",
        "\n",
        "* res contains the results of a simple linear regression of ys onto xs.\n",
        "\n",
        "Now, you're going to compute the line of best fit. NumPy has been imported for you as np.\n",
        "\n",
        "* Set fx to the minimum and maximum of xs, stored in a NumPy array.\n",
        "* Set fy to the points on the fitted line that correspond to the fx."
      ]
    },
    {
      "cell_type": "code",
      "metadata": {
        "id": "XTwG8ZQ9SabR"
      },
      "source": [
        "# Plot the scatter plot\n",
        "plt.clf()\n",
        "x_jitter = xs + np.random.normal(0, 0.15, len(xs))\n",
        "plt.plot(x_jitter, ys, 'o', alpha=0.2)\n",
        "\n",
        "# Plot the line of best fit\n",
        "fx = np.array([xs.min(), xs.max()])\n",
        "fy = res.slope * fx + res.intercept\n",
        "plt.plot(fx, fy, '-', alpha=0.7)\n",
        "\n",
        "plt.xlabel('Income code')\n",
        "plt.ylabel('Vegetable servings per day')\n",
        "plt.ylim([0, 6])\n",
        "plt.show()"
      ],
      "execution_count": null,
      "outputs": []
    },
    {
      "cell_type": "code",
      "metadata": {
        "id": "kdMd_mUvFVSr"
      },
      "source": [
        ""
      ],
      "execution_count": null,
      "outputs": []
    }
  ]
}