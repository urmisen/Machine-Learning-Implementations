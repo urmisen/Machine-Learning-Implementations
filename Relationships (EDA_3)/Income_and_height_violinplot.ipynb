{
  "nbformat": 4,
  "nbformat_minor": 0,
  "metadata": {
    "colab": {
      "name": " Income_and_height_violinplot.ipynb",
      "provenance": []
    },
    "kernelspec": {
      "name": "python3",
      "display_name": "Python 3"
    },
    "language_info": {
      "name": "python"
    }
  },
  "cells": [
    {
      "cell_type": "markdown",
      "metadata": {
        "id": "tPLtpmi3Sfln"
      },
      "source": [
        "###  Income and height\n",
        "Let's now use a violin plot to visualize the relationship between income and height.\n",
        "\n",
        "* Create a violin plot to plot the distribution of height ('HTM4') in each income ('INCOME2') group. Specify inner=None to simplify the plot.\n"
      ]
    },
    {
      "cell_type": "code",
      "metadata": {
        "id": "XTwG8ZQ9SabR"
      },
      "source": [
        "# Drop rows with missing data\n",
        "data = brfss.dropna(subset=['INCOME2', 'HTM4'])\n",
        "\n",
        "# Make a violin plot\n",
        "sns.violinplot('INCOME2','HTM4',inner=None,data=data)\n",
        "\n",
        "# Remove unneeded lines and label axes\n",
        "sns.despine(left=True, bottom=True)\n",
        "plt.xlabel('Income level')\n",
        "plt.ylabel('Height in cm')\n",
        "plt.show()\n"
      ],
      "execution_count": null,
      "outputs": []
    },
    {
      "cell_type": "code",
      "metadata": {
        "id": "kdMd_mUvFVSr"
      },
      "source": [
        ""
      ],
      "execution_count": null,
      "outputs": []
    }
  ]
}