{
  "nbformat": 4,
  "nbformat_minor": 0,
  "metadata": {
    "colab": {
      "name": "Exploring_the_NSFG_data.ipynb",
      "provenance": []
    },
    "kernelspec": {
      "name": "python3",
      "display_name": "Python 3"
    },
    "language_info": {
      "name": "python"
    }
  },
  "cells": [
    {
      "cell_type": "markdown",
      "metadata": {
        "id": "tPLtpmi3Sfln"
      },
      "source": [
        "###  Exploring the NSFG data\n",
        "To get the number of rows and columns in a DataFrame, you can read its shape attribute.\n",
        "\n",
        "To get the column names, you can read the columns attribute. The result is an Index, which is a Pandas data structure that is similar to a list. Let's begin exploring the NSFG data! It has been pre-loaded for you into a DataFrame called nsfg.\n",
        "\n",
        "* Calculate the number of rows and columns in the DataFrame nsfg.\n",
        "* Display the names of the columns in nsfg.\n",
        "* Select the column 'birthwgt_oz1' and assign it to a new variable called ounces.\n",
        "* Display the first 5 elements of ounces.\n"
      ]
    },
    {
      "cell_type": "code",
      "metadata": {
        "id": "XTwG8ZQ9SabR"
      },
      "source": [
        "# Display the number of rows and columns\n",
        "nsfg.shape\n",
        "\n",
        "# Display the names of the columns\n",
        "nsfg.columns\n",
        "\n",
        "# Select column birthwgt_oz1: ounces\n",
        "ounces = nsfg['birthwgt_oz1']\n",
        "\n",
        "# Print the first 5 elements of ounces\n",
        "print(ounces.head())"
      ],
      "execution_count": null,
      "outputs": []
    },
    {
      "cell_type": "code",
      "metadata": {
        "id": "ouaRhwmAFVmc"
      },
      "source": [
        ""
      ],
      "execution_count": null,
      "outputs": []
    },
    {
      "cell_type": "code",
      "metadata": {
        "id": "kdMd_mUvFVSr"
      },
      "source": [
        ""
      ],
      "execution_count": null,
      "outputs": []
    }
  ]
}